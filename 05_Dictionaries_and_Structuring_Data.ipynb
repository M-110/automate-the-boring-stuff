{
  "nbformat": 4,
  "nbformat_minor": 0,
  "metadata": {
    "colab": {
      "name": "05_Dictionaries_and_Structuring_Data.ipynb",
      "provenance": [],
      "collapsed_sections": [],
      "authorship_tag": "ABX9TyOT9d8gMH/qL8MkfFydG9/C",
      "include_colab_link": true
    },
    "kernelspec": {
      "name": "python3",
      "display_name": "Python 3"
    },
    "language_info": {
      "name": "python"
    }
  },
  "cells": [
    {
      "cell_type": "markdown",
      "metadata": {
        "id": "view-in-github",
        "colab_type": "text"
      },
      "source": [
        "<a href=\"https://colab.research.google.com/github/M-110/automate-the-boring-stuff/blob/main/05_Dictionaries_and_Structuring_Data.ipynb\" target=\"_parent\"><img src=\"https://colab.research.google.com/assets/colab-badge.svg\" alt=\"Open In Colab\"/></a>"
      ]
    },
    {
      "cell_type": "markdown",
      "metadata": {
        "id": "jpWUukeVpKZO"
      },
      "source": [
        "# Practice Projects"
      ]
    },
    {
      "cell_type": "markdown",
      "metadata": {
        "id": "z0TAwSL_pNVJ"
      },
      "source": [
        "## Chess Dict Validator"
      ]
    },
    {
      "cell_type": "code",
      "metadata": {
        "id": "3-uIkS6ApHLq"
      },
      "source": [
        "from collections import Counter\n",
        "\n",
        "SPACES = {rank + file for rank in '12345678' for file in 'abcdefgh'}\n",
        "PIECES = ['pawn', 'knight', 'bishop', 'rook', 'queen', 'king']\n",
        "def is_valid_chess_board(board):\n",
        "  pieces = dict(w=Counter(), b=Counter())\n",
        "  for position, piece in board.items():\n",
        "    if position not in SPACES:\n",
        "      print(f\"Invalid position: {position}\")\n",
        "      return False\n",
        "    if piece[1:] not in PIECES:\n",
        "      print(f'Invalid piece: {piece[1:]}')\n",
        "      return False\n",
        "    color = piece[0]\n",
        "    pieces[color][piece[1:]] += 1\n",
        "  for player in pieces.values():\n",
        "    if (player['pawn'] > 8 or\n",
        "        player['king'] != 1 or\n",
        "        sum(player.values()) > 16):\n",
        "      print(\"Invalid piece count\")\n",
        "      return False\n",
        "  return True\n",
        "\n"
      ],
      "execution_count": null,
      "outputs": []
    },
    {
      "cell_type": "code",
      "metadata": {
        "colab": {
          "base_uri": "https://localhost:8080/"
        },
        "id": "wDHnua--p3gI",
        "outputId": "768886cd-f416-4c6f-a982-e93ec351efc4"
      },
      "source": [
        "board = {'1h': 'bking', '6c': 'wqueen', '2g': 'bbishop', '5h': 'bqueen', '3e': 'wking'}\n",
        "is_valid_chess_board(board)"
      ],
      "execution_count": null,
      "outputs": [
        {
          "output_type": "execute_result",
          "data": {
            "text/plain": [
              "True"
            ]
          },
          "metadata": {},
          "execution_count": 48
        }
      ]
    },
    {
      "cell_type": "code",
      "metadata": {
        "colab": {
          "base_uri": "https://localhost:8080/"
        },
        "id": "c4S5gDHRp4Ap",
        "outputId": "97e824f5-6813-4b1a-8806-4729d3215eff"
      },
      "source": [
        "board = {'1h': 'bking', '6c': 'wqueen', '2g': 'bbishop', '5h': 'bqueen', '3e': 'wking', '3e': 'wpawn'}\n",
        "is_valid_chess_board(board)"
      ],
      "execution_count": null,
      "outputs": [
        {
          "output_type": "stream",
          "name": "stdout",
          "text": [
            "Invalid piece count\n"
          ]
        },
        {
          "output_type": "execute_result",
          "data": {
            "text/plain": [
              "False"
            ]
          },
          "metadata": {},
          "execution_count": 49
        }
      ]
    },
    {
      "cell_type": "code",
      "metadata": {
        "colab": {
          "base_uri": "https://localhost:8080/"
        },
        "id": "TLUBOZPkqy6D",
        "outputId": "8c600800-d4fe-4a4c-a3c0-fc5b21f83b32"
      },
      "source": [
        "board = {'1h': 'bking', '6c': 'wqueen', '2g': 'bbishop', '5p': 'bqueen', '3e': 'wking', '3e': 'wpawn'}\n",
        "is_valid_chess_board(board)"
      ],
      "execution_count": null,
      "outputs": [
        {
          "output_type": "stream",
          "name": "stdout",
          "text": [
            "Invalid position: 5p\n"
          ]
        },
        {
          "output_type": "execute_result",
          "data": {
            "text/plain": [
              "False"
            ]
          },
          "metadata": {},
          "execution_count": 50
        }
      ]
    },
    {
      "cell_type": "code",
      "metadata": {
        "colab": {
          "base_uri": "https://localhost:8080/"
        },
        "id": "C0mD03Kgq6aG",
        "outputId": "652d048e-63a9-4f61-803e-e29146d8edb8"
      },
      "source": [
        "board = {'1h': 'bking', '6c': 'wsoldier', '2g': 'bbishop', '5p': 'bqueen', '3e': 'wking', '3e': 'wpawn'}\n",
        "is_valid_chess_board(board)"
      ],
      "execution_count": null,
      "outputs": [
        {
          "output_type": "stream",
          "name": "stdout",
          "text": [
            "Invalid piece: soldier\n"
          ]
        },
        {
          "output_type": "execute_result",
          "data": {
            "text/plain": [
              "False"
            ]
          },
          "metadata": {},
          "execution_count": 51
        }
      ]
    },
    {
      "cell_type": "markdown",
      "metadata": {
        "id": "kM8dUuIotkd6"
      },
      "source": [
        "## Fantasy Game Inventory"
      ]
    },
    {
      "cell_type": "code",
      "metadata": {
        "id": "VP5OVE4stgBo"
      },
      "source": [
        "def display_inventory(inventory):\n",
        "  \"\"\"Print a pretty display of the inventory.\"\"\"\n",
        "  print(\"Inventory:\")\n",
        "  for item, num in inventory.items():\n",
        "    print(f'{num} {item}')\n",
        "  total_items = sum(inventory.values())\n",
        "  print(f'Total number of items: {total_items}')"
      ],
      "execution_count": null,
      "outputs": []
    },
    {
      "cell_type": "code",
      "metadata": {
        "colab": {
          "base_uri": "https://localhost:8080/"
        },
        "id": "-PEEixE8uV7e",
        "outputId": "0f74758c-1aba-4139-d8d9-078d524f5def"
      },
      "source": [
        "inventory = {'rope': 1, 'torch': 6, 'gold coin': 42, 'dagger': 1, 'arrow': 12}\n",
        "display_inventory(inventory)"
      ],
      "execution_count": null,
      "outputs": [
        {
          "output_type": "stream",
          "name": "stdout",
          "text": [
            "Inventory:\n",
            "1 rope\n",
            "6 torch\n",
            "42 gold coin\n",
            "1 dagger\n",
            "12 arrow\n",
            "Total number of items: 62\n"
          ]
        }
      ]
    },
    {
      "cell_type": "markdown",
      "metadata": {
        "id": "HDL4eavhuhdP"
      },
      "source": [
        "### Add to inventory function"
      ]
    },
    {
      "cell_type": "code",
      "metadata": {
        "id": "8n61f15MuZ0U"
      },
      "source": [
        "def add_to_inventory(inventory, new_items):\n",
        "  for item in new_items:\n",
        "    inventory[item] = inventory.get(item, 0) + 1"
      ],
      "execution_count": null,
      "outputs": []
    },
    {
      "cell_type": "code",
      "metadata": {
        "id": "C6-u4IDXuwvN"
      },
      "source": [
        "add_to_inventory(inventory, ['rope', 'dagger', 'ruby', 'bike', 'ruby'])"
      ],
      "execution_count": null,
      "outputs": []
    },
    {
      "cell_type": "code",
      "metadata": {
        "colab": {
          "base_uri": "https://localhost:8080/"
        },
        "id": "K5C8FbWau2Tg",
        "outputId": "348079f4-a57a-4eec-9adb-c19beb81d4f8"
      },
      "source": [
        "display_inventory(inventory)"
      ],
      "execution_count": null,
      "outputs": [
        {
          "output_type": "stream",
          "name": "stdout",
          "text": [
            "Inventory:\n",
            "2 rope\n",
            "6 torch\n",
            "42 gold coin\n",
            "2 dagger\n",
            "12 arrow\n",
            "2 ruby\n",
            "1 bike\n",
            "Total number of items: 67\n"
          ]
        }
      ]
    }
  ]
}