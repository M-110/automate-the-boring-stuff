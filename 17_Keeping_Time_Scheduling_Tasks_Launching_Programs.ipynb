{
  "nbformat": 4,
  "nbformat_minor": 0,
  "metadata": {
    "colab": {
      "name": "17_Keeping_Time_Scheduling_Tasks_Launching_Programs.ipynb",
      "provenance": [],
      "collapsed_sections": [],
      "authorship_tag": "ABX9TyPNlmCjHL5TfTTP/w8Q6EDp",
      "include_colab_link": true
    },
    "kernelspec": {
      "name": "python3",
      "display_name": "Python 3"
    },
    "language_info": {
      "name": "python"
    }
  },
  "cells": [
    {
      "cell_type": "markdown",
      "metadata": {
        "id": "view-in-github",
        "colab_type": "text"
      },
      "source": [
        "<a href=\"https://colab.research.google.com/github/M-110/automate-the-boring-stuff/blob/main/17_Keeping_Time_Scheduling_Tasks_Launching_Programs.ipynb\" target=\"_parent\"><img src=\"https://colab.research.google.com/assets/colab-badge.svg\" alt=\"Open In Colab\"/></a>"
      ]
    },
    {
      "cell_type": "markdown",
      "metadata": {
        "id": "B8ug8Zx_h73o"
      },
      "source": [
        "# Project: Super Stopwatch"
      ]
    },
    {
      "cell_type": "code",
      "metadata": {
        "colab": {
          "base_uri": "https://localhost:8080/"
        },
        "id": "PbTDIlbUhneq",
        "outputId": "f5340cfe-0a41-424c-a4d4-135f3b00719d"
      },
      "source": [
        "%%writefile stopwatch.py\n",
        "#!/usr/bin/env python\n",
        "import time\n",
        "\n",
        "\n",
        "def main():\n",
        "  last_time = time.time()\n",
        "  laps = []\n",
        "  print('Hit enter to start a new lap')\n",
        "  try:\n",
        "    while True:\n",
        "      input('')\n",
        "      laps.append(time.time() - last_time)\n",
        "      last_time = time.time()\n",
        "      print(f'Lap #{len(laps)}: {laps[-1]}')\n",
        "  except KeyboardInterrupt:\n",
        "    print('\\nLap results:\\n================')\n",
        "    for i, lap in enumerate(laps, start=1):\n",
        "      print(f'Lap #{i}: {lap:.2f}')\n",
        "\n",
        "\n",
        "if __name__ == '__main__':\n",
        "  main()\n"
      ],
      "execution_count": null,
      "outputs": [
        {
          "output_type": "stream",
          "name": "stdout",
          "text": [
            "Writing stopwatch.py\n"
          ]
        }
      ]
    },
    {
      "cell_type": "code",
      "metadata": {
        "id": "WE8bfNxujKSM"
      },
      "source": [
        "!chmod +x stopwatch.py"
      ],
      "execution_count": null,
      "outputs": []
    },
    {
      "cell_type": "code",
      "metadata": {
        "colab": {
          "base_uri": "https://localhost:8080/"
        },
        "id": "aK2uukm0k6uO",
        "outputId": "f08258de-da04-4856-94d4-70e9c9487336"
      },
      "source": [
        "!./stopwatch.py"
      ],
      "execution_count": null,
      "outputs": [
        {
          "output_type": "stream",
          "name": "stdout",
          "text": [
            "Hit enter to start a new lap\n",
            "\n",
            "Lap #1: 2.252493381500244\n",
            "\n",
            "Lap #2: 1.1044199466705322\n",
            "\n",
            "Lap #3: 1.1058635711669922\n",
            "\n",
            "Lap #4: 0.8061566352844238\n",
            "\n",
            "Lap #5: 0.9045369625091553\n",
            "\n",
            "Lap #6: 0.9042949676513672\n",
            "\n",
            "Lap #7: 0.7047913074493408\n",
            "\n",
            "Lap #8: 0.8037741184234619\n",
            "\n",
            "Lap #9: 0.7032372951507568\n",
            "\n",
            "Lap #10: 0.803471565246582\n",
            "\n",
            "Lap #11: 0.8034982681274414\n",
            "\n",
            "Lap results:\n",
            "================\n",
            "Lap #1: 2.25\n",
            "Lap #2: 1.10\n",
            "Lap #3: 1.11\n",
            "Lap #4: 0.81\n",
            "Lap #5: 0.90\n",
            "Lap #6: 0.90\n",
            "Lap #7: 0.70\n",
            "Lap #8: 0.80\n",
            "Lap #9: 0.70\n",
            "Lap #10: 0.80\n",
            "Lap #11: 0.80\n",
            "^C\n"
          ]
        }
      ]
    },
    {
      "cell_type": "markdown",
      "metadata": {
        "id": "hE0QRDopmADI"
      },
      "source": [
        "# Threading"
      ]
    },
    {
      "cell_type": "code",
      "metadata": {
        "id": "wfdYKRAlk9vN"
      },
      "source": [
        "import threading\n",
        "import time"
      ],
      "execution_count": null,
      "outputs": []
    },
    {
      "cell_type": "code",
      "metadata": {
        "colab": {
          "base_uri": "https://localhost:8080/"
        },
        "id": "a9AruOczmDyp",
        "outputId": "f2b3933d-6db2-44ab-9069-8f01d11db0ae"
      },
      "source": [
        "def take_a_nap():\n",
        "  print('Taking a nap')\n",
        "  time.sleep(1)\n",
        "  print('Wake up!')\n",
        "\n",
        "thread = threading.Thread(target=take_a_nap)\n",
        "thread.start()\n",
        "\n",
        "print('End of script')"
      ],
      "execution_count": null,
      "outputs": [
        {
          "output_type": "stream",
          "name": "stdout",
          "text": [
            "Taking a nap\n",
            "End of script\n"
          ]
        }
      ]
    },
    {
      "cell_type": "markdown",
      "metadata": {
        "id": "1lkQFLi9nB0Q"
      },
      "source": [
        "# Project threaded downloading from XKCD"
      ]
    },
    {
      "cell_type": "code",
      "metadata": {
        "id": "6NyRV7o-mQKO"
      },
      "source": [
        "from pathlib import Path\n",
        "import time\n",
        "import threading\n",
        "\n",
        "import requests\n",
        "from bs4 import BeautifulSoup\n",
        "\n",
        "\n",
        "def download_all_xkcd_comics(home_page, dest='.', n=10):\n",
        "  \"\"\"Download all comics xkcd and save them to the destination.\"\"\"\n",
        "  dest = Path(dest)\n",
        "  if not dest.is_dir():\n",
        "    dest.mkdir()\n",
        "  home = BeautifulSoup(requests.get(home_page).text)\n",
        "  count = home.find('a', rel='prev')['href'].strip('/')\n",
        "  download_threads = []\n",
        "  for i in range(1, 200, n):\n",
        "    download_thread = threading.Thread(target=download_n_xcd_comics,\n",
        "                                       args=(home_page, dest, i, n))\n",
        "    download_threads.append(download_thread)\n",
        "  for thread in download_threads:\n",
        "    thread.start()\n",
        "  for thread in download_threads:\n",
        "    thread.join()\n",
        "  print(f'Saved 200 files to {str(dest)}')\n",
        "\n",
        "\n",
        "def download_n_xcd_comics(home_page, dest, i, n):\n",
        "  for j in range(n):\n",
        "    html = requests.get(f'{home_page}/{i + j}').text\n",
        "    page = BeautifulSoup(html)\n",
        "    download_comic_from_page(page, dest, i + j)\n",
        "\n",
        "\n",
        "\n",
        "def download_comic_from_page(page, dest, i, retry=True):\n",
        "  \"\"\"Download the comic image from the page to target directory.\"\"\"\n",
        "  try:\n",
        "    img = page.find('div', id='comic').img['src']\n",
        "    img_content = requests.get('http:' + img).content\n",
        "    with open(dest / f\"{i:04}_{img.split('/')[-1]}\", 'wb') as img_file:\n",
        "      img_file.write(img_content)\n",
        "  except:\n",
        "    if retry:\n",
        "      time.sleep(1)\n",
        "      print(f'Retrying downloading comic #{i}')\n",
        "      download_comic_from_page(page, dest, i, retry=False)\n",
        "    else:\n",
        "      print(f'Failed to download comic #{i}')\n"
      ],
      "execution_count": null,
      "outputs": []
    },
    {
      "cell_type": "code",
      "metadata": {
        "colab": {
          "base_uri": "https://localhost:8080/"
        },
        "id": "drONtOYgnO2w",
        "outputId": "e56977f8-12c1-42d7-d68d-063f1526b90a"
      },
      "source": [
        "download_all_xkcd_comics('https://xkcd.com', 'my_comics', n=10)"
      ],
      "execution_count": null,
      "outputs": [
        {
          "output_type": "stream",
          "name": "stdout",
          "text": [
            "Saved 200 files to my_comics\n"
          ]
        }
      ]
    },
    {
      "cell_type": "code",
      "metadata": {
        "colab": {
          "base_uri": "https://localhost:8080/"
        },
        "id": "SCdFmmPltvdO",
        "outputId": "f3a65c1c-a9a5-4614-fc02-e2d65220a219"
      },
      "source": [
        "!ls my_comics | wc -l"
      ],
      "execution_count": null,
      "outputs": [
        {
          "output_type": "stream",
          "name": "stdout",
          "text": [
            "200\n"
          ]
        }
      ]
    },
    {
      "cell_type": "markdown",
      "metadata": {
        "id": "epOCMOgWqyPi"
      },
      "source": [
        "# Launching Other Programs from Python"
      ]
    },
    {
      "cell_type": "code",
      "metadata": {
        "id": "2dR_nOjipgnx"
      },
      "source": [
        "import subprocess"
      ],
      "execution_count": null,
      "outputs": []
    },
    {
      "cell_type": "code",
      "metadata": {
        "id": "TG-QF_fwo3cy",
        "colab": {
          "base_uri": "https://localhost:8080/"
        },
        "outputId": "4bf08df0-6c11-4fce-dee1-41dc1d2c98ce"
      },
      "source": [
        "!echo \"Hello, World!\" > hello.txt"
      ],
      "execution_count": null,
      "outputs": [
        {
          "output_type": "stream",
          "name": "stdout",
          "text": [
            "cat: 'Hello, World!': No such file or directory\n"
          ]
        }
      ]
    },
    {
      "cell_type": "code",
      "metadata": {
        "id": "X86PZhgxrWOt",
        "colab": {
          "base_uri": "https://localhost:8080/"
        },
        "outputId": "a66ef8f9-6813-49ef-bbff-e5e78792a09f"
      },
      "source": [
        "subprocess.Popen(['start', 'hello.txt'], shell=True)"
      ],
      "execution_count": null,
      "outputs": [
        {
          "output_type": "execute_result",
          "data": {
            "text/plain": [
              "<subprocess.Popen at 0x7f77bb98ead0>"
            ]
          },
          "metadata": {},
          "execution_count": 3
        }
      ]
    },
    {
      "cell_type": "markdown",
      "metadata": {
        "id": "iQ9UYo_w2swW"
      },
      "source": [
        "# Project: Simple Countdown Program"
      ]
    },
    {
      "cell_type": "code",
      "metadata": {
        "id": "c-Fynb2oraPV",
        "colab": {
          "base_uri": "https://localhost:8080/"
        },
        "outputId": "0acd183f-0cec-47ab-c1f9-4b90b3b46c87"
      },
      "source": [
        "%%writefile countdown.py \n",
        "#!/usr/bin/env python\n",
        "\"\"\"A countdown timer that plays a sound at the end.\"\"\"\n",
        "import argparse\n",
        "import time\n",
        "import subprocess\n",
        "\n",
        "\n",
        "def main():\n",
        "  args = get_args()\n",
        "  for i in range(args.length, 0, -1):\n",
        "    print(i)\n",
        "    time.sleep(1)\n",
        "  print('Beep beep beep')\n",
        "  subprocess.Popen(['start', 'alarm.wav'], shell=True)\n",
        "\n",
        "\n",
        "def get_args():\n",
        "  \"\"\"Get arguments from command line\"\"\"\n",
        "  parser = argparse.ArgumentParser(\n",
        "    description=\"Create a countdown with a sound effect\"\n",
        "  )\n",
        "  parser.add_argument('length',\n",
        "                      type=int,\n",
        "                      help='Countdown length in seconds.')\n",
        "  return parser.parse_args()\n",
        "\n",
        "\n",
        "if __name__ == '__main__':\n",
        "  main()\n"
      ],
      "execution_count": null,
      "outputs": [
        {
          "output_type": "stream",
          "name": "stdout",
          "text": [
            "Writing countdown.py\n"
          ]
        }
      ]
    },
    {
      "cell_type": "code",
      "metadata": {
        "colab": {
          "base_uri": "https://localhost:8080/"
        },
        "id": "kaCEuoBA5xEd",
        "outputId": "8ea21208-8aa0-4af8-f05b-4bd2f7d65eb0"
      },
      "source": [
        "!python countdown.py 5"
      ],
      "execution_count": null,
      "outputs": [
        {
          "output_type": "stream",
          "name": "stdout",
          "text": [
            "5\n",
            "4\n",
            "3\n",
            "2\n",
            "1\n",
            "Beep beep beep\n",
            "alarm.wav: 1: alarm.wav: start: not found\n"
          ]
        }
      ]
    },
    {
      "cell_type": "markdown",
      "metadata": {
        "id": "vzq5Yw3J58xt"
      },
      "source": [
        "# Practice Projects"
      ]
    },
    {
      "cell_type": "markdown",
      "metadata": {
        "id": "rpBNzwl557JP"
      },
      "source": [
        "## Prettified Stopwatch"
      ]
    },
    {
      "cell_type": "code",
      "metadata": {
        "colab": {
          "base_uri": "https://localhost:8080/"
        },
        "id": "9j3eBzrP5y4e",
        "outputId": "0d8003ce-91cb-4470-d4d0-fb8c50f78660"
      },
      "source": [
        "%%writefile pretty_stopwatch.py\n",
        "#!/usr/bin/env python\n",
        "\"\"\"Run a stop watch that tracks laps.\"\"\"\n",
        "import time\n",
        "\n",
        "\n",
        "def main():\n",
        "  input('Press enter to begin a new lap')\n",
        "  laps = [time.time()]\n",
        "  try:\n",
        "    while True:\n",
        "      input('')\n",
        "      laps.append(time.time())\n",
        "      print(f'Lap #{len(laps)-1}: {laps[-1] - laps[-2]:.2f} '\n",
        "            f'({laps[-1] - laps[0]:.2f})', end='')\n",
        "  except KeyboardInterrupt:\n",
        "    pass\n",
        "\n",
        "\n",
        "if __name__ == '__main__':\n",
        "  main()\n",
        "    "
      ],
      "execution_count": null,
      "outputs": [
        {
          "output_type": "stream",
          "name": "stdout",
          "text": [
            "Overwriting pretty_stopwatch.py\n"
          ]
        }
      ]
    },
    {
      "cell_type": "code",
      "metadata": {
        "colab": {
          "base_uri": "https://localhost:8080/"
        },
        "id": "QUYi67XS6ae5",
        "outputId": "5676e7b4-40d7-4c81-e949-fe0ece256b65"
      },
      "source": [
        "!python pretty_stopwatch.py"
      ],
      "execution_count": null,
      "outputs": [
        {
          "output_type": "stream",
          "name": "stdout",
          "text": [
            "Press enter to begin a new lap\n",
            "\n",
            "Lap #1: 1.31 (1.31)\n",
            "Lap #2: 1.51 (2.81)\n",
            "Lap #3: 2.11 (4.92)\n",
            "Lap #4: 1.91 (6.84)\n",
            "Lap #5: 1.51 (8.34)\n",
            "Lap #6: 1.51 (9.85)\n",
            "Lap #7: 1.01 (10.86)\n",
            "Lap #8: 1.01 (11.86)\n",
            "Lap #9: 0.90 (12.77)\n",
            "Lap #10: 0.80 (13.57)^C\n"
          ]
        }
      ]
    },
    {
      "cell_type": "markdown",
      "metadata": {
        "id": "-Q19iE8E98fQ"
      },
      "source": [
        "# Scheduled Comic Downloader"
      ]
    },
    {
      "cell_type": "code",
      "metadata": {
        "colab": {
          "base_uri": "https://localhost:8080/"
        },
        "id": "XtZndl7d997s",
        "outputId": "d2ebc1b0-0c45-4a1d-8ad8-b4999893be97"
      },
      "source": [
        "%%writefile daily_comic_download.py\n",
        "#!/usr/bin/env python\n",
        "\"\"\"Downloads any new comics from websites.\"\"\"\n",
        "from pathlib import Path\n",
        "\n",
        "from bs4 import BeautifulSoup\n",
        "import requests\n",
        "\n",
        "\n",
        "def main():\n",
        "  save_dir = Path('lefthandtoons')\n",
        "  save_dir.mkdir(exist_ok=True)\n",
        "  html = requests.get('http://www.lefthandedtoons.com/').text\n",
        "  page = BeautifulSoup(html, 'html.parser')\n",
        "  img = page.find('img', class_='comicimage')['src']\n",
        "  \n",
        "  img_name = img.split('/')[-1]\n",
        "  if img_name not in [file.name for file in save_dir.iterdir()]:\n",
        "    with open(save_dir / img_name, 'wb') as img_file:\n",
        "      img_content = requests.get(img).content\n",
        "      img_file.write(img_content)\n",
        "    print(f'Saved new comic {img_name!r} to {save_dir.name} directory')\n",
        "  else:\n",
        "    print('No new comics found')\n",
        "\n",
        "if __name__ == '__main__':\n",
        "  main()\n"
      ],
      "execution_count": null,
      "outputs": [
        {
          "output_type": "stream",
          "name": "stdout",
          "text": [
            "Overwriting daily_comic_download.py\n"
          ]
        }
      ]
    },
    {
      "cell_type": "code",
      "metadata": {
        "colab": {
          "base_uri": "https://localhost:8080/"
        },
        "id": "mdD7vjYSB3vw",
        "outputId": "dba9de75-7306-46e6-9f81-3fe30f8f9883"
      },
      "source": [
        "!python daily_comic_download.py"
      ],
      "execution_count": null,
      "outputs": [
        {
          "output_type": "stream",
          "name": "stdout",
          "text": [
            "Saved new comic 'drew_ariotheory.gif' to lefthandtoons directory\n"
          ]
        }
      ]
    },
    {
      "cell_type": "code",
      "metadata": {
        "colab": {
          "base_uri": "https://localhost:8080/"
        },
        "id": "4eRrEabACZU_",
        "outputId": "d2cdf120-a678-427a-9c7e-395a27d92812"
      },
      "source": [
        "!python daily_comic_download.py"
      ],
      "execution_count": null,
      "outputs": [
        {
          "output_type": "stream",
          "name": "stdout",
          "text": [
            "No new comics found\n"
          ]
        }
      ]
    }
  ]
}