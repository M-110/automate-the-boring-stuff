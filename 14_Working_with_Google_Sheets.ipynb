{
  "nbformat": 4,
  "nbformat_minor": 0,
  "metadata": {
    "colab": {
      "name": "14_Working_with_Google_Sheets",
      "provenance": [],
      "collapsed_sections": [],
      "authorship_tag": "ABX9TyM6m2FCRJKb5krRSoI2NC5Q",
      "include_colab_link": true
    },
    "kernelspec": {
      "name": "python3",
      "display_name": "Python 3"
    },
    "language_info": {
      "name": "python"
    }
  },
  "cells": [
    {
      "cell_type": "markdown",
      "metadata": {
        "id": "view-in-github",
        "colab_type": "text"
      },
      "source": [
        "<a href=\"https://colab.research.google.com/github/M-110/automate-the-boring-stuff/blob/main/14_Working_with_Google_Sheets.ipynb\" target=\"_parent\"><img src=\"https://colab.research.google.com/assets/colab-badge.svg\" alt=\"Open In Colab\"/></a>"
      ]
    },
    {
      "cell_type": "markdown",
      "metadata": {
        "id": "ffwymWw9bkDa"
      },
      "source": [
        "# Setup\n"
      ]
    },
    {
      "cell_type": "code",
      "metadata": {
        "colab": {
          "base_uri": "https://localhost:8080/"
        },
        "id": "yZD8NFfLDU5b",
        "outputId": "2338decf-39be-45e2-f4e0-3e2f43d39769"
      },
      "source": [
        "!pip install ezsheets -q"
      ],
      "execution_count": null,
      "outputs": [
        {
          "output_type": "stream",
          "name": "stdout",
          "text": [
            "  Installing build dependencies ... \u001b[?25l\u001b[?25hdone\n",
            "  Getting requirements to build wheel ... \u001b[?25l\u001b[?25hdone\n",
            "    Preparing wheel metadata ... \u001b[?25l\u001b[?25hdone\n",
            "  Building wheel for ezsheets (PEP 517) ... \u001b[?25l\u001b[?25hdone\n"
          ]
        }
      ]
    },
    {
      "cell_type": "code",
      "metadata": {
        "colab": {
          "base_uri": "https://localhost:8080/"
        },
        "id": "uHwufJ6hDcDZ",
        "outputId": "69c8bfa5-fcb4-4311-9a76-0d047ca34179"
      },
      "source": [
        "from google.colab import drive\n",
        "drive.mount('/gdrive')"
      ],
      "execution_count": null,
      "outputs": [
        {
          "output_type": "stream",
          "name": "stdout",
          "text": [
            "Mounted at /gdrive\n"
          ]
        }
      ]
    },
    {
      "cell_type": "code",
      "metadata": {
        "colab": {
          "base_uri": "https://localhost:8080/"
        },
        "id": "GtJAxPMrHSeG",
        "outputId": "af076405-0bac-4b50-eff6-9e3138949e06"
      },
      "source": [
        "!cp /gdrive/MyDrive/env/sheets/* /content -v"
      ],
      "execution_count": null,
      "outputs": [
        {
          "output_type": "stream",
          "name": "stdout",
          "text": [
            "'/gdrive/MyDrive/env/sheets/credentials-sheets.json' -> '/content/credentials-sheets.json'\n",
            "'/gdrive/MyDrive/env/sheets/token-drive.pickle' -> '/content/token-drive.pickle'\n",
            "'/gdrive/MyDrive/env/sheets/token-sheets.pickle' -> '/content/token-sheets.pickle'\n"
          ]
        }
      ]
    },
    {
      "cell_type": "markdown",
      "metadata": {
        "id": "R5X0RsnzblWO"
      },
      "source": [
        "# Google Sheets\n"
      ]
    },
    {
      "cell_type": "code",
      "metadata": {
        "id": "f9TXGdZ6cE_j"
      },
      "source": [
        "import ezsheets"
      ],
      "execution_count": null,
      "outputs": []
    },
    {
      "cell_type": "code",
      "metadata": {
        "id": "JknCqO6Hcsri"
      },
      "source": [
        "sheet = ezsheets.createSpreadsheet('Temp')"
      ],
      "execution_count": null,
      "outputs": []
    },
    {
      "cell_type": "code",
      "metadata": {
        "colab": {
          "base_uri": "https://localhost:8080/",
          "height": 35
        },
        "id": "dNgYYQ4Mc0SD",
        "outputId": "3aad0197-7fd1-4592-a353-0a72e4002294"
      },
      "source": [
        "sheet.title"
      ],
      "execution_count": null,
      "outputs": [
        {
          "output_type": "execute_result",
          "data": {
            "application/vnd.google.colaboratory.intrinsic+json": {
              "type": "string"
            },
            "text/plain": [
              "'Temp'"
            ]
          },
          "metadata": {},
          "execution_count": 13
        }
      ]
    },
    {
      "cell_type": "code",
      "metadata": {
        "id": "2fylZRO6c5WB"
      },
      "source": [
        "# ezsheets.upload('my_spreadsheet.xlsx')"
      ],
      "execution_count": null,
      "outputs": []
    },
    {
      "cell_type": "code",
      "metadata": {
        "id": "hFv0Ai7IdAel"
      },
      "source": [
        "# ezsheets.listSpreadsheets()"
      ],
      "execution_count": null,
      "outputs": []
    },
    {
      "cell_type": "code",
      "metadata": {
        "id": "QhliWXLncARw"
      },
      "source": [
        "sheet = ezsheets.Spreadsheet('1yXRfS-hyKicpwZWzOgnh10yL5JS7A1tx2ecaRGIRQp8')"
      ],
      "execution_count": null,
      "outputs": []
    },
    {
      "cell_type": "code",
      "metadata": {
        "colab": {
          "base_uri": "https://localhost:8080/",
          "height": 35
        },
        "id": "5AIQB95tcZuH",
        "outputId": "d2263b90-1dc1-443c-ca62-0c6fff59b282"
      },
      "source": [
        "sheet.title"
      ],
      "execution_count": null,
      "outputs": [
        {
          "output_type": "execute_result",
          "data": {
            "application/vnd.google.colaboratory.intrinsic+json": {
              "type": "string"
            },
            "text/plain": [
              "'Hello World'"
            ]
          },
          "metadata": {},
          "execution_count": 11
        }
      ]
    },
    {
      "cell_type": "markdown",
      "metadata": {
        "id": "f_bGuxnEJYYs"
      },
      "source": [
        "# Practice Projects"
      ]
    },
    {
      "cell_type": "markdown",
      "metadata": {
        "id": "LmlxW0KgJbGb"
      },
      "source": [
        "## Google Forms\n"
      ]
    },
    {
      "cell_type": "code",
      "metadata": {
        "id": "ImnwvaXscgKd"
      },
      "source": [
        "import ezsheets"
      ],
      "execution_count": null,
      "outputs": []
    },
    {
      "cell_type": "code",
      "metadata": {
        "id": "7DX9mxmSJhlA"
      },
      "source": [
        "sheet = ezsheets.Spreadsheet('1_RDMOBMEtmVoqPQlF296FguJjAij_EweKSh3DgZvrRA')"
      ],
      "execution_count": null,
      "outputs": []
    },
    {
      "cell_type": "code",
      "metadata": {
        "id": "xWpwjAN4JvXK"
      },
      "source": [
        "sheet = sheet.sheets[0]"
      ],
      "execution_count": null,
      "outputs": []
    },
    {
      "cell_type": "code",
      "metadata": {
        "colab": {
          "base_uri": "https://localhost:8080/"
        },
        "id": "mpBj95sRJyZe",
        "outputId": "852348ea-0fbe-429d-d760-2d18886e3dee"
      },
      "source": [
        "for column in sheet.getColumns():\n",
        "  print(column[0])\n",
        "  for cell in column[1:]:\n",
        "    if cell:\n",
        "      print(cell)"
      ],
      "execution_count": null,
      "outputs": [
        {
          "output_type": "stream",
          "name": "stdout",
          "text": [
            "Timestamp\n",
            "10/20/2021 14:18:18\n",
            "10/20/2021 14:18:46\n",
            "10/20/2021 14:19:04\n",
            "Email\n",
            "supercat@gmail.biz\n",
            "lousycat@gmail.edu\n",
            "rebelcat@gmail.co.uk\n",
            "Name\n",
            "Super Cat\n",
            "Lousy Cat\n",
            "Rebel\n",
            "Favorite Cat\n",
            "Felix\n",
            "Pete\n",
            "Other\n",
            "\n",
            "\n",
            "\n",
            "\n",
            "\n",
            "\n"
          ]
        }
      ]
    },
    {
      "cell_type": "markdown",
      "metadata": {
        "id": "qs0Tn2ckKaqy"
      },
      "source": [
        "# Download Spreadsheets to other Formats"
      ]
    },
    {
      "cell_type": "code",
      "metadata": {
        "id": "WzpxNQ90K5rz"
      },
      "source": [
        "!wget https://nostarch.com/download/Automate_the_Boring_Stuff_onlinematerials_v.2.zip\n",
        "!unzip Automate_the_Boring_Stuff_onlinematerials_v.2.zip\n",
        "!rm Automate_the_Boring_Stuff_onlinematerials_v.2.zip\n",
        "!mv automate_online-materials materials"
      ],
      "execution_count": null,
      "outputs": []
    },
    {
      "cell_type": "code",
      "metadata": {
        "id": "I_BYe3QkJ5Vv"
      },
      "source": [
        "def convert_spreadsheet(filename, format_type):\n",
        "  \"\"\"Convert spreadsheet to given format_type.\"\"\"\n",
        "  format_type = format_type.lower()\n",
        "  sheet = ezsheets.upload(filename)\n",
        "  if format_type == 'csv':\n",
        "    sheet.downloadAsCSV()\n",
        "  elif format_type == 'excel':\n",
        "    sheet.downloadAsExcel()\n",
        "  elif format_type == 'html':\n",
        "    sheet.downloadAsHTML()\n",
        "  elif format_type == 'ods':\n",
        "    sheet.downloadAsODS()\n",
        "  elif format_type == 'pdf':\n",
        "    sheet.downloadAsPDF()\n",
        "  elif format_type == 'tsv':\n",
        "    sheet.downloadAsTSV()\n",
        "  else:\n",
        "    print('Invalid file type')\n",
        "  sheet.delete()  "
      ],
      "execution_count": null,
      "outputs": []
    },
    {
      "cell_type": "code",
      "metadata": {
        "id": "CJWIeXmQMdSn"
      },
      "source": [
        "convert_spreadsheet('materials/example.xlsx', 'html')"
      ],
      "execution_count": null,
      "outputs": []
    },
    {
      "cell_type": "code",
      "metadata": {
        "colab": {
          "base_uri": "https://localhost:8080/"
        },
        "id": "F8zXYzC0MjZa",
        "outputId": "4e9ef588-aa0a-4551-c939-deb7d73b2531"
      },
      "source": [
        "!unzip materials_example.zip"
      ],
      "execution_count": null,
      "outputs": [
        {
          "output_type": "stream",
          "name": "stdout",
          "text": [
            "Archive:  materials_example.zip\n",
            "  inflating: Sheet1.html             \n",
            "  inflating: Sheet2.html             \n",
            "  inflating: Sheet3.html             \n",
            "replace resources/sheet.css? [y]es, [n]o, [A]ll, [N]one, [r]ename: y\n",
            "  inflating: resources/sheet.css     \n"
          ]
        }
      ]
    },
    {
      "cell_type": "code",
      "metadata": {
        "colab": {
          "resources": {
            "http://localhost:8080/resources/sheet.css": {
              "data": "CjwhRE9DVFlQRSBodG1sPgo8aHRtbCBsYW5nPWVuPgogIDxtZXRhIGNoYXJzZXQ9dXRmLTg+CiAgPG1ldGEgbmFtZT12aWV3cG9ydCBjb250ZW50PSJpbml0aWFsLXNjYWxlPTEsIG1pbmltdW0tc2NhbGU9MSwgd2lkdGg9ZGV2aWNlLXdpZHRoIj4KICA8dGl0bGU+RXJyb3IgNDA0IChOb3QgRm91bmQpISExPC90aXRsZT4KICA8c3R5bGU+CiAgICAqe21hcmdpbjowO3BhZGRpbmc6MH1odG1sLGNvZGV7Zm9udDoxNXB4LzIycHggYXJpYWwsc2Fucy1zZXJpZn1odG1se2JhY2tncm91bmQ6I2ZmZjtjb2xvcjojMjIyO3BhZGRpbmc6MTVweH1ib2R5e21hcmdpbjo3JSBhdXRvIDA7bWF4LXdpZHRoOjM5MHB4O21pbi1oZWlnaHQ6MTgwcHg7cGFkZGluZzozMHB4IDAgMTVweH0qID4gYm9keXtiYWNrZ3JvdW5kOnVybCgvL3d3dy5nb29nbGUuY29tL2ltYWdlcy9lcnJvcnMvcm9ib3QucG5nKSAxMDAlIDVweCBuby1yZXBlYXQ7cGFkZGluZy1yaWdodDoyMDVweH1we21hcmdpbjoxMXB4IDAgMjJweDtvdmVyZmxvdzpoaWRkZW59aW5ze2NvbG9yOiM3Nzc7dGV4dC1kZWNvcmF0aW9uOm5vbmV9YSBpbWd7Ym9yZGVyOjB9QG1lZGlhIHNjcmVlbiBhbmQgKG1heC13aWR0aDo3NzJweCl7Ym9keXtiYWNrZ3JvdW5kOm5vbmU7bWFyZ2luLXRvcDowO21heC13aWR0aDpub25lO3BhZGRpbmctcmlnaHQ6MH19I2xvZ297YmFja2dyb3VuZDp1cmwoLy93d3cuZ29vZ2xlLmNvbS9pbWFnZXMvbG9nb3MvZXJyb3JwYWdlL2Vycm9yX2xvZ28tMTUweDU0LnBuZykgbm8tcmVwZWF0O21hcmdpbi1sZWZ0Oi01cHh9QG1lZGlhIG9ubHkgc2NyZWVuIGFuZCAobWluLXJlc29sdXRpb246MTkyZHBpKXsjbG9nb3tiYWNrZ3JvdW5kOnVybCgvL3d3dy5nb29nbGUuY29tL2ltYWdlcy9sb2dvcy9lcnJvcnBhZ2UvZXJyb3JfbG9nby0xNTB4NTQtMngucG5nKSBuby1yZXBlYXQgMCUgMCUvMTAwJSAxMDAlOy1tb3otYm9yZGVyLWltYWdlOnVybCgvL3d3dy5nb29nbGUuY29tL2ltYWdlcy9sb2dvcy9lcnJvcnBhZ2UvZXJyb3JfbG9nby0xNTB4NTQtMngucG5nKSAwfX1AbWVkaWEgb25seSBzY3JlZW4gYW5kICgtd2Via2l0LW1pbi1kZXZpY2UtcGl4ZWwtcmF0aW86Mil7I2xvZ297YmFja2dyb3VuZDp1cmwoLy93d3cuZ29vZ2xlLmNvbS9pbWFnZXMvbG9nb3MvZXJyb3JwYWdlL2Vycm9yX2xvZ28tMTUweDU0LTJ4LnBuZykgbm8tcmVwZWF0Oy13ZWJraXQtYmFja2dyb3VuZC1zaXplOjEwMCUgMTAwJX19I2xvZ297ZGlzcGxheTppbmxpbmUtYmxvY2s7aGVpZ2h0OjU0cHg7d2lkdGg6MTUwcHh9CiAgPC9zdHlsZT4KICA8YSBocmVmPS8vd3d3Lmdvb2dsZS5jb20vPjxzcGFuIGlkPWxvZ28gYXJpYS1sYWJlbD1Hb29nbGU+PC9zcGFuPjwvYT4KICA8cD48Yj40MDQuPC9iPiA8aW5zPlRoYXTigJlzIGFuIGVycm9yLjwvaW5zPgogIDxwPiAgPGlucz5UaGF04oCZcyBhbGwgd2Uga25vdy48L2lucz4K",
              "ok": false,
              "headers": [
                [
                  "content-length",
                  "1449"
                ],
                [
                  "content-type",
                  "text/html; charset=utf-8"
                ]
              ],
              "status": 404,
              "status_text": ""
            }
          },
          "base_uri": "https://localhost:8080/",
          "height": 160
        },
        "id": "de8AGJLCMmGs",
        "outputId": "0b2d0167-14c8-4912-b524-7639be1c07b7"
      },
      "source": [
        "from IPython.display import HTML\n",
        "\n",
        "HTML(filename='Sheet1.html')"
      ],
      "execution_count": null,
      "outputs": [
        {
          "output_type": "execute_result",
          "data": {
            "text/html": [
              "<meta http-equiv=\"Content-Type\" content=\"text/html; charset=utf-8\"><link type=\"text/css\" rel=\"stylesheet\" href=\"resources/sheet.css\" >\n",
              "<style type=\"text/css\">.ritz .waffle a { color: inherit; }.ritz .waffle .s1{background-color:#ffffff;text-align:left;color:#000000;font-family:'docs-Calibri',Arial;font-size:11pt;vertical-align:middle;white-space:nowrap;direction:ltr;padding:0px 3px 0px 3px;}.ritz .waffle .s0{background-color:#ffffff;text-align:right;color:#000000;font-family:'docs-Calibri',Arial;font-size:11pt;vertical-align:middle;white-space:nowrap;direction:ltr;padding:0px 3px 0px 3px;}</style><div class=\"ritz grid-container\" dir=\"ltr\"><table class=\"waffle\" cellspacing=\"0\" cellpadding=\"0\"><thead><tr><th class=\"row-header freezebar-origin-ltr\"></th><th id=\"1198839816C0\" style=\"width:140px;\" class=\"column-headers-background\">A</th><th id=\"1198839816C1\" style=\"width:60px;\" class=\"column-headers-background\">B</th><th id=\"1198839816C2\" style=\"width:60px;\" class=\"column-headers-background\">C</th></tr></thead><tbody><tr style=\"height: 18px\"><th id=\"1198839816R0\" style=\"height: 18px;\" class=\"row-headers-background\"><div class=\"row-header-wrapper\" style=\"line-height: 18px\">1</div></th><td class=\"s0\">4/5/15 13:34</td><td class=\"s1\">Apples</td><td class=\"s0\">73</td></tr><tr style=\"height: 18px\"><th id=\"1198839816R1\" style=\"height: 18px;\" class=\"row-headers-background\"><div class=\"row-header-wrapper\" style=\"line-height: 18px\">2</div></th><td class=\"s0\">4/5/15 3:41</td><td class=\"s1\">Cherries</td><td class=\"s0\">85</td></tr><tr style=\"height: 18px\"><th id=\"1198839816R2\" style=\"height: 18px;\" class=\"row-headers-background\"><div class=\"row-header-wrapper\" style=\"line-height: 18px\">3</div></th><td class=\"s0\">4/6/15 12:46</td><td class=\"s1\">Pears</td><td class=\"s0\">14</td></tr><tr style=\"height: 18px\"><th id=\"1198839816R3\" style=\"height: 18px;\" class=\"row-headers-background\"><div class=\"row-header-wrapper\" style=\"line-height: 18px\">4</div></th><td class=\"s0\">4/8/15 8:59</td><td class=\"s1 softmerge\"><div class=\"softmerge-inner\" style=\"width:57px;left:-1px\">Oranges</div></td><td class=\"s0\">52</td></tr><tr style=\"height: 18px\"><th id=\"1198839816R4\" style=\"height: 18px;\" class=\"row-headers-background\"><div class=\"row-header-wrapper\" style=\"line-height: 18px\">5</div></th><td class=\"s0\">4/10/15 2:07</td><td class=\"s1\">Apples</td><td class=\"s0\">152</td></tr><tr style=\"height: 18px\"><th id=\"1198839816R5\" style=\"height: 18px;\" class=\"row-headers-background\"><div class=\"row-header-wrapper\" style=\"line-height: 18px\">6</div></th><td class=\"s0\">4/10/15 18:10</td><td class=\"s1 softmerge\"><div class=\"softmerge-inner\" style=\"width:57px;left:-1px\">Bananas</div></td><td class=\"s0\">23</td></tr><tr style=\"height: 18px\"><th id=\"1198839816R6\" style=\"height: 18px;\" class=\"row-headers-background\"><div class=\"row-header-wrapper\" style=\"line-height: 18px\">7</div></th><td class=\"s0\">4/10/15 2:40</td><td class=\"s1 softmerge\"><div class=\"softmerge-inner\" style=\"width:57px;left:-1px\">Strawberries</div></td><td class=\"s0\">98</td></tr></tbody></table></div>"
            ],
            "text/plain": [
              "<IPython.core.display.HTML object>"
            ]
          },
          "metadata": {},
          "execution_count": 39
        }
      ]
    },
    {
      "cell_type": "markdown",
      "metadata": {
        "id": "mRtnfYYTO6TR"
      },
      "source": [
        "## Finding Mistakes in a Spreadsheet"
      ]
    },
    {
      "cell_type": "code",
      "metadata": {
        "id": "et1tge0EMskm"
      },
      "source": [
        "sheet = ezsheets.Spreadsheet('1jDZEdvSIh4TmZxccyy0ZXrH-ELlrwq8_YYiZrEOB4jg').sheets[0]"
      ],
      "execution_count": null,
      "outputs": []
    },
    {
      "cell_type": "code",
      "metadata": {
        "colab": {
          "base_uri": "https://localhost:8080/"
        },
        "id": "9aouLoUOPAb_",
        "outputId": "3c1c66d1-9d36-43ae-d682-7310ef480dda"
      },
      "source": [
        "sheet.getRow(1)"
      ],
      "execution_count": null,
      "outputs": [
        {
          "output_type": "execute_result",
          "data": {
            "text/plain": [
              "['BEANS PER JAR', 'JARS', 'TOTAL BEANS', '', '', '']"
            ]
          },
          "metadata": {},
          "execution_count": 47
        }
      ]
    },
    {
      "cell_type": "code",
      "metadata": {
        "colab": {
          "base_uri": "https://localhost:8080/"
        },
        "id": "XU5xIZKpPcKT",
        "outputId": "7d1bab46-b007-4a18-8b8b-c1711cef9db7"
      },
      "source": [
        "for i, (beans_per_jar, jars, total_beans, *_) in enumerate(sheet.getRows(2), start=2):\n",
        "  try:\n",
        "    if int(beans_per_jar) * int(jars) != int(total_beans):\n",
        "      print(f'Row {i}: {beans_per_jar} * {jars} != {total_beans}')\n",
        "  except ValueError:\n",
        "    pass\n"
      ],
      "execution_count": null,
      "outputs": [
        {
          "output_type": "stream",
          "name": "stdout",
          "text": [
            "Row 14399: 804 * 623 != 500891\n"
          ]
        }
      ]
    }
  ]
}