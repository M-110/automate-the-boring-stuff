{
  "nbformat": 4,
  "nbformat_minor": 0,
  "metadata": {
    "colab": {
      "name": "02_Flow_Control.ipynb",
      "provenance": [],
      "collapsed_sections": [],
      "authorship_tag": "ABX9TyOAxhI/5nYIRfwBUhEd5UZk",
      "include_colab_link": true
    },
    "kernelspec": {
      "name": "python3",
      "display_name": "Python 3"
    },
    "language_info": {
      "name": "python"
    }
  },
  "cells": [
    {
      "cell_type": "markdown",
      "metadata": {
        "id": "view-in-github",
        "colab_type": "text"
      },
      "source": [
        "<a href=\"https://colab.research.google.com/github/M-110/automate-the-boring-stuff/blob/main/02_Flow_Control.ipynb\" target=\"_parent\"><img src=\"https://colab.research.google.com/assets/colab-badge.svg\" alt=\"Open In Colab\"/></a>"
      ]
    },
    {
      "cell_type": "markdown",
      "metadata": {
        "id": "irimBeI9HdwM"
      },
      "source": [
        "# Guess the number app"
      ]
    },
    {
      "cell_type": "code",
      "metadata": {
        "colab": {
          "base_uri": "https://localhost:8080/"
        },
        "id": "JxhG_FadFGDr",
        "outputId": "9b5dc58d-ca02-4076-de64-aeebfbe3683b"
      },
      "source": [
        "%%writefile guess_the_number.py \n",
        "import random\n",
        "\n",
        "\n",
        "def main():\n",
        "  answer = random.randint(1, 20)\n",
        "  guess_count = 1\n",
        "  print('I am thinking of a number between 1 and 20.')\n",
        "  while True:\n",
        "    guess = input('Take a guess\\n')\n",
        "    try:\n",
        "      guess = int(guess)\n",
        "    except ValueError:\n",
        "      print('Invalid guess')\n",
        "      continue\n",
        "    if guess == answer:\n",
        "      break\n",
        "    elif guess < answer:\n",
        "      print('Your guess is too low!')\n",
        "    else:\n",
        "      print('Your guess is too high!')\n",
        "    guess_count += 1\n",
        "  plural = 'es' if guess_count > 1 else ''\n",
        "  print(f'Good job! You guessed my number in {guess_count} guess{plural}!')\n",
        "    \n",
        "\n",
        "\n",
        "if __name__ == '__main__':\n",
        "  main()\n"
      ],
      "execution_count": null,
      "outputs": [
        {
          "output_type": "stream",
          "name": "stdout",
          "text": [
            "Overwriting guess_the_number.py\n"
          ]
        }
      ]
    },
    {
      "cell_type": "code",
      "metadata": {
        "colab": {
          "base_uri": "https://localhost:8080/"
        },
        "id": "h2IMnmBUGSJT",
        "outputId": "47f0765f-d6c9-48a8-e0f0-da1575ab05e6"
      },
      "source": [
        "!python guess_the_number.py"
      ],
      "execution_count": null,
      "outputs": [
        {
          "output_type": "stream",
          "name": "stdout",
          "text": [
            "I am thinking of a number between 1 and 20.\n",
            "Take a guess\n",
            "hello\n",
            "Invalid guess\n",
            "Take a guess\n",
            "world\n",
            "Invalid guess\n",
            "Take a guess\n",
            "10\n",
            "Your guess is too high!\n",
            "Take a guess\n",
            "5\n",
            "Your guess is too high!\n",
            "Take a guess\n",
            "3\n",
            "Good job! You guessed my number in 3 guesses!\n"
          ]
        }
      ]
    },
    {
      "cell_type": "markdown",
      "metadata": {
        "id": "fdKrSB1CHrEJ"
      },
      "source": [
        "# Rock Paper Scissors"
      ]
    },
    {
      "cell_type": "code",
      "metadata": {
        "colab": {
          "base_uri": "https://localhost:8080/"
        },
        "id": "wjxyH-NiGT4D",
        "outputId": "260cb00b-6d34-4695-b939-905c65eb0fd8"
      },
      "source": [
        "%%writefile rock_paper_scissors.py\n",
        "\"\"\"Play a game of rock, paper, scissors.\"\"\"\n",
        "import random\n",
        "\n",
        "CHOICES = {'r': 'ROCK', 'p': 'PAPER', 's': 'SCISSORS'}\n",
        "\n",
        "\n",
        "def main():\n",
        "  \"\"\"Play a game of rock, paper, scissors.\"\"\"\n",
        "  record = [0, 0, 0]\n",
        "  print(\"ROCK, PAPER, SCISSORS\")\n",
        "  while True:\n",
        "    print(f'{record[0]} Wins, {record[1]} Losses, {record[2]} Ties')\n",
        "    choice = input(\"(r)ock (p)aper (s)cissors (q)uit\\n\")\n",
        "    if choice == 'q':\n",
        "      break\n",
        "    elif choice not in 'rps':\n",
        "      print('Invalid choice.')\n",
        "      continue\n",
        "    choice = CHOICES[choice]\n",
        "    computer_choice = CHOICES[random.choice('rps')]\n",
        "    \n",
        "    print(f'{choice} versus...')\n",
        "    print(computer_choice)\n",
        "\n",
        "    if choice == computer_choice:\n",
        "      result = 2\n",
        "    elif choice == 'ROCK':\n",
        "      if computer_choice == 'PAPER':\n",
        "        result = 1\n",
        "      else:\n",
        "        result = 0\n",
        "    elif choice == 'PAPER':\n",
        "      if computer_choice == 'SCISSORS':\n",
        "        result = 1\n",
        "      else:\n",
        "        result = 0\n",
        "    elif computer_choice == 'ROCK':\n",
        "      result = 1\n",
        "    else:\n",
        "      result = 0\n",
        "    \n",
        "    record[result] += 1\n",
        "    if result == 0:\n",
        "      print('You win!')\n",
        "    elif result == 1:\n",
        "      print('You lose!')\n",
        "    else:\n",
        "      print('Tie game!')\n",
        "\n",
        "\n",
        "if __name__ == '__main__':\n",
        "  main()\n"
      ],
      "execution_count": null,
      "outputs": [
        {
          "output_type": "stream",
          "name": "stdout",
          "text": [
            "Overwriting rock_paper_scissors.py\n"
          ]
        }
      ]
    },
    {
      "cell_type": "code",
      "metadata": {
        "colab": {
          "base_uri": "https://localhost:8080/"
        },
        "id": "lX77YcaKIs2t",
        "outputId": "7367b176-c2f9-4b47-dfe6-5b6a09fb3319"
      },
      "source": [
        "!python rock_paper_scissors.py"
      ],
      "execution_count": null,
      "outputs": [
        {
          "output_type": "stream",
          "name": "stdout",
          "text": [
            "ROCK, PAPER, SCISSORS\n",
            "0 Wins, 0 Losses, 0 Ties\n",
            "(r)ock (p)aper (s)cissors (q)uit\n",
            "r\n",
            "ROCK versus...\n",
            "PAPER\n",
            "You lose!\n",
            "0 Wins, 1 Losses, 0 Ties\n",
            "(r)ock (p)aper (s)cissors (q)uit\n",
            "r\n",
            "ROCK versus...\n",
            "ROCK\n",
            "Tie game!\n",
            "0 Wins, 1 Losses, 1 Ties\n",
            "(r)ock (p)aper (s)cissors (q)uit\n",
            "r\n",
            "ROCK versus...\n",
            "SCISSORS\n",
            "You win!\n",
            "1 Wins, 1 Losses, 1 Ties\n",
            "(r)ock (p)aper (s)cissors (q)uit\n",
            "p\n",
            "PAPER versus...\n",
            "PAPER\n",
            "Tie game!\n",
            "1 Wins, 1 Losses, 2 Ties\n",
            "(r)ock (p)aper (s)cissors (q)uit\n",
            "p\n",
            "PAPER versus...\n",
            "ROCK\n",
            "You win!\n",
            "2 Wins, 1 Losses, 2 Ties\n",
            "(r)ock (p)aper (s)cissors (q)uit\n",
            "p\n",
            "PAPER versus...\n",
            "PAPER\n",
            "Tie game!\n",
            "2 Wins, 1 Losses, 3 Ties\n",
            "(r)ock (p)aper (s)cissors (q)uit\n",
            "s\n",
            "SCISSORS versus...\n",
            "ROCK\n",
            "You lose!\n",
            "2 Wins, 2 Losses, 3 Ties\n",
            "(r)ock (p)aper (s)cissors (q)uit\n",
            "s\n",
            "SCISSORS versus...\n",
            "PAPER\n",
            "You win!\n",
            "3 Wins, 2 Losses, 3 Ties\n",
            "(r)ock (p)aper (s)cissors (q)uit\n",
            "s\n",
            "SCISSORS versus...\n",
            "SCISSORS\n",
            "Tie game!\n",
            "3 Wins, 2 Losses, 4 Ties\n",
            "(r)ock (p)aper (s)cissors (q)uit\n",
            "whatever\n",
            "Invalid choice.\n",
            "3 Wins, 2 Losses, 4 Ties\n",
            "(r)ock (p)aper (s)cissors (q)uit\n",
            "q\n"
          ]
        }
      ]
    },
    {
      "cell_type": "code",
      "metadata": {
        "colab": {
          "base_uri": "https://localhost:8080/",
          "height": 35
        },
        "id": "RSc4nWvGItYI",
        "outputId": "fa48868d-463f-4af5-c484-4da25dee7f73"
      },
      "source": [
        "random.choice('rps')"
      ],
      "execution_count": null,
      "outputs": [
        {
          "output_type": "execute_result",
          "data": {
            "application/vnd.google.colaboratory.intrinsic+json": {
              "type": "string"
            },
            "text/plain": [
              "'r'"
            ]
          },
          "metadata": {},
          "execution_count": 15
        }
      ]
    }
  ]
}