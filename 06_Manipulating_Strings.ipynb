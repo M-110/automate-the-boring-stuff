{
  "nbformat": 4,
  "nbformat_minor": 0,
  "metadata": {
    "colab": {
      "name": "06_Manipulating_Strings.ipynb",
      "provenance": [],
      "collapsed_sections": [],
      "authorship_tag": "ABX9TyMDSLdTyeqg163AC4VnUWkU",
      "include_colab_link": true
    },
    "kernelspec": {
      "name": "python3",
      "display_name": "Python 3"
    },
    "language_info": {
      "name": "python"
    }
  },
  "cells": [
    {
      "cell_type": "markdown",
      "metadata": {
        "id": "view-in-github",
        "colab_type": "text"
      },
      "source": [
        "<a href=\"https://colab.research.google.com/github/M-110/automate-the-boring-stuff/blob/main/06_Manipulating_Strings.ipynb\" target=\"_parent\"><img src=\"https://colab.research.google.com/assets/colab-badge.svg\" alt=\"Open In Colab\"/></a>"
      ]
    },
    {
      "cell_type": "markdown",
      "metadata": {
        "id": "-EFTBYxy8WCK"
      },
      "source": [
        "# Multi-Clipboard Automatic Messages"
      ]
    },
    {
      "cell_type": "code",
      "metadata": {
        "colab": {
          "base_uri": "https://localhost:8080/"
        },
        "id": "jHFlTvKbvDZd",
        "outputId": "c76c8c4f-4832-4d35-8522-a81d3172e338"
      },
      "source": [
        "%%writefile mclip.py\n",
        "#!/usr/bin/env python3\n",
        "\"\"\"Module for copying preset messages to your clipboard.\"\"\"\n",
        "import argparse\n",
        "\n",
        "import pyperclip\n",
        "\n",
        "\n",
        "MESSAGES = {'agree': 'Yes, I agree. That sounds find to me.',\n",
        "            'busy': 'Sorry, can we do this later this week or next week?',\n",
        "            'upsell': 'Would you consider making this a monthly donation?'}\n",
        "\n",
        "\n",
        "def main():\n",
        "  \"\"\"Gets args from command line and copies the message to your clipboard.\"\"\"\n",
        "  args = get_args()\n",
        "  try:\n",
        "    message = MESSAGES[args.keyword]\n",
        "    pyperclip.copy(message)\n",
        "    print(f'{message!r} copied to clipboard')\n",
        "  except KeyError:\n",
        "    print('Invalid keyword')\n",
        "    print(f'Options are: {\", \".join(MESSAGES)}')\n",
        "\n",
        "\n",
        "def get_args():\n",
        "  \"\"\"Get arguments from command line.\"\"\"\n",
        "  parser = argparse.ArgumentParser(\n",
        "      description=\"Copy preset messages to your clipboard\")\n",
        "  parser.add_argument('keyword', help='Preset keyword')\n",
        "  return parser.parse_args()\n",
        "\n",
        "\n",
        "if __name__ == '__main__':\n",
        "  main()\n"
      ],
      "execution_count": null,
      "outputs": [
        {
          "output_type": "stream",
          "name": "stdout",
          "text": [
            "Overwriting mclip.py\n"
          ]
        }
      ]
    },
    {
      "cell_type": "markdown",
      "metadata": {
        "id": "pwFmbGTZ_jGR"
      },
      "source": [
        "# Bullet Point Adder"
      ]
    },
    {
      "cell_type": "code",
      "metadata": {
        "colab": {
          "base_uri": "https://localhost:8080/"
        },
        "id": "XoljnXo6-7yY",
        "outputId": "01ad4950-ea2f-4a30-b8c1-28342c346ddd"
      },
      "source": [
        "%%writefile bullet_point_adder.py\n",
        "#!/usr/bin/env python3\n",
        "\"\"\"Module for adding *s to each line of your clipboard's text.\"\"\"\n",
        "import pyperclip\n",
        "\n",
        "\n",
        "def main():\n",
        "  \"\"\"Add bullet points to the user's clipboard's text.\"\"\"\n",
        "  pyperclip.copy('\\n'.join([\"* \" + ln for ln in pyperclip.paste().split('\\n')]))\n",
        "\n",
        "\n",
        "if __name__ == '__main__':\n",
        "  main()\n"
      ],
      "execution_count": null,
      "outputs": [
        {
          "output_type": "stream",
          "name": "stdout",
          "text": [
            "Writing bullet_point_adder.py\n"
          ]
        }
      ]
    },
    {
      "cell_type": "markdown",
      "metadata": {
        "id": "a9Q95Yg5A8ru"
      },
      "source": [
        "# Pig Latin"
      ]
    },
    {
      "cell_type": "code",
      "metadata": {
        "colab": {
          "base_uri": "https://localhost:8080/"
        },
        "id": "R0_reGEMA-4S",
        "outputId": "3b5d9e80-26a7-41fd-96e4-e82442b0740b"
      },
      "source": [
        "%%writefile pig_latin.py\n",
        "#!/usr/bin/env python3\n",
        "\"\"\"Translate a message to Pig Latin.\"\"\"\n",
        "\n",
        "VOWELS = 'aeiou'\n",
        "\n",
        "def main():\n",
        "  \"\"\"Translate user input to Pig Latin.\"\"\"\n",
        "  text = input(\"Enter a message to translate:\\n\")\n",
        "  print('Translation:')\n",
        "  print(' '.join(map(translate, (text.split(' ')))))\n",
        "\n",
        "\n",
        "def translate(word):\n",
        "  \"\"\"Translate a word into pig latin.\"\"\"\n",
        "  word_alpha = ''.join(filter(str.isalpha, word))\n",
        "  if not word_alpha:\n",
        "    return word\n",
        "  word_not_alpha = ''.join(filter(lambda x: not x.isalpha(), word))\n",
        "  func = str.lower\n",
        "  if word_alpha.isupper():\n",
        "    func = str.upper\n",
        "  elif word_alpha.istitle():\n",
        "    func = str.title\n",
        "\n",
        "  if word[0].lower() not in VOWELS:\n",
        "    return func(word_alpha[1:] + word_alpha[0] + 'ay' + word_not_alpha)\n",
        "  else:\n",
        "    return func(word_alpha + 'yay' + word_not_alpha)\n",
        "\n",
        "\n",
        "if __name__ == '__main__':\n",
        "  main()"
      ],
      "execution_count": null,
      "outputs": [
        {
          "output_type": "stream",
          "name": "stdout",
          "text": [
            "Overwriting pig_latin.py\n"
          ]
        }
      ]
    },
    {
      "cell_type": "code",
      "metadata": {
        "colab": {
          "base_uri": "https://localhost:8080/"
        },
        "id": "zJqf6d-0GIf_",
        "outputId": "8002bb00-c930-4053-b49d-c1b518adca20"
      },
      "source": [
        "!python pig_latin.py "
      ],
      "execution_count": null,
      "outputs": [
        {
          "output_type": "stream",
          "name": "stdout",
          "text": [
            "Enter a message to translate:\n",
            "My name is CAVEDWELLER ROBOT and I am over 4,000 years old!!!\n",
            "Translation:\n",
            "Ymay amenay isyay AVEDWELLERCAY OBOTRAY andyay IYAY amyay overyay 4,000 earsyay oldyay!!!\n"
          ]
        }
      ]
    },
    {
      "cell_type": "markdown",
      "metadata": {
        "id": "-hTmsQ2eGtLl"
      },
      "source": [
        "# Practice Projects"
      ]
    },
    {
      "cell_type": "markdown",
      "metadata": {
        "id": "tH_hZn7gGuhj"
      },
      "source": [
        "## Table Printer"
      ]
    },
    {
      "cell_type": "code",
      "metadata": {
        "id": "zz4eMsO-GvYw"
      },
      "source": [
        "def print_table(table):\n",
        "  \"\"\"Print a table of string values all right justified.\"\"\"\n",
        "  column_widths = [max(len(row[i]) for row in table) for i in range(len(table[0]))]\n",
        "  for row in table:\n",
        "    print(' '.join(row[i].rjust(column_widths[i]) for i in range(len(row))))"
      ],
      "execution_count": null,
      "outputs": []
    },
    {
      "cell_type": "code",
      "metadata": {
        "colab": {
          "base_uri": "https://localhost:8080/"
        },
        "id": "wMZgHNRPzhit",
        "outputId": "39db81f7-31de-4389-b7b4-a253bbdf24b5"
      },
      "source": [
        "table_data = [['apples', 'oranges', 'cherries', 'banana'],\n",
        "             ['Alice', 'Bob', 'Carol', 'David'],\n",
        "             ['dogs', 'cats', 'moose', 'goose']]\n",
        "             \n",
        "print_table(table_data)"
      ],
      "execution_count": null,
      "outputs": [
        {
          "output_type": "stream",
          "name": "stdout",
          "text": [
            "apples oranges cherries banana\n",
            " Alice     Bob    Carol  David\n",
            "  dogs    cats    moose  goose\n"
          ]
        }
      ]
    },
    {
      "cell_type": "markdown",
      "metadata": {
        "id": "6Nd6a64f0h2J"
      },
      "source": [
        "# Zombie Dice Bots"
      ]
    },
    {
      "cell_type": "code",
      "metadata": {
        "colab": {
          "base_uri": "https://localhost:8080/"
        },
        "id": "YV7j1nWNzoSK",
        "outputId": "adfd18cd-0d4e-4cad-9e06-a4aa78979638"
      },
      "source": [
        "!pip install zombiedice"
      ],
      "execution_count": null,
      "outputs": [
        {
          "output_type": "stream",
          "name": "stdout",
          "text": [
            "Collecting zombiedice\n",
            "  Downloading zombiedice-0.1.6.tar.gz (106 kB)\n",
            "\u001b[?25l\r\u001b[K     |███                             | 10 kB 20.1 MB/s eta 0:00:01\r\u001b[K     |██████▏                         | 20 kB 24.1 MB/s eta 0:00:01\r\u001b[K     |█████████▏                      | 30 kB 14.0 MB/s eta 0:00:01\r\u001b[K     |████████████▎                   | 40 kB 10.0 MB/s eta 0:00:01\r\u001b[K     |███████████████▎                | 51 kB 5.4 MB/s eta 0:00:01\r\u001b[K     |██████████████████▍             | 61 kB 5.2 MB/s eta 0:00:01\r\u001b[K     |█████████████████████▌          | 71 kB 5.7 MB/s eta 0:00:01\r\u001b[K     |████████████████████████▌       | 81 kB 6.3 MB/s eta 0:00:01\r\u001b[K     |███████████████████████████▋    | 92 kB 6.3 MB/s eta 0:00:01\r\u001b[K     |██████████████████████████████▋ | 102 kB 5.3 MB/s eta 0:00:01\r\u001b[K     |████████████████████████████████| 106 kB 5.3 MB/s \n",
            "\u001b[?25h  Installing build dependencies ... \u001b[?25l\u001b[?25hdone\n",
            "  Getting requirements to build wheel ... \u001b[?25l\u001b[?25hdone\n",
            "    Preparing wheel metadata ... \u001b[?25l\u001b[?25hdone\n",
            "Building wheels for collected packages: zombiedice\n",
            "  Building wheel for zombiedice (PEP 517) ... \u001b[?25l\u001b[?25hdone\n",
            "  Created wheel for zombiedice: filename=zombiedice-0.1.6-py3-none-any.whl size=102174 sha256=e5a924c469d12128fd1d8d5b1219cebe75d8bfa3fb918efa3b734c4010900ff3\n",
            "  Stored in directory: /root/.cache/pip/wheels/fc/1e/0c/e703b882ec3acf466ae9825849dd8a22cecae5b21e10b5bb87\n",
            "Successfully built zombiedice\n",
            "Installing collected packages: zombiedice\n",
            "Successfully installed zombiedice-0.1.6\n"
          ]
        }
      ]
    },
    {
      "cell_type": "code",
      "metadata": {
        "id": "9mn57naN0ctv"
      },
      "source": [
        "import zombiedice"
      ],
      "execution_count": null,
      "outputs": []
    },
    {
      "cell_type": "code",
      "metadata": {
        "id": "Ebg_YIwz1de3"
      },
      "source": [
        "import random\n",
        "\n",
        "class ZombieRandomAfterOneRoll:\n",
        "  \"\"\"After first roll, it randomly decides whether to continue rolling.\"\"\"\n",
        "  def __init__(self, name):\n",
        "    self.name = name\n",
        "\n",
        "  def turn(self, game_state):\n",
        "    roll_results = zombiedice.roll()\n",
        "    while roll_results is not None:\n",
        "      if random.randint(0, 1):\n",
        "        roll_results = zombiedice.roll()\n",
        "      else:\n",
        "        return"
      ],
      "execution_count": null,
      "outputs": []
    },
    {
      "cell_type": "code",
      "metadata": {
        "id": "8iPKEMSK2if3"
      },
      "source": [
        "class ZombieStopAfterTwoBrains:\n",
        "  \"\"\"Stops rolling after collecting two brains.\"\"\"\n",
        "  def __init__(self, name):\n",
        "    self.name = name\n",
        "\n",
        "  def turn(self, game_state):\n",
        "    roll_results = zombiedice.roll()\n",
        "    brain_count = 0\n",
        "    while roll_results is not None:\n",
        "      brain_count += roll_results['brains']\n",
        "      if brain_count >= 2:\n",
        "        return\n",
        "      roll_results = zombiedice.roll()"
      ],
      "execution_count": null,
      "outputs": []
    },
    {
      "cell_type": "code",
      "metadata": {
        "id": "q3dTZAFi3BG6"
      },
      "source": [
        "class ZombieStopAfterTwoShotguns:\n",
        "  \"\"\"Stops rolling after collecting two shotguns.\"\"\"\n",
        "  def __init__(self, name):\n",
        "    self.name = name\n",
        "\n",
        "  def turn(self, game_state):\n",
        "    roll_results = zombiedice.roll()\n",
        "    shotgun_count = 0\n",
        "    while roll_results is not None:\n",
        "      shotgun_count += roll_results['shotgun']\n",
        "      if shotgun_count >= 2:\n",
        "        return\n",
        "      roll_results = zombiedice.roll()"
      ],
      "execution_count": null,
      "outputs": []
    },
    {
      "cell_type": "code",
      "metadata": {
        "id": "yGV9yoAc3RyK"
      },
      "source": [
        "class ZombieWithPlan:\n",
        "  \"\"\"Decide ahead of time whether to roll between 1-4 times, but stop at two\n",
        "  shotguns.\"\"\"\n",
        "  def __init__(self, name):\n",
        "    self.name = name\n",
        "\n",
        "  def turn(self, game_state):\n",
        "    roll_results = zombiedice.roll()\n",
        "    times_to_roll = random.randint(1, 4)\n",
        "    roll_count = 0\n",
        "    shotgun_count = 0\n",
        "\n",
        "    while roll_results is not None:\n",
        "      shotgun_count += roll_results['shotgun']\n",
        "      roll_count += 1\n",
        "      if shotgun_count >= 2 or roll_count == times_to_roll:\n",
        "        return\n",
        "      roll_results = zombiedice.roll()\n"
      ],
      "execution_count": null,
      "outputs": []
    },
    {
      "cell_type": "code",
      "metadata": {
        "id": "WehcVplP3_Ab"
      },
      "source": [
        "class ZombieMoreShotgunsThanBrains:\n",
        "  \"\"\"Stops rolling if it has rolled more shotugns than brains.\"\"\"\n",
        "  def __init__(self, name):\n",
        "    self.name = name\n",
        "\n",
        "  def turn(self, game_state):\n",
        "    roll_results = zombiedice.roll()\n",
        "    brain_count = 0\n",
        "    shotgun_count = 0\n",
        "\n",
        "    while roll_results is not None:\n",
        "      shotgun_count += roll_results['shotgun']\n",
        "      brain_count += roll_results['shotgun']\n",
        "      if shotgun_count >= brain_count:\n",
        "        return\n",
        "      roll_results = zombiedice.roll()\n"
      ],
      "execution_count": null,
      "outputs": []
    },
    {
      "cell_type": "code",
      "metadata": {
        "colab": {
          "base_uri": "https://localhost:8080/"
        },
        "id": "bZZwWbI91J8r",
        "outputId": "6e42391d-4e42-4ac7-e31e-2628271e858e"
      },
      "source": [
        "zombies = (\n",
        "    zombiedice.examples.RandomCoinFlipZombie(name='Random'),\n",
        "    zombiedice.examples.RollsUntilInTheLeadZombie(name='Until Leading'),\n",
        "    zombiedice.examples.MinNumShotgunsThenStopsZombie(name='Stop at 2 Shotguns', minShotguns=2),\n",
        "    zombiedice.examples.MinNumShotgunsThenStopsZombie(name='Stop at 1 Shotgun', minShotguns=1),\n",
        "    ZombieRandomAfterOneRoll(name='Mine: Random after first roll'),\n",
        "    ZombieStopAfterTwoBrains(name='Mine: Stop after two brains'),\n",
        "    ZombieStopAfterTwoShotguns(name='Mine: Stop after two shotguns'),\n",
        "    ZombieWithPlan(name='Mine: Stop after predetermined number of rolls'),\n",
        "    ZombieMoreShotgunsThanBrains(name='Mine: Stop when more shotguns than brains')\n",
        ")\n",
        "\n",
        "zombiedice.runTournament(zombies=zombies, numGames=1000)"
      ],
      "execution_count": null,
      "outputs": [
        {
          "output_type": "stream",
          "name": "stdout",
          "text": [
            "Tournament of 1000 games started...\n",
            "Tournament results:\n",
            "Wins:\n",
            "                     Mine: Stop after two shotguns  265\n",
            "                                Stop at 2 Shotguns  242\n",
            "                                     Until Leading  128\n",
            "    Mine: Stop after predetermined number of rolls  120\n",
            "                                 Stop at 1 Shotgun   93\n",
            "                       Mine: Stop after two brains   53\n",
            "                                            Random   47\n",
            "                     Mine: Random after first roll   45\n",
            "         Mine: Stop when more shotguns than brains    0\n",
            "Ties:\n",
            "                     Mine: Stop after two shotguns    5\n",
            "                       Mine: Stop after two brains    3\n",
            "                                Stop at 2 Shotguns    2\n",
            "    Mine: Stop after predetermined number of rolls    2\n",
            "                                 Stop at 1 Shotgun    1\n",
            "                     Mine: Random after first roll    1\n",
            "                                            Random    0\n",
            "                                     Until Leading    0\n",
            "         Mine: Stop when more shotguns than brains    0\n"
          ]
        }
      ]
    }
  ]
}