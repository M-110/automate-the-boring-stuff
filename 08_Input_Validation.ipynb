{
  "nbformat": 4,
  "nbformat_minor": 0,
  "metadata": {
    "colab": {
      "name": "08_Input_Validation.ipynb",
      "provenance": [],
      "collapsed_sections": [],
      "authorship_tag": "ABX9TyMTdMcRBEYnl4L3iHC5eD5f",
      "include_colab_link": true
    },
    "kernelspec": {
      "name": "python3",
      "display_name": "Python 3"
    },
    "language_info": {
      "name": "python"
    }
  },
  "cells": [
    {
      "cell_type": "markdown",
      "metadata": {
        "id": "view-in-github",
        "colab_type": "text"
      },
      "source": [
        "<a href=\"https://colab.research.google.com/github/M-110/automate-the-boring-stuff/blob/main/08_Input_Validation.ipynb\" target=\"_parent\"><img src=\"https://colab.research.google.com/assets/colab-badge.svg\" alt=\"Open In Colab\"/></a>"
      ]
    },
    {
      "cell_type": "markdown",
      "metadata": {
        "id": "dSBTZw8uNr2_"
      },
      "source": [
        "# Practice Projects"
      ]
    },
    {
      "cell_type": "markdown",
      "metadata": {
        "id": "jTAI9y7bNtmu"
      },
      "source": [
        "# Multiplication Quiz"
      ]
    },
    {
      "cell_type": "code",
      "metadata": {
        "id": "o2cbSVSYM_qq"
      },
      "source": [
        "from threading import Thread\n",
        "from time import sleep"
      ],
      "execution_count": null,
      "outputs": []
    },
    {
      "cell_type": "code",
      "metadata": {
        "id": "vtlxzcx6P64U"
      },
      "source": [
        "def pause():\n",
        "  sleep(5)\n",
        "  print(\"Unpause\")\n",
        "  raise Exception"
      ],
      "execution_count": null,
      "outputs": []
    },
    {
      "cell_type": "code",
      "metadata": {
        "colab": {
          "base_uri": "https://localhost:8080/"
        },
        "id": "XkrmoAIIQaJP",
        "outputId": "7302176f-6cc1-4242-8fc8-6a71eace5cef"
      },
      "source": [
        "%%writefile test.py\n",
        "import select\n",
        "import sys\n",
        "\n",
        "def input_with_timeout(prompt, timeout):\n",
        "    sys.stdout.write(prompt)\n",
        "    sys.stdout.flush()\n",
        "    ready, _, _ = select.select([sys.stdin], [],[], timeout)\n",
        "    if ready:\n",
        "        return sys.stdin.readline().rstrip('\\n') # expect stdin to be line-buffered\n",
        "    raise TimeoutExpired\n",
        "\n",
        "input_with_timeout('hello', 5)"
      ],
      "execution_count": null,
      "outputs": [
        {
          "output_type": "stream",
          "name": "stdout",
          "text": [
            "Writing test.py\n"
          ]
        }
      ]
    },
    {
      "cell_type": "code",
      "metadata": {
        "colab": {
          "base_uri": "https://localhost:8080/"
        },
        "id": "yjqiaMH6PQp8",
        "outputId": "8ce3b003-888c-49b8-f35f-1068866c2593"
      },
      "source": [
        "!bash"
      ],
      "execution_count": null,
      "outputs": [
        {
          "output_type": "stream",
          "name": "stdout",
          "text": [
            "bash: cannot set terminal process group (65): Inappropriate ioctl for device\n",
            "bash: no job control in this shell\n",
            "\u001b[01;34m/content\u001b[00m# \n",
            "\u001b[01;34m/content\u001b[00m# \n",
            "\u001b[01;34m/content\u001b[00m# exit\n"
          ]
        }
      ]
    },
    {
      "cell_type": "code",
      "metadata": {
        "colab": {
          "base_uri": "https://localhost:8080/"
        },
        "id": "HSh5WZ52Qw6v",
        "outputId": "be78b0e1-8382-451a-866b-24a7d6ac4147"
      },
      "source": [
        "!python test.py"
      ],
      "execution_count": null,
      "outputs": [
        {
          "output_type": "stream",
          "name": "stdout",
          "text": [
            "helloTraceback (most recent call last):\n",
            "  File \"test.py\", line 12, in <module>\n",
            "    input_with_timeout('hello', 5)\n",
            "  File \"test.py\", line 10, in input_with_timeout\n",
            "    raise TimeoutExpired\n",
            "NameError: name 'TimeoutExpired' is not defined\n"
          ]
        }
      ]
    }
  ]
}