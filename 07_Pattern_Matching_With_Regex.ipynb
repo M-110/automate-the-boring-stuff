{
  "nbformat": 4,
  "nbformat_minor": 0,
  "metadata": {
    "colab": {
      "name": "07_Pattern_Matching_With_Regex.ipynb",
      "provenance": [],
      "collapsed_sections": [],
      "authorship_tag": "ABX9TyNz1faeGCS6XQG04F4pervt",
      "include_colab_link": true
    },
    "kernelspec": {
      "name": "python3",
      "display_name": "Python 3"
    },
    "language_info": {
      "name": "python"
    }
  },
  "cells": [
    {
      "cell_type": "markdown",
      "metadata": {
        "id": "view-in-github",
        "colab_type": "text"
      },
      "source": [
        "<a href=\"https://colab.research.google.com/github/M-110/automate-the-boring-stuff/blob/main/07_Pattern_Matching_With_Regex.ipynb\" target=\"_parent\"><img src=\"https://colab.research.google.com/assets/colab-badge.svg\" alt=\"Open In Colab\"/></a>"
      ]
    },
    {
      "cell_type": "markdown",
      "metadata": {
        "id": "Ao7v2JNU6E8y"
      },
      "source": [
        "# Project: Phone Number and Email Address Extractor"
      ]
    },
    {
      "cell_type": "code",
      "metadata": {
        "id": "5vefmzPP8RHd"
      },
      "source": [
        "import re\n",
        "\n",
        "import requests"
      ],
      "execution_count": null,
      "outputs": []
    },
    {
      "cell_type": "code",
      "metadata": {
        "id": "XdZqMOFr5Jdp"
      },
      "source": [
        "def get_phone_numbers(text):\n",
        "  \"\"\"Returns phone numbers from the text.\"\"\"\n",
        "  pattern = r'(\\s|^)(\\d{3}|\\(\\d{3}\\))?(\\.|-| )?(\\d{3})(\\.|-|\\s)?(\\d{4})(\\s|$)'\n",
        "  matches = re.findall(pattern, text)\n",
        "  return ['-'.join(match[1::2]) for match in matches]"
      ],
      "execution_count": null,
      "outputs": []
    },
    {
      "cell_type": "code",
      "metadata": {
        "colab": {
          "base_uri": "https://localhost:8080/"
        },
        "id": "HZgWtbXk8ha3",
        "outputId": "ee28f7f3-14bb-46db-90c6-7e3f2cb0abce"
      },
      "source": [
        "text = requests.get('https://nostarch.com/contactus/').text\n",
        "get_phone_numbers(text)"
      ],
      "execution_count": null,
      "outputs": [
        {
          "output_type": "execute_result",
          "data": {
            "text/plain": [
              "['800-420-7240',\n",
              " '415-863-9900',\n",
              " '415-863-9950',\n",
              " '800-420-7240',\n",
              " '415-863-9900',\n",
              " '415-863-9950',\n",
              " '800-420-7240',\n",
              " '415-863-9900',\n",
              " '415-863-9950',\n",
              " '800-420-7240',\n",
              " '415-863-9900']"
            ]
          },
          "metadata": {},
          "execution_count": 40
        }
      ]
    },
    {
      "cell_type": "code",
      "metadata": {
        "id": "i2iGFlBv9oFv"
      },
      "source": [
        "def get_email_addresses(text):\n",
        "  \"\"\"Returns email addresses from the text.\"\"\"\n",
        "  pattern = r'\\S+@\\S+\\.\\S+'\n",
        "  matches = re.findall(pattern, text)\n",
        "  return matches\n"
      ],
      "execution_count": null,
      "outputs": []
    },
    {
      "cell_type": "code",
      "metadata": {
        "colab": {
          "base_uri": "https://localhost:8080/"
        },
        "id": "Q-D_0Wwq8mnK",
        "outputId": "373258db-8e9e-493a-e250-30f96edf09e9"
      },
      "source": [
        "get_email_addresses(text)"
      ],
      "execution_count": null,
      "outputs": [
        {
          "output_type": "execute_result",
          "data": {
            "text/plain": [
              "['info@nostarch.com',\n",
              " 'media@nostarch.com',\n",
              " 'academic@nostarch.com',\n",
              " 'conferences@nostarch.com',\n",
              " 'info@nostarch.com',\n",
              " 'media@nostarch.com',\n",
              " 'academic@nostarch.com',\n",
              " 'conferences@nostarch.com',\n",
              " 'info@nostarch.com']"
            ]
          },
          "metadata": {},
          "execution_count": 42
        }
      ]
    },
    {
      "cell_type": "code",
      "metadata": {
        "colab": {
          "base_uri": "https://localhost:8080/"
        },
        "id": "AItqrCPd8ro9",
        "outputId": "44aaa56c-a9b0-465d-b151-40036cd9fcaa"
      },
      "source": [
        "%%writefile scrape_contacts.py\n",
        "#!/usr/bin/env python\n",
        "\"\"\"Prints out phone numbers and email adddresses from the given webpage.\"\"\"\n",
        "import argparse\n",
        "import re\n",
        "\n",
        "import requests\n",
        "\n",
        "def main():\n",
        "  \"\"\"Search for numbers and email addresses and print them.\"\"\"\n",
        "  url = get_args().url\n",
        "  page_text = requests.get(url).text\n",
        "  phone_numbers = get_phone_numbers(page_text)\n",
        "  email_addresses = get_email_addresses(page_text)\n",
        "  if phone_numbers:\n",
        "    print('Phone numbers:')\n",
        "    for phone_number in phone_numbers:\n",
        "      print(phone_number)\n",
        "  else:\n",
        "    print('No phone numbers found.')\n",
        "\n",
        "  if email_addresses:\n",
        "    print('Email addresses:')\n",
        "    for email_address in email_addresses:\n",
        "      print(email_address)\n",
        "  else:\n",
        "    print('No email addresses were found.')\n",
        "  \n",
        "\n",
        "\n",
        "def get_args():\n",
        "  \"\"\"Get url from command line.\"\"\"\n",
        "  parser = argparse.ArgumentParser(\n",
        "      description=\"Scrape phone numbers and email addresses from a url\")\n",
        "  parser.add_argument('url', help='URL to scrape')\n",
        "  return parser.parse_args()\n",
        "\n",
        "\n",
        "def get_phone_numbers(text):\n",
        "  \"\"\"Returns phone numbers from the text.\"\"\"\n",
        "  pattern = r'(\\s|^)(\\d{3}|\\(\\d{3}\\))?(\\.|-| )?(\\d{3})(\\.|-|\\s)?(\\d{4})(\\s|$)'\n",
        "  matches = re.findall(pattern, text)\n",
        "  return {'-'.join(match[1::2]) for match in matches}\n",
        "\n",
        "\n",
        "def get_email_addresses(text):\n",
        "  \"\"\"Returns email addresses from the text.\"\"\"\n",
        "  pattern = r'\\S+@\\S+\\.\\S+'\n",
        "  return set(re.findall(pattern, text))\n",
        "\n",
        "\n",
        "if __name__ == '__main__':\n",
        "  main()\n"
      ],
      "execution_count": null,
      "outputs": [
        {
          "output_type": "stream",
          "name": "stdout",
          "text": [
            "Overwriting scrape_contacts.py\n"
          ]
        }
      ]
    },
    {
      "cell_type": "code",
      "metadata": {
        "colab": {
          "base_uri": "https://localhost:8080/"
        },
        "id": "ZTCSjnaECzCa",
        "outputId": "ff6951c0-2a27-42c3-b2c1-3a123b460c05"
      },
      "source": [
        "!python scrape_contacts.py https://nostarch.com/contactus/"
      ],
      "execution_count": null,
      "outputs": [
        {
          "output_type": "stream",
          "name": "stdout",
          "text": [
            "Phone numbers:\n",
            "415-863-9950\n",
            "800-420-7240\n",
            "415-863-9900\n",
            "Email addresses:\n",
            "academic@nostarch.com\n",
            "info@nostarch.com\n",
            "media@nostarch.com\n",
            "conferences@nostarch.com\n"
          ]
        }
      ]
    },
    {
      "cell_type": "markdown",
      "metadata": {
        "id": "88Zpd2n6DY1J"
      },
      "source": [
        "# Practice Projects"
      ]
    },
    {
      "cell_type": "markdown",
      "metadata": {
        "id": "3m7LHkk1DaPf"
      },
      "source": [
        "## Date Detection\n",
        "\n"
      ]
    },
    {
      "cell_type": "code",
      "metadata": {
        "id": "yQVxWFpMDFoS"
      },
      "source": [
        "def find_dates(text):\n",
        "  pattern = r'(0[1-9]|[1-2][0-9]|30|31)\\/(0[1-9]|10|11|12)\\/([1|2]\\d{3})'\n",
        "  matches = re.findall(pattern, text)\n",
        "  if matches:\n",
        "    day, month, year = matches[0]\n",
        "    print(f'Day: {day}, Month: {month}, Year: {year}')\n",
        "  else:\n",
        "    print('No valid date found')"
      ],
      "execution_count": null,
      "outputs": []
    },
    {
      "cell_type": "code",
      "metadata": {
        "colab": {
          "base_uri": "https://localhost:8080/"
        },
        "id": "2vfiuQR0HJVH",
        "outputId": "4cadb986-77e7-4523-9f5f-10e46c4cfdde"
      },
      "source": [
        "find_dates('hello world 31/12/1954')"
      ],
      "execution_count": null,
      "outputs": [
        {
          "output_type": "stream",
          "name": "stdout",
          "text": [
            "Day: 31, Month: 12, Year: 1954\n"
          ]
        }
      ]
    },
    {
      "cell_type": "code",
      "metadata": {
        "colab": {
          "base_uri": "https://localhost:8080/"
        },
        "id": "A4_K8R2SHMq2",
        "outputId": "8cbc12f5-7539-4699-82e8-8ab39444d294"
      },
      "source": [
        "find_dates('hello world 31/15/1954')"
      ],
      "execution_count": null,
      "outputs": [
        {
          "output_type": "stream",
          "name": "stdout",
          "text": [
            "No valid date found\n"
          ]
        }
      ]
    },
    {
      "cell_type": "markdown",
      "metadata": {
        "id": "_oDXnu5BIEeV"
      },
      "source": [
        "## Strong Password Detection"
      ]
    },
    {
      "cell_type": "code",
      "metadata": {
        "id": "medJJVLsH09K"
      },
      "source": [
        "def is_strong_password(password):\n",
        "  \"\"\"Returns True if password is strong.\"\"\"\n",
        "  has_eight_characters = r'\\S{8,}'\n",
        "  has_upper_and_lower_characters = r'(.*[a-z].*[A-Z].*)|(.*[A-Z].*[a-z].*)'\n",
        "  has_one_digit = r'.*\\d.*'\n",
        "  patterns = [has_eight_characters, has_upper_and_lower_characters, has_one_digit]\n",
        "\n",
        "  return all(re.match(pattern, password) for pattern in patterns)"
      ],
      "execution_count": null,
      "outputs": []
    },
    {
      "cell_type": "code",
      "metadata": {
        "colab": {
          "base_uri": "https://localhost:8080/"
        },
        "id": "p01_EGpGJzZC",
        "outputId": "c2d82b99-171a-47fe-eeb3-eb12ac36e066"
      },
      "source": [
        "is_strong_password('X5p3333333')"
      ],
      "execution_count": null,
      "outputs": [
        {
          "output_type": "execute_result",
          "data": {
            "text/plain": [
              "True"
            ]
          },
          "metadata": {},
          "execution_count": 78
        }
      ]
    },
    {
      "cell_type": "code",
      "metadata": {
        "colab": {
          "base_uri": "https://localhost:8080/"
        },
        "id": "KGba4DayJ5IB",
        "outputId": "60c9eda0-9b88-4783-865f-401cf4dda05b"
      },
      "source": [
        "is_strong_password('abcdef543322')"
      ],
      "execution_count": null,
      "outputs": [
        {
          "output_type": "execute_result",
          "data": {
            "text/plain": [
              "False"
            ]
          },
          "metadata": {},
          "execution_count": 79
        }
      ]
    },
    {
      "cell_type": "code",
      "metadata": {
        "colab": {
          "base_uri": "https://localhost:8080/"
        },
        "id": "Nu8dDtDgJ7lO",
        "outputId": "d52770e8-8e6a-43a3-f87a-cea9fb03c070"
      },
      "source": [
        "is_strong_password('Cale03')"
      ],
      "execution_count": null,
      "outputs": [
        {
          "output_type": "execute_result",
          "data": {
            "text/plain": [
              "False"
            ]
          },
          "metadata": {},
          "execution_count": 82
        }
      ]
    },
    {
      "cell_type": "code",
      "metadata": {
        "colab": {
          "base_uri": "https://localhost:8080/"
        },
        "id": "FyVyGaQZKB7g",
        "outputId": "b9a25d86-c49b-419d-a6c2-ffb41cc0e810"
      },
      "source": [
        "is_strong_password('CamErAMaN')"
      ],
      "execution_count": null,
      "outputs": [
        {
          "output_type": "execute_result",
          "data": {
            "text/plain": [
              "False"
            ]
          },
          "metadata": {},
          "execution_count": 83
        }
      ]
    },
    {
      "cell_type": "markdown",
      "metadata": {
        "id": "d00aCyb5KNdI"
      },
      "source": [
        "# Regex Version of strip() method"
      ]
    },
    {
      "cell_type": "code",
      "metadata": {
        "id": "VYOuZr9uKKu1"
      },
      "source": [
        "def regex_strip(text, replace_char=None):\n",
        "  \"\"\"Strip whitespace from edges of the text, or if replace_char is given, strip\n",
        "  that character from the edges.\"\"\"\n",
        "  if replace_char is not None:\n",
        "    pattern = fr'[^{replace_char}].*[^{replace_char}]'\n",
        "  else:\n",
        "    pattern = r'\\S.*\\S'\n",
        "  return re.findall(pattern, text)[0]"
      ],
      "execution_count": null,
      "outputs": []
    },
    {
      "cell_type": "code",
      "metadata": {
        "colab": {
          "base_uri": "https://localhost:8080/",
          "height": 35
        },
        "id": "qXecEEFUKi59",
        "outputId": "34b2a12c-2430-4b62-a823-15be2a25d184"
      },
      "source": [
        "regex_strip('         HELLO WORLD        ')"
      ],
      "execution_count": null,
      "outputs": [
        {
          "output_type": "execute_result",
          "data": {
            "application/vnd.google.colaboratory.intrinsic+json": {
              "type": "string"
            },
            "text/plain": [
              "'HELLO WORLD'"
            ]
          },
          "metadata": {},
          "execution_count": 107
        }
      ]
    },
    {
      "cell_type": "code",
      "metadata": {
        "colab": {
          "base_uri": "https://localhost:8080/",
          "height": 35
        },
        "id": "pNZcIAtZMBo6",
        "outputId": "586cbbd9-da5d-4666-a970-c5024c866a2d"
      },
      "source": [
        "regex_strip('WWWWWWWHELLO WORLDWWWWWWW', replace_char='W')"
      ],
      "execution_count": null,
      "outputs": [
        {
          "output_type": "execute_result",
          "data": {
            "application/vnd.google.colaboratory.intrinsic+json": {
              "type": "string"
            },
            "text/plain": [
              "'HELLO WORLD'"
            ]
          },
          "metadata": {},
          "execution_count": 108
        }
      ]
    }
  ]
}