{
  "nbformat": 4,
  "nbformat_minor": 0,
  "metadata": {
    "colab": {
      "name": "15_Working_With_PDF_and_Word_Documents.ipynb",
      "provenance": [],
      "collapsed_sections": [],
      "authorship_tag": "ABX9TyM7ZPRYEQt89TBCFfif1VCa",
      "include_colab_link": true
    },
    "kernelspec": {
      "name": "python3",
      "display_name": "Python 3"
    },
    "language_info": {
      "name": "python"
    }
  },
  "cells": [
    {
      "cell_type": "markdown",
      "metadata": {
        "id": "view-in-github",
        "colab_type": "text"
      },
      "source": [
        "<a href=\"https://colab.research.google.com/github/M-110/automate-the-boring-stuff/blob/main/15_Working_With_PDF_and_Word_Documents.ipynb\" target=\"_parent\"><img src=\"https://colab.research.google.com/assets/colab-badge.svg\" alt=\"Open In Colab\"/></a>"
      ]
    },
    {
      "cell_type": "code",
      "metadata": {
        "id": "56uXvEuNVkL9",
        "colab": {
          "base_uri": "https://localhost:8080/"
        },
        "outputId": "54282a08-92f2-40fe-806e-08d0d2c77deb"
      },
      "source": [
        "!pip install PyPDF2 -q"
      ],
      "execution_count": null,
      "outputs": [
        {
          "output_type": "stream",
          "name": "stdout",
          "text": [
            "\u001b[?25l\r\u001b[K     |████▎                           | 10 kB 17.5 MB/s eta 0:00:01\r\u001b[K     |████████▌                       | 20 kB 21.5 MB/s eta 0:00:01\r\u001b[K     |████████████▊                   | 30 kB 25.9 MB/s eta 0:00:01\r\u001b[K     |█████████████████               | 40 kB 27.1 MB/s eta 0:00:01\r\u001b[K     |█████████████████████▏          | 51 kB 29.6 MB/s eta 0:00:01\r\u001b[K     |█████████████████████████▍      | 61 kB 32.5 MB/s eta 0:00:01\r\u001b[K     |█████████████████████████████▋  | 71 kB 33.9 MB/s eta 0:00:01\r\u001b[K     |████████████████████████████████| 77 kB 5.0 MB/s \n",
            "\u001b[?25h  Building wheel for PyPDF2 (setup.py) ... \u001b[?25l\u001b[?25hdone\n"
          ]
        }
      ]
    },
    {
      "cell_type": "code",
      "metadata": {
        "id": "TcM0CKR4Vx75"
      },
      "source": [
        "!wget https://nostarch.com/download/Automate_the_Boring_Stuff_onlinematerials_v.2.zip -q\n",
        "!unzip -q Automate_the_Boring_Stuff_onlinematerials_v.2.zip\n",
        "!rm Automate_the_Boring_Stuff_onlinematerials_v.2.zip\n",
        "!mv automate_online-materials materials"
      ],
      "execution_count": null,
      "outputs": []
    },
    {
      "cell_type": "markdown",
      "metadata": {
        "id": "rkyCiZgCWVSQ"
      },
      "source": [
        "# PDF"
      ]
    },
    {
      "cell_type": "code",
      "metadata": {
        "id": "P1h2OIsPQ8A6"
      },
      "source": [
        "import PyPDF2 as pdf"
      ],
      "execution_count": null,
      "outputs": []
    },
    {
      "cell_type": "code",
      "metadata": {
        "colab": {
          "base_uri": "https://localhost:8080/"
        },
        "id": "KDJ_5rqkVcof",
        "outputId": "8778c540-90bb-4a2c-ab51-71e8c64d4397"
      },
      "source": [
        "with open('materials/meetingminutes.pdf', 'rb') as pdf_file:\n",
        "  pdf_reader = pdf.PdfFileReader(pdf_file)\n",
        "  print(pdf_reader.getPage(0).extractText())"
      ],
      "execution_count": null,
      "outputs": [
        {
          "output_type": "stream",
          "name": "stdout",
          "text": [
            "OOFFFFIICCIIAALL  BBOOAARRDD  MMIINNUUTTEESS   Meeting of \n",
            "March 7\n",
            ", 2014\n",
            "        \n",
            "     The Board of Elementary and Secondary Education shall provide leadership and \n",
            "create policies for education that expand opportunities for children, empower \n",
            "families and communities, and advance Louisiana in an increasingly \n",
            "competitive glob\n",
            "al market.\n",
            " BOARD \n",
            " of ELEMENTARY\n",
            " and \n",
            " SECONDARY\n",
            " EDUCATION\n",
            "  \n"
          ]
        }
      ]
    },
    {
      "cell_type": "markdown",
      "metadata": {
        "id": "9-mh00-oWs_Z"
      },
      "source": [
        "## Decrypt"
      ]
    },
    {
      "cell_type": "code",
      "metadata": {
        "colab": {
          "base_uri": "https://localhost:8080/"
        },
        "id": "i9ZFkCA4WIHn",
        "outputId": "c89fd4b8-c68c-436e-a514-621aed41bea9"
      },
      "source": [
        "with open('materials/encrypted.pdf', 'rb') as pdf_file:\n",
        "  pdf_reader = pdf.PdfFileReader(pdf_file)\n",
        "  print(pdf_reader.isEncrypted)"
      ],
      "execution_count": null,
      "outputs": [
        {
          "output_type": "stream",
          "name": "stdout",
          "text": [
            "True\n"
          ]
        }
      ]
    },
    {
      "cell_type": "code",
      "metadata": {
        "colab": {
          "base_uri": "https://localhost:8080/",
          "height": 340
        },
        "id": "YytA7YccWLF4",
        "outputId": "81f8fdee-f434-4255-98d8-afd7ba7a258a"
      },
      "source": [
        "with open('materials/encrypted.pdf', 'rb') as pdf_file:\n",
        "  pdf_reader = pdf.PdfFileReader(pdf_file)\n",
        "  pdf_reader.decrypt('rosebud')\n",
        "  print(pdf_reader.getPage(0).extractText())"
      ],
      "execution_count": null,
      "outputs": [
        {
          "output_type": "error",
          "ename": "PdfReadError",
          "evalue": "ignored",
          "traceback": [
            "\u001b[0;31m---------------------------------------------------------------------------\u001b[0m",
            "\u001b[0;31mPdfReadError\u001b[0m                              Traceback (most recent call last)",
            "\u001b[0;32m<ipython-input-106-d19dce581c83>\u001b[0m in \u001b[0;36m<module>\u001b[0;34m()\u001b[0m\n\u001b[1;32m      2\u001b[0m   \u001b[0mpdf_reader\u001b[0m \u001b[0;34m=\u001b[0m \u001b[0mpdf\u001b[0m\u001b[0;34m.\u001b[0m\u001b[0mPdfFileReader\u001b[0m\u001b[0;34m(\u001b[0m\u001b[0mpdf_file\u001b[0m\u001b[0;34m)\u001b[0m\u001b[0;34m\u001b[0m\u001b[0;34m\u001b[0m\u001b[0m\n\u001b[1;32m      3\u001b[0m   \u001b[0mpdf_reader\u001b[0m\u001b[0;34m.\u001b[0m\u001b[0mdecrypt\u001b[0m\u001b[0;34m(\u001b[0m\u001b[0;34m'rosebj'\u001b[0m\u001b[0;34m)\u001b[0m\u001b[0;34m\u001b[0m\u001b[0;34m\u001b[0m\u001b[0m\n\u001b[0;32m----> 4\u001b[0;31m   \u001b[0mprint\u001b[0m\u001b[0;34m(\u001b[0m\u001b[0mpdf_reader\u001b[0m\u001b[0;34m.\u001b[0m\u001b[0mgetPage\u001b[0m\u001b[0;34m(\u001b[0m\u001b[0;36m0\u001b[0m\u001b[0;34m)\u001b[0m\u001b[0;34m.\u001b[0m\u001b[0mextractText\u001b[0m\u001b[0;34m(\u001b[0m\u001b[0;34m)\u001b[0m\u001b[0;34m)\u001b[0m\u001b[0;34m\u001b[0m\u001b[0;34m\u001b[0m\u001b[0m\n\u001b[0m",
            "\u001b[0;32m/usr/local/lib/python3.7/dist-packages/PyPDF2/pdf.py\u001b[0m in \u001b[0;36mgetPage\u001b[0;34m(self, pageNumber)\u001b[0m\n\u001b[1;32m   1174\u001b[0m         \u001b[0;31m#assert not self.trailer.has_key(\"/Encrypt\")\u001b[0m\u001b[0;34m\u001b[0m\u001b[0;34m\u001b[0m\u001b[0;34m\u001b[0m\u001b[0m\n\u001b[1;32m   1175\u001b[0m         \u001b[0;32mif\u001b[0m \u001b[0mself\u001b[0m\u001b[0;34m.\u001b[0m\u001b[0mflattenedPages\u001b[0m \u001b[0;34m==\u001b[0m \u001b[0;32mNone\u001b[0m\u001b[0;34m:\u001b[0m\u001b[0;34m\u001b[0m\u001b[0;34m\u001b[0m\u001b[0m\n\u001b[0;32m-> 1176\u001b[0;31m             \u001b[0mself\u001b[0m\u001b[0;34m.\u001b[0m\u001b[0m_flatten\u001b[0m\u001b[0;34m(\u001b[0m\u001b[0;34m)\u001b[0m\u001b[0;34m\u001b[0m\u001b[0;34m\u001b[0m\u001b[0m\n\u001b[0m\u001b[1;32m   1177\u001b[0m         \u001b[0;32mreturn\u001b[0m \u001b[0mself\u001b[0m\u001b[0;34m.\u001b[0m\u001b[0mflattenedPages\u001b[0m\u001b[0;34m[\u001b[0m\u001b[0mpageNumber\u001b[0m\u001b[0;34m]\u001b[0m\u001b[0;34m\u001b[0m\u001b[0;34m\u001b[0m\u001b[0m\n\u001b[1;32m   1178\u001b[0m \u001b[0;34m\u001b[0m\u001b[0m\n",
            "\u001b[0;32m/usr/local/lib/python3.7/dist-packages/PyPDF2/pdf.py\u001b[0m in \u001b[0;36m_flatten\u001b[0;34m(self, pages, inherit, indirectRef)\u001b[0m\n\u001b[1;32m   1503\u001b[0m         \u001b[0;32mif\u001b[0m \u001b[0mpages\u001b[0m \u001b[0;34m==\u001b[0m \u001b[0;32mNone\u001b[0m\u001b[0;34m:\u001b[0m\u001b[0;34m\u001b[0m\u001b[0;34m\u001b[0m\u001b[0m\n\u001b[1;32m   1504\u001b[0m             \u001b[0mself\u001b[0m\u001b[0;34m.\u001b[0m\u001b[0mflattenedPages\u001b[0m \u001b[0;34m=\u001b[0m \u001b[0;34m[\u001b[0m\u001b[0;34m]\u001b[0m\u001b[0;34m\u001b[0m\u001b[0;34m\u001b[0m\u001b[0m\n\u001b[0;32m-> 1505\u001b[0;31m             \u001b[0mcatalog\u001b[0m \u001b[0;34m=\u001b[0m \u001b[0mself\u001b[0m\u001b[0;34m.\u001b[0m\u001b[0mtrailer\u001b[0m\u001b[0;34m[\u001b[0m\u001b[0;34m\"/Root\"\u001b[0m\u001b[0;34m]\u001b[0m\u001b[0;34m.\u001b[0m\u001b[0mgetObject\u001b[0m\u001b[0;34m(\u001b[0m\u001b[0;34m)\u001b[0m\u001b[0;34m\u001b[0m\u001b[0;34m\u001b[0m\u001b[0m\n\u001b[0m\u001b[1;32m   1506\u001b[0m             \u001b[0mpages\u001b[0m \u001b[0;34m=\u001b[0m \u001b[0mcatalog\u001b[0m\u001b[0;34m[\u001b[0m\u001b[0;34m\"/Pages\"\u001b[0m\u001b[0;34m]\u001b[0m\u001b[0;34m.\u001b[0m\u001b[0mgetObject\u001b[0m\u001b[0;34m(\u001b[0m\u001b[0;34m)\u001b[0m\u001b[0;34m\u001b[0m\u001b[0;34m\u001b[0m\u001b[0m\n\u001b[1;32m   1507\u001b[0m \u001b[0;34m\u001b[0m\u001b[0m\n",
            "\u001b[0;32m/usr/local/lib/python3.7/dist-packages/PyPDF2/generic.py\u001b[0m in \u001b[0;36m__getitem__\u001b[0;34m(self, key)\u001b[0m\n\u001b[1;32m    514\u001b[0m \u001b[0;34m\u001b[0m\u001b[0m\n\u001b[1;32m    515\u001b[0m     \u001b[0;32mdef\u001b[0m \u001b[0m__getitem__\u001b[0m\u001b[0;34m(\u001b[0m\u001b[0mself\u001b[0m\u001b[0;34m,\u001b[0m \u001b[0mkey\u001b[0m\u001b[0;34m)\u001b[0m\u001b[0;34m:\u001b[0m\u001b[0;34m\u001b[0m\u001b[0;34m\u001b[0m\u001b[0m\n\u001b[0;32m--> 516\u001b[0;31m         \u001b[0;32mreturn\u001b[0m \u001b[0mdict\u001b[0m\u001b[0;34m.\u001b[0m\u001b[0m__getitem__\u001b[0m\u001b[0;34m(\u001b[0m\u001b[0mself\u001b[0m\u001b[0;34m,\u001b[0m \u001b[0mkey\u001b[0m\u001b[0;34m)\u001b[0m\u001b[0;34m.\u001b[0m\u001b[0mgetObject\u001b[0m\u001b[0;34m(\u001b[0m\u001b[0;34m)\u001b[0m\u001b[0;34m\u001b[0m\u001b[0;34m\u001b[0m\u001b[0m\n\u001b[0m\u001b[1;32m    517\u001b[0m \u001b[0;34m\u001b[0m\u001b[0m\n\u001b[1;32m    518\u001b[0m     \u001b[0;31m##\u001b[0m\u001b[0;34m\u001b[0m\u001b[0;34m\u001b[0m\u001b[0;34m\u001b[0m\u001b[0m\n",
            "\u001b[0;32m/usr/local/lib/python3.7/dist-packages/PyPDF2/generic.py\u001b[0m in \u001b[0;36mgetObject\u001b[0;34m(self)\u001b[0m\n\u001b[1;32m    176\u001b[0m \u001b[0;34m\u001b[0m\u001b[0m\n\u001b[1;32m    177\u001b[0m     \u001b[0;32mdef\u001b[0m \u001b[0mgetObject\u001b[0m\u001b[0;34m(\u001b[0m\u001b[0mself\u001b[0m\u001b[0;34m)\u001b[0m\u001b[0;34m:\u001b[0m\u001b[0;34m\u001b[0m\u001b[0;34m\u001b[0m\u001b[0m\n\u001b[0;32m--> 178\u001b[0;31m         \u001b[0;32mreturn\u001b[0m \u001b[0mself\u001b[0m\u001b[0;34m.\u001b[0m\u001b[0mpdf\u001b[0m\u001b[0;34m.\u001b[0m\u001b[0mgetObject\u001b[0m\u001b[0;34m(\u001b[0m\u001b[0mself\u001b[0m\u001b[0;34m)\u001b[0m\u001b[0;34m.\u001b[0m\u001b[0mgetObject\u001b[0m\u001b[0;34m(\u001b[0m\u001b[0;34m)\u001b[0m\u001b[0;34m\u001b[0m\u001b[0;34m\u001b[0m\u001b[0m\n\u001b[0m\u001b[1;32m    179\u001b[0m \u001b[0;34m\u001b[0m\u001b[0m\n\u001b[1;32m    180\u001b[0m     \u001b[0;32mdef\u001b[0m \u001b[0m__repr__\u001b[0m\u001b[0;34m(\u001b[0m\u001b[0mself\u001b[0m\u001b[0;34m)\u001b[0m\u001b[0;34m:\u001b[0m\u001b[0;34m\u001b[0m\u001b[0;34m\u001b[0m\u001b[0m\n",
            "\u001b[0;32m/usr/local/lib/python3.7/dist-packages/PyPDF2/pdf.py\u001b[0m in \u001b[0;36mgetObject\u001b[0;34m(self, indirectReference)\u001b[0m\n\u001b[1;32m   1615\u001b[0m                 \u001b[0;31m# if we don't have the encryption key:\u001b[0m\u001b[0;34m\u001b[0m\u001b[0;34m\u001b[0m\u001b[0;34m\u001b[0m\u001b[0m\n\u001b[1;32m   1616\u001b[0m                 \u001b[0;32mif\u001b[0m \u001b[0;32mnot\u001b[0m \u001b[0mhasattr\u001b[0m\u001b[0;34m(\u001b[0m\u001b[0mself\u001b[0m\u001b[0;34m,\u001b[0m \u001b[0;34m'_decryption_key'\u001b[0m\u001b[0;34m)\u001b[0m\u001b[0;34m:\u001b[0m\u001b[0;34m\u001b[0m\u001b[0;34m\u001b[0m\u001b[0m\n\u001b[0;32m-> 1617\u001b[0;31m                     \u001b[0;32mraise\u001b[0m \u001b[0mutils\u001b[0m\u001b[0;34m.\u001b[0m\u001b[0mPdfReadError\u001b[0m\u001b[0;34m(\u001b[0m\u001b[0;34m\"file has not been decrypted\"\u001b[0m\u001b[0;34m)\u001b[0m\u001b[0;34m\u001b[0m\u001b[0;34m\u001b[0m\u001b[0m\n\u001b[0m\u001b[1;32m   1618\u001b[0m                 \u001b[0;31m# otherwise, decrypt here...\u001b[0m\u001b[0;34m\u001b[0m\u001b[0;34m\u001b[0m\u001b[0;34m\u001b[0m\u001b[0m\n\u001b[1;32m   1619\u001b[0m                 \u001b[0;32mimport\u001b[0m \u001b[0mstruct\u001b[0m\u001b[0;34m\u001b[0m\u001b[0;34m\u001b[0m\u001b[0m\n",
            "\u001b[0;31mPdfReadError\u001b[0m: file has not been decrypted"
          ]
        }
      ]
    },
    {
      "cell_type": "markdown",
      "metadata": {
        "id": "DUQJ2dLOZv5H"
      },
      "source": [
        "## Merge Two PDFs\n"
      ]
    },
    {
      "cell_type": "code",
      "metadata": {
        "id": "bvzNJfePW9UB"
      },
      "source": [
        "with open('materials/meetingminutes.pdf', 'rb') as pdf_1, \\\n",
        "     open('materials/meetingminutes2.pdf', 'rb') as pdf_2:\n",
        "  reader_1 = pdf.PdfFileReader(pdf_1)\n",
        "  reader_2 = pdf.PdfFileReader(pdf_2)\n",
        "  pdf_writer = pdf.PdfFileWriter()\n",
        "  for page in range(reader_1.numPages):\n",
        "    pdf_writer.addPage(reader_1.getPage(page))\n",
        "\n",
        "  for page in range(reader_2.numPages):\n",
        "    pdf_writer.addPage(reader_2.getPage(page))\n",
        "\n",
        "  with open('combined_minutes.pdf', 'wb') as output:\n",
        "    pdf_writer.write(output)"
      ],
      "execution_count": null,
      "outputs": []
    },
    {
      "cell_type": "markdown",
      "metadata": {
        "id": "tApEWVfBZ4Ht"
      },
      "source": [
        "## Rotate"
      ]
    },
    {
      "cell_type": "code",
      "metadata": {
        "id": "Bg_gTNdjYMDp"
      },
      "source": [
        "with open('materials/meetingminutes.pdf', 'rb') as pdf_file:\n",
        "  pdf_reader = pdf.PdfFileReader(pdf_file)\n",
        "  page = pdf_reader.getPage(0)\n",
        "  page.rotateClockwise(90)\n",
        "  pdf_writer = pdf.PdfFileWriter()\n",
        "  pdf_writer.addPage(page)\n",
        "  with open('rotated_page.pdf', 'wb') as output:\n",
        "    pdf_writer.write(output)"
      ],
      "execution_count": null,
      "outputs": []
    },
    {
      "cell_type": "markdown",
      "metadata": {
        "id": "1_eatwF9hk9O"
      },
      "source": [
        "## Overlaying pages"
      ]
    },
    {
      "cell_type": "code",
      "metadata": {
        "id": "pgm-TfofaY1g"
      },
      "source": [
        "with open('materials/meetingminutes.pdf', 'rb') as pdf_file, \\\n",
        "     open('materials/watermark.pdf', 'rb') as watermark_file:\n",
        "  pdf_reader = pdf.PdfFileReader(pdf_file)\n",
        "  watermark_reader = pdf.PdfFileReader(watermark_file)\n",
        "  watermark = watermark_reader.getPage(0)\n",
        "  pdf_writer = pdf.PdfFileWriter()\n",
        "  for i in range(pdf_reader.numPages):\n",
        "    page = pdf_reader.getPage(i)\n",
        "    page.mergePage(watermark)\n",
        "    pdf_writer.addPage(page)\n",
        "  with open('watermarked_minutes.pdf', 'wb') as output:\n",
        "    pdf_writer.write(output)"
      ],
      "execution_count": null,
      "outputs": []
    },
    {
      "cell_type": "markdown",
      "metadata": {
        "id": "rW9O0MYJkWJV"
      },
      "source": [
        "## Encrypting Pages"
      ]
    },
    {
      "cell_type": "code",
      "metadata": {
        "id": "N725dRlDitWZ"
      },
      "source": [
        "with open('materials/meetingminutes.pdf', 'rb') as pdf_file:\n",
        "  pdf_reader = pdf.PdfFileReader(pdf_file)\n",
        "  pdf_writer = pdf.PdfFileWriter()\n",
        "  for i in range(pdf_reader.numPages):\n",
        "    pdf_writer.addPage(pdf_reader.getPage(i))\n",
        "  pdf_writer.encrypt('swordfish')\n",
        "  with open('encrypted_minutes.pdf', 'wb') as output:\n",
        "    pdf_writer.write(output)"
      ],
      "execution_count": null,
      "outputs": []
    },
    {
      "cell_type": "markdown",
      "metadata": {
        "id": "AopIhrzIlJL5"
      },
      "source": [
        "# Project: Combining Select Pages from Many PDFs"
      ]
    },
    {
      "cell_type": "code",
      "metadata": {
        "id": "cKJgt3Q1sTgu"
      },
      "source": [
        "!echo 'a' > a.txt"
      ],
      "execution_count": null,
      "outputs": []
    },
    {
      "cell_type": "code",
      "metadata": {
        "id": "K_mQLdGJsIaS"
      },
      "source": [
        "!mkdir pdf_dir\n",
        "!cp materials/meetingminutes.pdf pdf_dir/meetingminutes1.pdf\n",
        "!cp materials/meetingminutes.pdf pdf_dir/meetingminutes2.pdf\n",
        "!cp materials/meetingminutes.pdf pdf_dir/meetingminutes3.pdf\n",
        "!cp materials/meetingminutes.pdf pdf_dir/meetingminutes4.pdf"
      ],
      "execution_count": null,
      "outputs": []
    },
    {
      "cell_type": "code",
      "metadata": {
        "colab": {
          "base_uri": "https://localhost:8080/"
        },
        "id": "lzlGcGV0ky3T",
        "outputId": "69edee28-13f3-484c-f95f-7ed64e4a568f"
      },
      "source": [
        "%%writefile combine_pdfs.py\n",
        "#!/usr/bin/env python\n",
        "\"\"\"Combine all PDFs in a directory into one file.\"\"\"\n",
        "import argparse\n",
        "from pathlib import Path\n",
        "\n",
        "import PyPDF2 as pdf\n",
        "from PyPDF2.utils import PdfReadError\n",
        "\n",
        "\n",
        "def main():\n",
        "  args = get_args()\n",
        "  pdf_filenames = get_pdf_filenames(args.directory)\n",
        "  file_readers = [open(filename, 'rb') for filename in pdf_filenames]\n",
        "  pdf_writer = pdf.PdfFileWriter()\n",
        "  combine_pdfs(file_readers, pdf_writer, args.exclude, args.skip)\n",
        "  pdf_writer.write(args.output)\n",
        "  for file_reader in file_readers:\n",
        "    file_reader.close()\n",
        "  print(f'Saved to {args.output.name}')\n",
        "\n",
        "\n",
        "def get_args():\n",
        "  \"\"\"Get arguments from command line.\"\"\"\n",
        "  parser = argparse.ArgumentParser(\n",
        "      description='Combine PDFs into one file'\n",
        "  )\n",
        "  parser.add_argument('-o',\n",
        "                      '--output',\n",
        "                      type=argparse.FileType('wb'),\n",
        "                      help='Filename to save the combined PDF as')\n",
        "  parser.add_argument('-d',\n",
        "                      '--directory',\n",
        "                      help='Directory to find PDFs in',\n",
        "                      default='.')\n",
        "  parser.add_argument('-x',\n",
        "                      '--exclude',\n",
        "                      nargs='+',\n",
        "                      type=int,\n",
        "                      help='Exclude these pages from all PDFs',\n",
        "                      default=[])\n",
        "  parser.add_argument('-s',\n",
        "                      '--skip',\n",
        "                      nargs='+',\n",
        "                      type=int,\n",
        "                      help='Skip these pages after the first PDF',\n",
        "                      default=[])\n",
        "  return parser.parse_args()\n",
        "\n",
        "\n",
        "def get_pdf_filenames(directory):\n",
        "  \"\"\"Returna a sorted generator of all PDF filenames in the given directory.\"\"\"\n",
        "  return sorted(Path(directory).glob('*.pdf'))\n",
        "\n",
        "\n",
        "def combine_pdfs(file_readers, writer, exclude, skip):\n",
        "  \"\"\"Add all the pages from the file_readers to the writer. Exclude all pages\n",
        "  in exclude. And skip all pages in skip if it is not the first page.\"\"\"\n",
        "  for file_num, pdf_file in enumerate(file_readers):\n",
        "    try:\n",
        "      pdf_reader = pdf.PdfFileReader(pdf_file)\n",
        "      for page_num in range(pdf_reader.numPages):\n",
        "        if page_num + 1 in exclude:\n",
        "          continue\n",
        "        if file_num != 0 and page_num + 1 in skip:\n",
        "          continue\n",
        "        writer.addPage(pdf_reader.getPage(page_num))\n",
        "    except PdfReadError as e:\n",
        "      print(f'Failed to read {pdf_file.name}: {e}')\n",
        "\n",
        "\n",
        "if __name__ == '__main__':\n",
        "  main()\n"
      ],
      "execution_count": null,
      "outputs": [
        {
          "output_type": "stream",
          "name": "stdout",
          "text": [
            "Overwriting combine_pdfs.py\n"
          ]
        }
      ]
    },
    {
      "cell_type": "code",
      "metadata": {
        "id": "fEqngfQWnCur"
      },
      "source": [
        "!chmod +x combine_pdfs.py"
      ],
      "execution_count": null,
      "outputs": []
    },
    {
      "cell_type": "code",
      "metadata": {
        "colab": {
          "base_uri": "https://localhost:8080/"
        },
        "id": "Q-28027EnFMJ",
        "outputId": "ab93f6f4-e78f-416a-db4b-561dae176f94"
      },
      "source": [
        "!./combine_pdfs.py -o combined_file.pdf -d pdf_dir/ -s 1"
      ],
      "execution_count": null,
      "outputs": [
        {
          "output_type": "stream",
          "name": "stdout",
          "text": [
            "Saved to combined_file.pdf\n"
          ]
        }
      ]
    },
    {
      "cell_type": "markdown",
      "metadata": {
        "id": "F4jZtPPSwcv1"
      },
      "source": [
        "# Word"
      ]
    },
    {
      "cell_type": "code",
      "metadata": {
        "colab": {
          "base_uri": "https://localhost:8080/"
        },
        "id": "0shoCkqwwEB8",
        "outputId": "14a74888-29a7-4da2-e9d4-3eded67f70ac"
      },
      "source": [
        "!pip install python-docx"
      ],
      "execution_count": null,
      "outputs": [
        {
          "output_type": "stream",
          "name": "stdout",
          "text": [
            "Collecting python-docx\n",
            "  Downloading python-docx-0.8.11.tar.gz (5.6 MB)\n",
            "\u001b[K     |████████████████████████████████| 5.6 MB 21.2 MB/s \n",
            "\u001b[?25hRequirement already satisfied: lxml>=2.3.2 in /usr/local/lib/python3.7/dist-packages (from python-docx) (4.2.6)\n",
            "Building wheels for collected packages: python-docx\n",
            "  Building wheel for python-docx (setup.py) ... \u001b[?25l\u001b[?25hdone\n",
            "  Created wheel for python-docx: filename=python_docx-0.8.11-py3-none-any.whl size=184508 sha256=bb7cb18f93511867a235325c3850aa2ca1a2f8ccbd0b4a2b0f20e75f6c569e11\n",
            "  Stored in directory: /root/.cache/pip/wheels/f6/6f/b9/d798122a8b55b74ad30b5f52b01482169b445fbb84a11797a6\n",
            "Successfully built python-docx\n",
            "Installing collected packages: python-docx\n",
            "Successfully installed python-docx-0.8.11\n"
          ]
        }
      ]
    },
    {
      "cell_type": "code",
      "metadata": {
        "id": "ETlxwXSRwn5s"
      },
      "source": [
        "import docx"
      ],
      "execution_count": null,
      "outputs": []
    },
    {
      "cell_type": "code",
      "metadata": {
        "id": "qfMLnLi1wvE4"
      },
      "source": [
        "doc = docx.Document('materials/demo.docx')"
      ],
      "execution_count": null,
      "outputs": []
    },
    {
      "cell_type": "code",
      "metadata": {
        "colab": {
          "base_uri": "https://localhost:8080/"
        },
        "id": "xb3zZINrw2AW",
        "outputId": "819e1674-b2fc-4fdf-dd86-9b60e2864a99"
      },
      "source": [
        "for paragraph in doc.paragraphs:\n",
        "  print(paragraph.text)"
      ],
      "execution_count": null,
      "outputs": [
        {
          "output_type": "stream",
          "name": "stdout",
          "text": [
            "Document Title\n",
            "A plain paragraph with some bold and some italic\n",
            "Heading, level 1\n",
            "Intense quote\n",
            "first item in unordered list\n",
            "first item in ordered list\n",
            "\n",
            "\n"
          ]
        }
      ]
    },
    {
      "cell_type": "code",
      "metadata": {
        "colab": {
          "base_uri": "https://localhost:8080/"
        },
        "id": "9ud1D_Gkw29t",
        "outputId": "b654d708-774d-4192-c774-b2034c975258"
      },
      "source": [
        "doc.paragraphs[2].style"
      ],
      "execution_count": null,
      "outputs": [
        {
          "output_type": "execute_result",
          "data": {
            "text/plain": [
              "_ParagraphStyle('Heading 1') id: 140607321220880"
            ]
          },
          "metadata": {},
          "execution_count": 7
        }
      ]
    },
    {
      "cell_type": "markdown",
      "metadata": {
        "id": "3yFXcDrOlKTs"
      },
      "source": [
        "## Create Word Documents"
      ]
    },
    {
      "cell_type": "code",
      "metadata": {
        "id": "gRAO5-WzxEI-"
      },
      "source": [
        "doc = docx.Document()\n",
        "doc.add_paragraph('Hello World!')\n",
        "doc.save('hello.docx')"
      ],
      "execution_count": null,
      "outputs": []
    },
    {
      "cell_type": "markdown",
      "metadata": {
        "id": "AV3DzdEZl3Rp"
      },
      "source": [
        "### adding headers"
      ]
    },
    {
      "cell_type": "code",
      "metadata": {
        "colab": {
          "base_uri": "https://localhost:8080/"
        },
        "id": "sWuQrVutlSUi",
        "outputId": "480f2fb7-4dc2-49c2-8806-1a54ed0fc465"
      },
      "source": [
        "doc.add_heading('Header 1', 1)"
      ],
      "execution_count": null,
      "outputs": [
        {
          "output_type": "execute_result",
          "data": {
            "text/plain": [
              "<docx.text.paragraph.Paragraph at 0x7fe1b1164490>"
            ]
          },
          "metadata": {},
          "execution_count": 9
        }
      ]
    },
    {
      "cell_type": "code",
      "metadata": {
        "id": "iLUUxyhhls1Y"
      },
      "source": [
        "doc.save('hello.docx')"
      ],
      "execution_count": null,
      "outputs": []
    },
    {
      "cell_type": "markdown",
      "metadata": {
        "id": "yBmsXi7Ml0Oa"
      },
      "source": [
        "### Adding line/page breaks"
      ]
    },
    {
      "cell_type": "code",
      "metadata": {
        "colab": {
          "base_uri": "https://localhost:8080/"
        },
        "id": "mKoX1iqRlugw",
        "outputId": "57e6bc78-2623-4c6c-f710-544d9d298fce"
      },
      "source": [
        "doc.add_page_break()"
      ],
      "execution_count": null,
      "outputs": [
        {
          "output_type": "execute_result",
          "data": {
            "text/plain": [
              "<docx.text.paragraph.Paragraph at 0x7fe1b1186d10>"
            ]
          },
          "metadata": {},
          "execution_count": 11
        }
      ]
    },
    {
      "cell_type": "code",
      "metadata": {
        "colab": {
          "base_uri": "https://localhost:8080/"
        },
        "id": "i_OePkYil-LL",
        "outputId": "ab0c7bbd-26ec-4bd5-f27c-01861486cc10"
      },
      "source": [
        "doc.add_heading('Page 2', 0)"
      ],
      "execution_count": null,
      "outputs": [
        {
          "output_type": "execute_result",
          "data": {
            "text/plain": [
              "<docx.text.paragraph.Paragraph at 0x7fe1b1106690>"
            ]
          },
          "metadata": {},
          "execution_count": 12
        }
      ]
    },
    {
      "cell_type": "code",
      "metadata": {
        "id": "S0zkVJLXmAP-"
      },
      "source": [
        "doc.save('hello.docx')"
      ],
      "execution_count": null,
      "outputs": []
    },
    {
      "cell_type": "markdown",
      "metadata": {
        "id": "lXu0e91JmLOu"
      },
      "source": [
        "### Add pictures"
      ]
    },
    {
      "cell_type": "code",
      "metadata": {
        "colab": {
          "base_uri": "https://localhost:8080/"
        },
        "id": "mnrFKxkdmBcl",
        "outputId": "04f1823b-8b62-4c33-c752-bd5909076aa7"
      },
      "source": [
        "doc.add_picture('materials/zophie.png', width=docx.shared.Inches(1),\n",
        "                height=docx.shared.Cm(4))"
      ],
      "execution_count": null,
      "outputs": [
        {
          "output_type": "execute_result",
          "data": {
            "text/plain": [
              "<docx.shape.InlineShape at 0x7fe1b1164090>"
            ]
          },
          "metadata": {},
          "execution_count": 14
        }
      ]
    },
    {
      "cell_type": "code",
      "metadata": {
        "id": "KtV0V9S1miAi"
      },
      "source": [
        "doc.save('hello.docx')"
      ],
      "execution_count": null,
      "outputs": []
    },
    {
      "cell_type": "markdown",
      "metadata": {
        "id": "VIwdqHBVm3uV"
      },
      "source": [
        "# Practice Projects"
      ]
    },
    {
      "cell_type": "markdown",
      "metadata": {
        "id": "29UTv06wnEi_"
      },
      "source": [
        "## PDF Paranoia"
      ]
    },
    {
      "cell_type": "code",
      "metadata": {
        "colab": {
          "base_uri": "https://localhost:8080/"
        },
        "id": "0yMb1_RMmjQu",
        "outputId": "0d88a173-4d9a-445a-b71d-f8e035e7a311"
      },
      "source": [
        "%%writefile pdf_encryption.py\n",
        "#!/usr/bin/env python\n",
        "\"\"\"Encrypt or decrypt all files in a directory.\"\"\"\n",
        "import argparse\n",
        "from pathlib import Path\n",
        "\n",
        "import PyPDF2 as pdf\n",
        "from PyPDF2.utils import PdfReadError\n",
        "\n",
        "\n",
        "def main():\n",
        "  args = get_args()\n",
        "  pdf_filenames = get_pdf_filenames(args.directory)\n",
        "  file_readers = [open(filename, 'rb') for filename in pdf_filenames]\n",
        "  if args.decrypt:\n",
        "    output_dir = Path(f'{args.directory}_decrypted')\n",
        "    output_dir.mkdir(exist_ok=True)\n",
        "    decrypt_pdfs(output_dir, file_readers, args.password)\n",
        "  else:\n",
        "    output_dir = Path(f'{args.directory}_encrypted')\n",
        "    output_dir.mkdir(exist_ok=True)\n",
        "    encrypt_pdfs(output_dir, file_readers, args.password)\n",
        "\n",
        "  for file_reader in file_readers:\n",
        "    file_reader.close()\n",
        "  print(f'Saved to {output_dir.name}')\n",
        "\n",
        "\n",
        "def get_args():\n",
        "  \"\"\"Get arguments from command line.\"\"\"\n",
        "  parser = argparse.ArgumentParser(\n",
        "      description='Encrypt or decrypt '\n",
        "  )\n",
        "  parser.add_argument('-p',\n",
        "                      '--password',\n",
        "                      help='Password to encrypt or decrypt with',\n",
        "                      required=True)\n",
        "  parser.add_argument('-d',\n",
        "                      '--directory',\n",
        "                      help='Directory to find PDFs in',\n",
        "                      default='.')\n",
        "  parser.add_argument('--decrypt',\n",
        "                      help='Decrypt the files in the directory',\n",
        "                      action='store_true')\n",
        "  return parser.parse_args()\n",
        "\n",
        "\n",
        "def get_pdf_filenames(directory):\n",
        "  \"\"\"Returna a sorted generator of all PDF filenames in the given directory.\"\"\"\n",
        "  return sorted(Path(directory).glob('*.pdf'))\n",
        "\n",
        "\n",
        "def encrypt_pdfs(output_dir, file_readers, password):\n",
        "  \"\"\"Encrypt the pdfs using the password and save them in the output_dir.\"\"\"\n",
        "  for file_num, pdf_file in enumerate(file_readers):\n",
        "    try:\n",
        "      pdf_reader = pdf.PdfFileReader(pdf_file)\n",
        "      writer = pdf.PdfFileWriter()\n",
        "      for page_num in range(pdf_reader.numPages):\n",
        "        writer.addPage(pdf_reader.getPage(page_num))\n",
        "      writer.encrypt(password)\n",
        "      with open(output_dir / Path(pdf_file.name).name, 'wb') as output_file:\n",
        "        writer.write(output_file)\n",
        "    except PdfReadError as e:\n",
        "      print(f'Failed to encrypt {pdf_file.name}: {e}')\n",
        "\n",
        "\n",
        "def decrypt_pdfs(output_dir, file_readers, password):\n",
        "  \"\"\"Decrypt the pdfs using the password and save them in the output_dir.\"\"\"\n",
        "  for file_num, pdf_file in enumerate(file_readers):\n",
        "    try:\n",
        "      pdf_reader = pdf.PdfFileReader(pdf_file)\n",
        "      writer = pdf.PdfFileWriter()\n",
        "      pdf_reader.decrypt(password)\n",
        "      for page_num in range(pdf_reader.numPages):\n",
        "        writer.addPage(pdf_reader.getPage(page_num))\n",
        "      with open(output_dir / Path(pdf_file.name).name, 'wb') as output_file:\n",
        "        writer.write(output_file)\n",
        "    except PdfReadError as e:\n",
        "      print(f'Failed to decrypt {pdf_file.name}: {e}')\n",
        "\n",
        "\n",
        "if __name__ == '__main__':\n",
        "  main()"
      ],
      "execution_count": null,
      "outputs": [
        {
          "output_type": "stream",
          "name": "stdout",
          "text": [
            "Overwriting pdf_encryption.py\n"
          ]
        }
      ]
    },
    {
      "cell_type": "code",
      "metadata": {
        "id": "kHeUM9g_m7I8"
      },
      "source": [
        "!chmod +x pdf_encryption.py"
      ],
      "execution_count": null,
      "outputs": []
    },
    {
      "cell_type": "code",
      "metadata": {
        "colab": {
          "base_uri": "https://localhost:8080/"
        },
        "id": "GH-2Zx10sQO1",
        "outputId": "9139206c-8f48-4e4d-88e7-92b909a7e08c"
      },
      "source": [
        "!./pdf_encryption.py -d materials -p swordfish"
      ],
      "execution_count": null,
      "outputs": [
        {
          "output_type": "stream",
          "name": "stdout",
          "text": [
            "Failed to encrypt materials/encrypted.pdf: File has not been decrypted\n",
            "Failed to encrypt materials/encryptedminutes.pdf: File has not been decrypted\n",
            "Saved to materials_encrypted\n"
          ]
        }
      ]
    },
    {
      "cell_type": "code",
      "metadata": {
        "colab": {
          "base_uri": "https://localhost:8080/"
        },
        "id": "GXDadwobsSGL",
        "outputId": "a2ff2e2f-b806-403b-f6b6-edf6b73d7ff6"
      },
      "source": [
        "!ls materials_encrypted"
      ],
      "execution_count": null,
      "outputs": [
        {
          "output_type": "stream",
          "name": "stdout",
          "text": [
            "combinedminutes.pdf  meetingminutes2.pdf  meetingminutes.pdf  watermark.pdf\n"
          ]
        }
      ]
    },
    {
      "cell_type": "code",
      "metadata": {
        "colab": {
          "base_uri": "https://localhost:8080/"
        },
        "id": "OZnwku-Ks6eq",
        "outputId": "22bc5c5e-8011-45f0-87f0-8ae07ab9d106"
      },
      "source": [
        "!./pdf_encryption.py -d materials_encrypted -p swordfish --decrypt"
      ],
      "execution_count": null,
      "outputs": [
        {
          "output_type": "stream",
          "name": "stdout",
          "text": [
            "Saved to materials_encrypted_decrypted\n"
          ]
        }
      ]
    },
    {
      "cell_type": "code",
      "metadata": {
        "colab": {
          "base_uri": "https://localhost:8080/"
        },
        "id": "UW-2yZ5Fs8IC",
        "outputId": "320555c7-aefa-40ee-ac4b-5a415bd8e306"
      },
      "source": [
        "!ls materials_encrypted_decrypted"
      ],
      "execution_count": null,
      "outputs": [
        {
          "output_type": "stream",
          "name": "stdout",
          "text": [
            "combinedminutes.pdf  meetingminutes2.pdf  meetingminutes.pdf  watermark.pdf\n"
          ]
        }
      ]
    },
    {
      "cell_type": "markdown",
      "metadata": {
        "id": "LS-pf-Lot9wh"
      },
      "source": [
        "## Custom Invitations as Word Documents"
      ]
    },
    {
      "cell_type": "code",
      "metadata": {
        "colab": {
          "base_uri": "https://localhost:8080/"
        },
        "id": "Hze0QuK5uUUj",
        "outputId": "a7c15ff8-29ea-4276-97f7-c20b031f61d4"
      },
      "source": [
        "!cat materials/guests.txt"
      ],
      "execution_count": null,
      "outputs": [
        {
          "output_type": "stream",
          "name": "stdout",
          "text": [
            "Prof. Plum\r\n",
            "Miss Scarlet\r\n",
            "Col. Mustard\r\n",
            "Al Sweigart\r\n",
            "Robocop"
          ]
        }
      ]
    },
    {
      "cell_type": "code",
      "metadata": {
        "colab": {
          "base_uri": "https://localhost:8080/"
        },
        "id": "Kfn8GRazw7VX",
        "outputId": "ff998af5-6087-4019-b1ed-70c86c2711b4"
      },
      "source": [
        "%%writefile invitations.py\n",
        "#!/usr/bin/env python\n",
        "\"\"\"Create invitations using a guest list.\"\"\"\n",
        "import argparse\n",
        "\n",
        "import docx\n",
        "\n",
        "def main():\n",
        "  args = get_args()\n",
        "  doc = docx.Document()\n",
        "\n",
        "  for guest in args.guests:\n",
        "    create_page(doc, guest.strip())\n",
        "  \n",
        "  doc.save('invitation.docx')\n",
        "  print('saved as invitation.docx')\n",
        "  \n",
        "\n",
        "def get_args():\n",
        "  \"\"\"Get arguments from command line.\"\"\"\n",
        "  parser = argparse.ArgumentParser(\n",
        "      description='Encrypt or decrypt '\n",
        "  )\n",
        "  parser.add_argument('guests',\n",
        "                      type=argparse.FileType('r'),\n",
        "                      help='Text file containing the guest names')\n",
        "  return parser.parse_args()\n",
        "\n",
        "\n",
        "def create_page(doc, guest):\n",
        "  doc.add_heading('It would be a pleasure to have the company of', 1)\n",
        "  doc.add_heading(guest, 0)\n",
        "  doc.add_heading('at 11010 Memory Lane on the Evening of', 1)\n",
        "  doc.add_heading('April 1st', 0)\n",
        "  doc.add_heading('at 7 o\\'clock', 1)\n",
        "  doc.add_page_break()\n",
        "\n",
        "\n",
        "if __name__ == '__main__':\n",
        "  main()"
      ],
      "execution_count": null,
      "outputs": [
        {
          "output_type": "stream",
          "name": "stdout",
          "text": [
            "Overwriting invitations.py\n"
          ]
        }
      ]
    },
    {
      "cell_type": "code",
      "metadata": {
        "colab": {
          "base_uri": "https://localhost:8080/"
        },
        "id": "B8AOQ1asxzqg",
        "outputId": "b5b7b71e-11b3-4a62-80d3-cb24270c989b"
      },
      "source": [
        "!python invitations.py materials/guests.txt"
      ],
      "execution_count": null,
      "outputs": [
        {
          "output_type": "stream",
          "name": "stdout",
          "text": [
            "saved as invitation.docx\n"
          ]
        }
      ]
    },
    {
      "cell_type": "markdown",
      "metadata": {
        "id": "omrGsM4yz26g"
      },
      "source": [
        "## Bruteforce Password Breaker"
      ]
    },
    {
      "cell_type": "code",
      "metadata": {
        "colab": {
          "base_uri": "https://localhost:8080/"
        },
        "id": "LTCi-wZFz5iG",
        "outputId": "183b0e78-4f62-4669-a124-fd40dffe352a"
      },
      "source": [
        "%%writefile pdf_decrypter.py\n",
        "#!/usr/bin/env python\n",
        "\"\"\"Attempt to decrypt a file using words in the dictionary.\"\"\"\n",
        "import argparse\n",
        "\n",
        "import nltk\n",
        "from nltk.corpus import words\n",
        "import PyPDF2 as pdf\n",
        "from PyPDF2.utils import PdfReadError\n",
        "\n",
        "nltk.download('words')\n",
        "\n",
        "DICTIONARY = set(words.words())\n",
        "\n",
        "def main():\n",
        "  args = get_args()\n",
        "  key = find_key(args.file)\n",
        "  if key is not None:\n",
        "    print(f'Found encryption key: {key}')\n",
        "  else:\n",
        "    print(f'Failed to find encryption key.')\n",
        "\n",
        "\n",
        "def get_args():\n",
        "  \"\"\"Get arguments from command line.\"\"\"\n",
        "  parser = argparse.ArgumentParser(\n",
        "      description='Attempt to crack an encrypted PDF'\n",
        "  )\n",
        "  parser.add_argument('file',\n",
        "                      type=argparse.FileType('rb'),\n",
        "                      help='PDF file to be cracked')\n",
        "  return parser.parse_args()\n",
        "\n",
        "\n",
        "def find_key(file):\n",
        "  \"\"\"Attempt all words in the English dictionary and return the word\n",
        "  if it is the encryption key.\"\"\"\n",
        "  for word in DICTIONARY:\n",
        "    try:\n",
        "      pdf_reader = pdf.PdfFileReader(file)\n",
        "      pdf_reader.decrypt(word)\n",
        "      pdf_reader.getPage(0).extractText()\n",
        "      return word\n",
        "    except PdfReadError:\n",
        "      continue\n",
        "\n",
        "\n",
        "if __name__ == '__main__':\n",
        "  main()\n"
      ],
      "execution_count": null,
      "outputs": [
        {
          "output_type": "stream",
          "name": "stdout",
          "text": [
            "Overwriting pdf_decrypter.py\n"
          ]
        }
      ]
    },
    {
      "cell_type": "code",
      "metadata": {
        "id": "JbhahnAO3DIc"
      },
      "source": [
        "!chmod +x pdf_decrypter.py"
      ],
      "execution_count": null,
      "outputs": []
    },
    {
      "cell_type": "code",
      "metadata": {
        "colab": {
          "base_uri": "https://localhost:8080/"
        },
        "id": "rig8_KzY3FvL",
        "outputId": "d2bf5fea-454c-493f-f300-5f04a3ccf299"
      },
      "source": [
        "# This takes like 30 minutes\n",
        "!./pdf_decrypter.py materials/encrypted.pdf"
      ],
      "execution_count": null,
      "outputs": [
        {
          "output_type": "stream",
          "name": "stdout",
          "text": [
            "[nltk_data] Downloading package words to /root/nltk_data...\n",
            "[nltk_data]   Package words is already up-to-date!\n",
            "Found encryption key: rosebud\n"
          ]
        }
      ]
    }
  ]
}