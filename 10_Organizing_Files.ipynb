{
  "nbformat": 4,
  "nbformat_minor": 0,
  "metadata": {
    "colab": {
      "name": "10_Organizing_Files.ipynb",
      "provenance": [],
      "collapsed_sections": [],
      "authorship_tag": "ABX9TyOIYpSB2HmOiqm9zicKLEzq",
      "include_colab_link": true
    },
    "kernelspec": {
      "name": "python3",
      "display_name": "Python 3"
    },
    "language_info": {
      "name": "python"
    }
  },
  "cells": [
    {
      "cell_type": "markdown",
      "metadata": {
        "id": "view-in-github",
        "colab_type": "text"
      },
      "source": [
        "<a href=\"https://colab.research.google.com/github/M-110/automate-the-boring-stuff/blob/main/10_Organizing_Files.ipynb\" target=\"_parent\"><img src=\"https://colab.research.google.com/assets/colab-badge.svg\" alt=\"Open In Colab\"/></a>"
      ]
    },
    {
      "cell_type": "code",
      "metadata": {
        "id": "UzMzm3bi-4IQ"
      },
      "source": [
        "import os\n",
        "from pathlib import Path\n",
        "import shutil"
      ],
      "execution_count": null,
      "outputs": []
    },
    {
      "cell_type": "code",
      "metadata": {
        "id": "9pGK7FhhDGt_"
      },
      "source": [
        "!touch file.txt\n",
        "!mkdir my_folder"
      ],
      "execution_count": null,
      "outputs": []
    },
    {
      "cell_type": "markdown",
      "metadata": {
        "id": "elf_XzozDuPK"
      },
      "source": [
        "# Using shutil"
      ]
    },
    {
      "cell_type": "markdown",
      "metadata": {
        "id": "SCIlKMswDwKm"
      },
      "source": [
        "## Copy"
      ]
    },
    {
      "cell_type": "code",
      "metadata": {
        "id": "yl3OX2M1_BeG",
        "colab": {
          "base_uri": "https://localhost:8080/"
        },
        "outputId": "b31fd045-7f5d-4d60-9647-a9c564328f4b"
      },
      "source": [
        "p = Path.cwd()\n",
        "p"
      ],
      "execution_count": null,
      "outputs": [
        {
          "output_type": "execute_result",
          "data": {
            "text/plain": [
              "PosixPath('/content')"
            ]
          },
          "metadata": {},
          "execution_count": 8
        }
      ]
    },
    {
      "cell_type": "code",
      "metadata": {
        "colab": {
          "base_uri": "https://localhost:8080/"
        },
        "id": "DxPiWlj59fK_",
        "outputId": "83f3b5b9-d93a-405b-8160-bce7343aded6"
      },
      "source": [
        "shutil.copy(p / 'file.txt', p / 'my_folder' / 'file_copy.txt')"
      ],
      "execution_count": null,
      "outputs": [
        {
          "output_type": "execute_result",
          "data": {
            "text/plain": [
              "PosixPath('/content/my_folder/file_copy.txt')"
            ]
          },
          "metadata": {},
          "execution_count": 9
        }
      ]
    },
    {
      "cell_type": "code",
      "metadata": {
        "colab": {
          "base_uri": "https://localhost:8080/"
        },
        "id": "m33QjZK1tHM-",
        "outputId": "8cc63560-3bc5-4764-fc2a-1fec8ce7443f"
      },
      "source": [
        "shutil.copytree(p, p / 'backup_content')"
      ],
      "execution_count": null,
      "outputs": [
        {
          "output_type": "execute_result",
          "data": {
            "text/plain": [
              "PosixPath('/content/backup_content')"
            ]
          },
          "metadata": {},
          "execution_count": 10
        }
      ]
    },
    {
      "cell_type": "markdown",
      "metadata": {
        "id": "cV4UgxczD1jp"
      },
      "source": [
        "## Move"
      ]
    },
    {
      "cell_type": "code",
      "metadata": {
        "id": "dlJgjHROtcS6"
      },
      "source": [
        "!touch data.csv"
      ],
      "execution_count": null,
      "outputs": []
    },
    {
      "cell_type": "code",
      "metadata": {
        "colab": {
          "base_uri": "https://localhost:8080/",
          "height": 35
        },
        "id": "1Yc-WbSbtdbf",
        "outputId": "6ca905a8-6fde-4d31-907f-40c4e5e1154a"
      },
      "source": [
        "shutil.move('data.csv', 'my_folder')"
      ],
      "execution_count": null,
      "outputs": [
        {
          "output_type": "execute_result",
          "data": {
            "application/vnd.google.colaboratory.intrinsic+json": {
              "type": "string"
            },
            "text/plain": [
              "'my_folder/data.csv'"
            ]
          },
          "metadata": {},
          "execution_count": 12
        }
      ]
    },
    {
      "cell_type": "markdown",
      "metadata": {
        "id": "8jUCrVS5EMF-"
      },
      "source": [
        "Rename by moving with different name"
      ]
    },
    {
      "cell_type": "code",
      "metadata": {
        "id": "4HST0Gr3tdzg"
      },
      "source": [
        "!touch great_data.csv"
      ],
      "execution_count": null,
      "outputs": []
    },
    {
      "cell_type": "code",
      "metadata": {
        "colab": {
          "base_uri": "https://localhost:8080/"
        },
        "id": "NXRhuv19thwY",
        "outputId": "31bcaa8c-0dab-4c90-f774-4a530b49d91a"
      },
      "source": [
        "shutil.move('great_data.csv', Path('my_folder', 'wonderful_data.csv'))"
      ],
      "execution_count": null,
      "outputs": [
        {
          "output_type": "execute_result",
          "data": {
            "text/plain": [
              "PosixPath('my_folder/wonderful_data.csv')"
            ]
          },
          "metadata": {},
          "execution_count": 14
        }
      ]
    },
    {
      "cell_type": "markdown",
      "metadata": {
        "id": "AWldN1PKElPJ"
      },
      "source": [
        "## Delete files/folders"
      ]
    },
    {
      "cell_type": "code",
      "metadata": {
        "id": "Bacay9cYEiF_"
      },
      "source": [
        "!touch delete_me"
      ],
      "execution_count": null,
      "outputs": []
    },
    {
      "cell_type": "code",
      "metadata": {
        "id": "s3W_95AOEpla"
      },
      "source": [
        "os.unlink('delete_me') # delete file"
      ],
      "execution_count": null,
      "outputs": []
    },
    {
      "cell_type": "code",
      "metadata": {
        "id": "EPV564eGEr4r"
      },
      "source": [
        "!mkdir old_dir"
      ],
      "execution_count": null,
      "outputs": []
    },
    {
      "cell_type": "code",
      "metadata": {
        "id": "OqQ-F9ToE5aW"
      },
      "source": [
        "os.rmdir('old_dir') # delete folder"
      ],
      "execution_count": null,
      "outputs": []
    },
    {
      "cell_type": "code",
      "metadata": {
        "colab": {
          "base_uri": "https://localhost:8080/"
        },
        "id": "iIccckilE7xJ",
        "outputId": "1e2266d1-f874-430f-9fa1-f8836a703427"
      },
      "source": [
        "!mkdir photos\n",
        "!touch photos/photo{1..10}.jpg\n",
        "!mkdir photos/other_photos\n",
        "!touch photos/other_photos/other_stuff{1..10}.jpeg\n",
        "!ls photos"
      ],
      "execution_count": null,
      "outputs": [
        {
          "output_type": "stream",
          "name": "stdout",
          "text": [
            "other_photos  photo1.jpg  photo3.jpg  photo5.jpg  photo7.jpg  photo9.jpg\n",
            "photo10.jpg   photo2.jpg  photo4.jpg  photo6.jpg  photo8.jpg\n"
          ]
        }
      ]
    },
    {
      "cell_type": "code",
      "metadata": {
        "id": "8W2QdXOkFEtU"
      },
      "source": [
        "shutil.rmtree('photos')"
      ],
      "execution_count": null,
      "outputs": []
    },
    {
      "cell_type": "code",
      "metadata": {
        "colab": {
          "base_uri": "https://localhost:8080/"
        },
        "id": "peDzPFxmFkds",
        "outputId": "eebb0294-a047-450f-acef-9f6dba184a58"
      },
      "source": [
        "!ls photos"
      ],
      "execution_count": null,
      "outputs": [
        {
          "output_type": "stream",
          "name": "stdout",
          "text": [
            "ls: cannot access 'photos': No such file or directory\n"
          ]
        }
      ]
    },
    {
      "cell_type": "markdown",
      "metadata": {
        "id": "44B6DQ8jFxmm"
      },
      "source": [
        "## glob"
      ]
    },
    {
      "cell_type": "code",
      "metadata": {
        "id": "8K7pKrd4FpUs"
      },
      "source": [
        "!mkdir text_files\n",
        "!touch text_files/data{01..10}.txt\n",
        "!touch text_files/screenshot{01..10}.jpg"
      ],
      "execution_count": null,
      "outputs": []
    },
    {
      "cell_type": "code",
      "metadata": {
        "colab": {
          "base_uri": "https://localhost:8080/"
        },
        "id": "ErahvcwyGjLL",
        "outputId": "e57d1f75-e1cf-49a3-8eeb-0f7a503ca2f6"
      },
      "source": [
        "for text_file in Path('text_files').glob('*.txt'):\n",
        "  print(text_file)"
      ],
      "execution_count": null,
      "outputs": [
        {
          "output_type": "stream",
          "name": "stdout",
          "text": [
            "text_files/data10.txt\n",
            "text_files/data07.txt\n",
            "text_files/data09.txt\n",
            "text_files/data06.txt\n",
            "text_files/data02.txt\n",
            "text_files/data08.txt\n",
            "text_files/data01.txt\n",
            "text_files/data03.txt\n",
            "text_files/data05.txt\n",
            "text_files/data04.txt\n"
          ]
        }
      ]
    },
    {
      "cell_type": "code",
      "metadata": {
        "colab": {
          "base_uri": "https://localhost:8080/"
        },
        "id": "DDhYrSpJGtd9",
        "outputId": "56bbce74-8025-4fbd-dabd-4ab2ac763b39"
      },
      "source": [
        "for screenshot in Path('text_files').glob('screenshot*'):\n",
        "  print(screenshot)"
      ],
      "execution_count": null,
      "outputs": [
        {
          "output_type": "stream",
          "name": "stdout",
          "text": [
            "text_files/screenshot06.jpg\n",
            "text_files/screenshot07.jpg\n",
            "text_files/screenshot02.jpg\n",
            "text_files/screenshot08.jpg\n",
            "text_files/screenshot01.jpg\n",
            "text_files/screenshot04.jpg\n",
            "text_files/screenshot10.jpg\n",
            "text_files/screenshot05.jpg\n",
            "text_files/screenshot09.jpg\n",
            "text_files/screenshot03.jpg\n"
          ]
        }
      ]
    },
    {
      "cell_type": "code",
      "metadata": {
        "id": "c-IYqwX-GzxY"
      },
      "source": [
        "for text_file in Path('text_files').glob('*.txt'):\n",
        "  os.unlink(text_file)"
      ],
      "execution_count": null,
      "outputs": []
    },
    {
      "cell_type": "code",
      "metadata": {
        "colab": {
          "base_uri": "https://localhost:8080/"
        },
        "id": "jYCkRwYsG36b",
        "outputId": "2a2be921-66a3-4e7b-e79a-a48c3bad75a9"
      },
      "source": [
        "!ls text_files"
      ],
      "execution_count": null,
      "outputs": [
        {
          "output_type": "stream",
          "name": "stdout",
          "text": [
            "screenshot01.jpg  screenshot04.jpg  screenshot07.jpg  screenshot10.jpg\n",
            "screenshot02.jpg  screenshot05.jpg  screenshot08.jpg\n",
            "screenshot03.jpg  screenshot06.jpg  screenshot09.jpg\n"
          ]
        }
      ]
    },
    {
      "cell_type": "markdown",
      "metadata": {
        "id": "viZ9GttHHDQl"
      },
      "source": [
        "# send2trash"
      ]
    },
    {
      "cell_type": "code",
      "metadata": {
        "id": "20sKmoxKG5AH"
      },
      "source": [
        "import send2trash"
      ],
      "execution_count": null,
      "outputs": []
    },
    {
      "cell_type": "code",
      "metadata": {
        "id": "JgLTTvSjHHxi"
      },
      "source": [
        "with open('cow.txt', 'a') as f:\n",
        "  f.write('The cow!')"
      ],
      "execution_count": null,
      "outputs": []
    },
    {
      "cell_type": "code",
      "metadata": {
        "id": "tn1JLrkrHcPh"
      },
      "source": [
        "send2trash.send2trash('cow.txt')"
      ],
      "execution_count": null,
      "outputs": []
    },
    {
      "cell_type": "markdown",
      "metadata": {
        "id": "NEfHljwvVRpu"
      },
      "source": [
        "## Walk"
      ]
    },
    {
      "cell_type": "markdown",
      "metadata": {
        "id": "ycy0cqihZXN4"
      },
      "source": [
        "Walks through all the subdirectories and files within them"
      ]
    },
    {
      "cell_type": "code",
      "metadata": {
        "id": "KlemkjS-Xrwy"
      },
      "source": [
        "!mkdir app/bin -p\n",
        "!mkdir app/lib\n",
        "!mkdir app/files\n",
        "!mkdir app/files/extra\n",
        "!touch app/bin/bin{01..05}\n",
        "!touch app/lib/my_lib app/lib/your_lib\n",
        "!touch app/file_{01..05}.exe\n",
        "!touch app/files/virus.exe\n",
        "!touch app/files/extra/extra_file.py"
      ],
      "execution_count": null,
      "outputs": []
    },
    {
      "cell_type": "code",
      "metadata": {
        "colab": {
          "base_uri": "https://localhost:8080/"
        },
        "id": "_JxR0TXGHfX5",
        "outputId": "d0c6575f-3a9c-438b-ff7c-83808957b89c"
      },
      "source": [
        "for folder, subfolders, files in os.walk('app'):\n",
        "  print(f'Folder: {folder}')\n",
        "  \n",
        "  for file in files:\n",
        "    print(f'\\tFile: {file}')\n",
        "\n",
        "  for subfolder in subfolders:\n",
        "    print(f'\\t\\tSubfolder: {subfolder}')"
      ],
      "execution_count": null,
      "outputs": [
        {
          "output_type": "stream",
          "name": "stdout",
          "text": [
            "Folder: app\n",
            "\tFile: file_04.exe\n",
            "\tFile: file_03.exe\n",
            "\tFile: file_01.exe\n",
            "\tFile: file_02.exe\n",
            "\tFile: file_05.exe\n",
            "\t\tSubfolder: bin\n",
            "\t\tSubfolder: lib\n",
            "\t\tSubfolder: files\n",
            "Folder: app/bin\n",
            "\tFile: bin01\n",
            "\tFile: bin03\n",
            "\tFile: bin04\n",
            "\tFile: bin02\n",
            "\tFile: bin05\n",
            "Folder: app/lib\n",
            "\tFile: your_lib\n",
            "\tFile: my_lib\n",
            "Folder: app/files\n",
            "\tFile: virus.exe\n",
            "\t\tSubfolder: extra\n",
            "Folder: app/files/extra\n",
            "\tFile: extra_file.py\n"
          ]
        }
      ]
    },
    {
      "cell_type": "markdown",
      "metadata": {
        "id": "I3Usb0rgZjnC"
      },
      "source": [
        "# Compress with zipfile"
      ]
    },
    {
      "cell_type": "code",
      "metadata": {
        "colab": {
          "base_uri": "https://localhost:8080/"
        },
        "id": "Uey4XTQuZyos",
        "outputId": "d1ceb353-50ec-4bc9-eccc-74b2f6ee5a55"
      },
      "source": [
        "!zip -r app.zip app"
      ],
      "execution_count": null,
      "outputs": [
        {
          "output_type": "stream",
          "name": "stdout",
          "text": [
            "  adding: app/ (stored 0%)\n",
            "  adding: app/file_04.exe (stored 0%)\n",
            "  adding: app/bin/ (stored 0%)\n",
            "  adding: app/bin/bin01 (stored 0%)\n",
            "  adding: app/bin/bin03 (stored 0%)\n",
            "  adding: app/bin/bin04 (stored 0%)\n",
            "  adding: app/bin/bin02 (stored 0%)\n",
            "  adding: app/bin/bin05 (stored 0%)\n",
            "  adding: app/file_03.exe (stored 0%)\n",
            "  adding: app/file_01.exe (stored 0%)\n",
            "  adding: app/lib/ (stored 0%)\n",
            "  adding: app/lib/your_lib (stored 0%)\n",
            "  adding: app/lib/my_lib (stored 0%)\n",
            "  adding: app/file_02.exe (stored 0%)\n",
            "  adding: app/file_05.exe (stored 0%)\n",
            "  adding: app/files/ (stored 0%)\n",
            "  adding: app/files/virus.exe (stored 0%)\n",
            "  adding: app/files/extra/ (stored 0%)\n",
            "  adding: app/files/extra/extra_file.py (stored 0%)\n"
          ]
        }
      ]
    },
    {
      "cell_type": "code",
      "metadata": {
        "id": "jizdcxzBVLy5"
      },
      "source": [
        "import zipfile"
      ],
      "execution_count": null,
      "outputs": []
    },
    {
      "cell_type": "code",
      "metadata": {
        "id": "gft17ju_ZmAH"
      },
      "source": [
        "my_zip = zipfile.ZipFile('app.zip')"
      ],
      "execution_count": null,
      "outputs": []
    },
    {
      "cell_type": "code",
      "metadata": {
        "colab": {
          "base_uri": "https://localhost:8080/"
        },
        "id": "evm1IqCnZtgY",
        "outputId": "cf1f2fb6-33c3-4fa0-db3a-5592744b1940"
      },
      "source": [
        "my_zip.namelist()"
      ],
      "execution_count": null,
      "outputs": [
        {
          "output_type": "execute_result",
          "data": {
            "text/plain": [
              "['app/',\n",
              " 'app/file_04.exe',\n",
              " 'app/bin/',\n",
              " 'app/bin/bin01',\n",
              " 'app/bin/bin03',\n",
              " 'app/bin/bin04',\n",
              " 'app/bin/bin02',\n",
              " 'app/bin/bin05',\n",
              " 'app/file_03.exe',\n",
              " 'app/file_01.exe',\n",
              " 'app/lib/',\n",
              " 'app/lib/your_lib',\n",
              " 'app/lib/my_lib',\n",
              " 'app/file_02.exe',\n",
              " 'app/file_05.exe',\n",
              " 'app/files/',\n",
              " 'app/files/virus.exe',\n",
              " 'app/files/extra/',\n",
              " 'app/files/extra/extra_file.py']"
            ]
          },
          "metadata": {},
          "execution_count": 68
        }
      ]
    },
    {
      "cell_type": "code",
      "metadata": {
        "colab": {
          "base_uri": "https://localhost:8080/"
        },
        "id": "7Gco-kZ8aIh9",
        "outputId": "17435fa0-32c9-4719-87e2-729a25d66ff2"
      },
      "source": [
        "my_zip.getinfo('app/files/virus.exe').file_size"
      ],
      "execution_count": null,
      "outputs": [
        {
          "output_type": "execute_result",
          "data": {
            "text/plain": [
              "0"
            ]
          },
          "metadata": {},
          "execution_count": 69
        }
      ]
    },
    {
      "cell_type": "code",
      "metadata": {
        "id": "hEDHOEx7aSLD"
      },
      "source": [
        "my_zip.close()"
      ],
      "execution_count": null,
      "outputs": []
    },
    {
      "cell_type": "markdown",
      "metadata": {
        "id": "EPar2MRzbTet"
      },
      "source": [
        "### unzipping"
      ]
    },
    {
      "cell_type": "code",
      "metadata": {
        "id": "oldPjQNUaYTt"
      },
      "source": [
        "with zipfile.ZipFile('app.zip') as file:\n",
        "  file.extractall('zip_output')"
      ],
      "execution_count": null,
      "outputs": []
    },
    {
      "cell_type": "code",
      "metadata": {
        "colab": {
          "base_uri": "https://localhost:8080/"
        },
        "id": "1NBDoKiYbGv6",
        "outputId": "d54ddf1e-4cad-45cc-b528-94d10931b3fe"
      },
      "source": [
        "!ls zip_output"
      ],
      "execution_count": null,
      "outputs": [
        {
          "output_type": "stream",
          "name": "stdout",
          "text": [
            "app\n"
          ]
        }
      ]
    },
    {
      "cell_type": "markdown",
      "metadata": {
        "id": "J8HYmb8ubVhe"
      },
      "source": [
        "### zipping"
      ]
    },
    {
      "cell_type": "code",
      "metadata": {
        "id": "mRUmkeo4bkdQ"
      },
      "source": [
        "!echo \"Hello World\" > hello.txt\n",
        "!echo \"Hola World\" > hola.txt"
      ],
      "execution_count": null,
      "outputs": []
    },
    {
      "cell_type": "code",
      "metadata": {
        "id": "6CdnEy2bbHzM"
      },
      "source": [
        "with zipfile.ZipFile('new.zip', 'w') as file:\n",
        "  file.write('hello.txt')\n",
        "  file.write('hola.txt')"
      ],
      "execution_count": null,
      "outputs": []
    },
    {
      "cell_type": "markdown",
      "metadata": {
        "id": "O3xo32PSb19i"
      },
      "source": [
        "Append to zip file with a"
      ]
    },
    {
      "cell_type": "code",
      "metadata": {
        "id": "egcEgMNrb4Kf"
      },
      "source": [
        "!echo 'Bonjour World' > bonjour.txt"
      ],
      "execution_count": null,
      "outputs": []
    },
    {
      "cell_type": "code",
      "metadata": {
        "id": "Odv_IvJSbiM8"
      },
      "source": [
        "with zipfile.ZipFile('new.zip', 'a') as file:\n",
        "  file.write('bonjour.txt')"
      ],
      "execution_count": null,
      "outputs": []
    },
    {
      "cell_type": "code",
      "metadata": {
        "colab": {
          "base_uri": "https://localhost:8080/"
        },
        "id": "XULLWy97bwEt",
        "outputId": "e3924e68-144e-45a0-ee40-62e9a15b338c"
      },
      "source": [
        "with zipfile.ZipFile('new.zip') as file:\n",
        "  print(file.namelist())"
      ],
      "execution_count": null,
      "outputs": [
        {
          "output_type": "stream",
          "name": "stdout",
          "text": [
            "['hello.txt', 'hola.txt', 'bonjour.txt']\n"
          ]
        }
      ]
    },
    {
      "cell_type": "markdown",
      "metadata": {
        "id": "Bhe8lnbJcIqu"
      },
      "source": [
        "# Project: Renaming Files with American-Style Dates to European-Style"
      ]
    },
    {
      "cell_type": "code",
      "metadata": {
        "id": "6J7iI9VtcD_U"
      },
      "source": [
        "!mkdir date_folder\n",
        "!mkdir date_folder/logs\n",
        "!touch date_folder/logs/log_{01..12}-25-{2021..2022}\n",
        "!mkdir date_folder/photos\n",
        "!touch date_folder/photos/my_photo_05.{21..29}.2021\n",
        "!touch date_folder/history_12_31_{2015..2021}"
      ],
      "execution_count": null,
      "outputs": []
    },
    {
      "cell_type": "code",
      "metadata": {
        "id": "6zAC2Q6VjFef"
      },
      "source": [
        "!rm date_folder -rfd"
      ],
      "execution_count": null,
      "outputs": []
    },
    {
      "cell_type": "code",
      "metadata": {
        "colab": {
          "base_uri": "https://localhost:8080/"
        },
        "id": "GNfytbDIkeU_",
        "outputId": "23203086-4fa6-4698-8ef8-2919959c9da8"
      },
      "source": [
        "for folder, _, files in os.walk('date_folder'):\n",
        "  for file in files:\n",
        "    print(file)"
      ],
      "execution_count": null,
      "outputs": [
        {
          "output_type": "stream",
          "name": "stdout",
          "text": [
            "history_12_31_2020\n",
            "history_12_31_2016\n",
            "history_12_31_2018\n",
            "history_12_31_2017\n",
            "history_12_31_2015\n",
            "history_12_31_2019\n",
            "history_12_31_2021\n",
            "log_01-25-2022\n",
            "log_05-25-2022\n",
            "log_06-25-2021\n",
            "log_01-25-2021\n",
            "log_09-25-2021\n",
            "log_03-25-2022\n",
            "log_03-25-2021\n",
            "log_07-25-2021\n",
            "log_05-25-2021\n",
            "log_12-25-2021\n",
            "log_10-25-2021\n",
            "log_09-25-2022\n",
            "log_02-25-2021\n",
            "log_08-25-2021\n",
            "log_06-25-2022\n",
            "log_08-25-2022\n",
            "log_02-25-2022\n",
            "log_10-25-2022\n",
            "log_04-25-2021\n",
            "log_12-25-2022\n",
            "log_11-25-2022\n",
            "log_04-25-2022\n",
            "log_07-25-2022\n",
            "log_11-25-2021\n",
            "my_photo_05.28.2021\n",
            "my_photo_05.21.2021\n",
            "my_photo_05.22.2021\n",
            "my_photo_05.29.2021\n",
            "my_photo_05.26.2021\n",
            "my_photo_05.24.2021\n",
            "my_photo_05.25.2021\n",
            "my_photo_05.23.2021\n",
            "my_photo_05.27.2021\n"
          ]
        }
      ]
    },
    {
      "cell_type": "code",
      "metadata": {
        "id": "RDazI9-GdLOl"
      },
      "source": [
        "import os\n",
        "from pathlib import Path\n",
        "import re\n",
        "import shutil\n",
        "\n",
        "def change_dates_in_directory_from_american_to_european_style(directory):\n",
        "  date_pattern = re.compile(r'(10|11|12|0[1-9])[\\-|\\.|\\_](30|31|0[1-9]|[12][0-9])[\\-|\\.|\\_]((?:19|20)\\d\\d)')\n",
        "  for folder, _, files in os.walk(directory):\n",
        "    for file in files:\n",
        "      new_file_name = date_pattern.sub(r'\\g<2>-\\g<1>-\\g<3>', file)\n",
        "      shutil.move(Path(folder, file), Path(folder, new_file_name))"
      ],
      "execution_count": null,
      "outputs": []
    },
    {
      "cell_type": "code",
      "metadata": {
        "id": "t8GZD01NhJZZ"
      },
      "source": [
        "change_dates_in_directory_from_american_to_european_style('date_folder')"
      ],
      "execution_count": null,
      "outputs": []
    },
    {
      "cell_type": "code",
      "metadata": {
        "colab": {
          "base_uri": "https://localhost:8080/"
        },
        "id": "GplokKz0hLae",
        "outputId": "f1dffd4f-4d06-4031-b885-114773fd7373"
      },
      "source": [
        "for folder, _, files in os.walk('date_folder'):\n",
        "  for file in files:\n",
        "    print(file)"
      ],
      "execution_count": null,
      "outputs": [
        {
          "output_type": "stream",
          "name": "stdout",
          "text": [
            "history_31-12-2019\n",
            "history_31-12-2018\n",
            "history_31-12-2021\n",
            "history_31-12-2020\n",
            "history_31-12-2017\n",
            "history_31-12-2016\n",
            "history_31-12-2015\n",
            "log_25-01-2021\n",
            "log_25-08-2021\n",
            "log_25-05-2021\n",
            "log_25-03-2022\n",
            "log_25-04-2021\n",
            "log_25-09-2021\n",
            "log_25-11-2022\n",
            "log_25-04-2022\n",
            "log_25-02-2021\n",
            "log_25-10-2022\n",
            "log_25-08-2022\n",
            "log_25-10-2021\n",
            "log_25-06-2021\n",
            "log_25-02-2022\n",
            "log_25-01-2022\n",
            "log_25-06-2022\n",
            "log_25-05-2022\n",
            "log_25-12-2022\n",
            "log_25-03-2021\n",
            "log_25-12-2021\n",
            "log_25-09-2022\n",
            "log_25-07-2022\n",
            "log_25-07-2021\n",
            "log_25-11-2021\n",
            "my_photo_25-05-2021\n",
            "my_photo_21-05-2021\n",
            "my_photo_23-05-2021\n",
            "my_photo_22-05-2021\n",
            "my_photo_27-05-2021\n",
            "my_photo_28-05-2021\n",
            "my_photo_26-05-2021\n",
            "my_photo_29-05-2021\n",
            "my_photo_24-05-2021\n"
          ]
        }
      ]
    },
    {
      "cell_type": "markdown",
      "metadata": {
        "id": "L4t3m-hwkzHR"
      },
      "source": [
        "# Project: Backing up a folder into a ZIP file\n"
      ]
    },
    {
      "cell_type": "code",
      "metadata": {
        "id": "l2WAwfyEkqr2"
      },
      "source": [
        "import os\n",
        "from pathlib import Path\n",
        "import os\n",
        "import zipfile\n",
        "\n",
        "def backup_to_zip(directory):\n",
        "  \"\"\"Creates a backup zip file of the directory.\"\"\"\n",
        "  directory = os.path.abspath(directory)\n",
        "  basename = os.path.basename(directory)\n",
        "  files = ''.join(map(str,Path().cwd().glob(f'{basename}*.zip')))\n",
        "  current_nums = re.findall(rf'{os.path.basename(directory)}(\\d*).zip', files)\n",
        "  if current_nums:\n",
        "    max_num = max(map(int, current_nums))\n",
        "  else:\n",
        "    max_num = 0\n",
        "  output_name = f'{basename}{max_num + 1:02}.zip'\n",
        "  with zipfile.ZipFile(output_name, 'w') as zip_file:\n",
        "    for folder, _, files in os.walk(directory):\n",
        "      for file in files:\n",
        "        zip_file.write(Path(folder, file))\n",
        "  print(f'Saved as {output_name!r}')\n",
        "    "
      ],
      "execution_count": null,
      "outputs": []
    },
    {
      "cell_type": "code",
      "metadata": {
        "colab": {
          "base_uri": "https://localhost:8080/"
        },
        "id": "lhZhcs8qlblG",
        "outputId": "28c15906-4cd5-4e95-a464-69c0a22c2072"
      },
      "source": [
        "backup_to_zip('date_folder')"
      ],
      "execution_count": null,
      "outputs": [
        {
          "output_type": "stream",
          "name": "stdout",
          "text": [
            "Saved as 'date_folder01.zip'\n"
          ]
        }
      ]
    },
    {
      "cell_type": "code",
      "metadata": {
        "colab": {
          "base_uri": "https://localhost:8080/"
        },
        "id": "DlW1kqKOne17",
        "outputId": "c822aff3-5e74-41ee-a107-b390fb7ab824"
      },
      "source": [
        "backup_to_zip('date_folder')"
      ],
      "execution_count": null,
      "outputs": [
        {
          "output_type": "stream",
          "name": "stdout",
          "text": [
            "Saved as 'date_folder02.zip'\n"
          ]
        }
      ]
    },
    {
      "cell_type": "code",
      "metadata": {
        "colab": {
          "base_uri": "https://localhost:8080/"
        },
        "id": "FJ_a8PCzp79f",
        "outputId": "157f769e-9a9f-4b8d-d75f-ede47689732b"
      },
      "source": [
        "backup_to_zip('date_folder')"
      ],
      "execution_count": null,
      "outputs": [
        {
          "output_type": "stream",
          "name": "stdout",
          "text": [
            "Saved as 'date_folder03.zip'\n"
          ]
        }
      ]
    },
    {
      "cell_type": "code",
      "metadata": {
        "colab": {
          "base_uri": "https://localhost:8080/"
        },
        "id": "mjMB8zY0p-cK",
        "outputId": "6d1a719b-c203-4aae-c5a8-4cd8fc15403d"
      },
      "source": [
        "!ls *.zip -lh"
      ],
      "execution_count": null,
      "outputs": [
        {
          "output_type": "stream",
          "name": "stdout",
          "text": [
            "-rw-r--r-- 1 root root 3.0K Oct 13 16:07 app.zip\n",
            "-rw-r--r-- 1 root root 6.2K Oct 13 17:16 date_folder01.zip\n",
            "-rw-r--r-- 1 root root 6.2K Oct 13 17:16 date_folder02.zip\n",
            "-rw-r--r-- 1 root root 6.2K Oct 13 17:16 date_folder03.zip\n",
            "-rw-r--r-- 1 root root  343 Oct 13 16:15 new.zip\n",
            "-rw-r--r-- 1 root root    0 Oct 13 17:16 test01.zip\n",
            "-rw-r--r-- 1 root root    0 Oct 13 17:16 test02.zip\n",
            "-rw-r--r-- 1 root root    0 Oct 13 17:16 test03.zip\n",
            "-rw-r--r-- 1 root root    0 Oct 13 17:16 test04.zip\n",
            "-rw-r--r-- 1 root root    0 Oct 13 17:16 test05.zip\n"
          ]
        }
      ]
    },
    {
      "cell_type": "markdown",
      "metadata": {
        "id": "fuWOmPzrqNwa"
      },
      "source": [
        "# Practice Projects"
      ]
    },
    {
      "cell_type": "markdown",
      "metadata": {
        "id": "y3VxtPYLqPKg"
      },
      "source": [
        "## Selective Copy"
      ]
    },
    {
      "cell_type": "code",
      "metadata": {
        "colab": {
          "base_uri": "https://localhost:8080/"
        },
        "id": "LBtVoZf7qC-I",
        "outputId": "8add2504-265b-48b0-833f-0de8e07e4c4c"
      },
      "source": [
        "%%writefile copy_files_with_extensions.py\n",
        "#!/usr/bin/env python\n",
        "\"\"\"Copies all files with the given file extensions to a new directory\"\"\"\n",
        "import argparse\n",
        "import os\n",
        "from pathlib import Path\n",
        "import shutil\n",
        "\n",
        "\n",
        "def main():\n",
        "  \"\"\"Get CLI arguments and copy files to a new folder.\"\"\"\n",
        "  args = get_args()\n",
        "  extension = args.extension\n",
        "  source = Path(args.src)\n",
        "  destination = Path(args.dest)\n",
        "\n",
        "  if not destination.is_dir():\n",
        "    destination.mkdir()\n",
        "\n",
        "  files = [file\n",
        "           for directory, *_ in os.walk(source)\n",
        "           for file in Path(directory).glob('*' + extension)]\n",
        "\n",
        "  for file in files:\n",
        "    try:\n",
        "      shutil.copy(file, destination / file.name)\n",
        "    except shutil.SameFileError:\n",
        "      pass\n",
        "  print(f'Coped all {extension!r} files to {destination}')\n",
        "\n",
        "\n",
        "def get_args():\n",
        "  \"\"\"Get arguments from command line.\"\"\"\n",
        "  parser = argparse.ArgumentParser(\n",
        "      description='Copy files of a specific extension to a new folder'\n",
        "  )\n",
        "  parser.add_argument('extension',\n",
        "                      help='extensions to search for')\n",
        "  parser.add_argument('-s',\n",
        "                      '--src',\n",
        "                      help='Source directory to copy from',\n",
        "                      default='.')\n",
        "  parser.add_argument('-d',\n",
        "                      '--dest',\n",
        "                      help='Destination directory to copy to')\n",
        "  return parser.parse_args()\n",
        "\n",
        "  \n",
        "if __name__ == '__main__':\n",
        "  main()\n"
      ],
      "execution_count": null,
      "outputs": [
        {
          "output_type": "stream",
          "name": "stdout",
          "text": [
            "Overwriting copy_files_with_extensions.py\n"
          ]
        }
      ]
    },
    {
      "cell_type": "code",
      "metadata": {
        "id": "09DC6Uw7Jiwl"
      },
      "source": [
        "!chmod +x copy_files_with_extensions.py"
      ],
      "execution_count": null,
      "outputs": []
    },
    {
      "cell_type": "code",
      "metadata": {
        "colab": {
          "base_uri": "https://localhost:8080/"
        },
        "id": "oO5xQ62xJmvW",
        "outputId": "03901bcc-941a-4270-b193-29fa65663e39"
      },
      "source": [
        "!./copy_files_with_extensions.py .txt -d text_folder"
      ],
      "execution_count": null,
      "outputs": [
        {
          "output_type": "stream",
          "name": "stdout",
          "text": [
            "Coped all '.txt' files to text_folder\n"
          ]
        }
      ]
    },
    {
      "cell_type": "code",
      "metadata": {
        "colab": {
          "base_uri": "https://localhost:8080/"
        },
        "id": "5vLksf-bKpOq",
        "outputId": "e945f5e0-f03a-4675-8319-252ea264b3ce"
      },
      "source": [
        "!ls text_folder"
      ],
      "execution_count": null,
      "outputs": [
        {
          "output_type": "stream",
          "name": "stdout",
          "text": [
            "bonjour.txt  file_copy.txt  file.txt  hello.txt  hola.txt\n"
          ]
        }
      ]
    },
    {
      "cell_type": "code",
      "metadata": {
        "colab": {
          "base_uri": "https://localhost:8080/"
        },
        "id": "9WQyZAvRMmK3",
        "outputId": "73455360-3de2-4053-a5ff-1dcd17f8a61b"
      },
      "source": [
        "!./copy_files_with_extensions.py .jpg -d jpg_folder"
      ],
      "execution_count": null,
      "outputs": [
        {
          "output_type": "stream",
          "name": "stdout",
          "text": [
            "Coped all '.jpg' files to jpg_folder\n"
          ]
        }
      ]
    },
    {
      "cell_type": "code",
      "metadata": {
        "colab": {
          "base_uri": "https://localhost:8080/"
        },
        "id": "6j3F4uEAMobp",
        "outputId": "1044b516-2b0b-4289-b707-8cc6028264a5"
      },
      "source": [
        "!ls jpg_folder"
      ],
      "execution_count": null,
      "outputs": [
        {
          "output_type": "stream",
          "name": "stdout",
          "text": [
            "screenshot01.jpg  screenshot04.jpg  screenshot07.jpg  screenshot10.jpg\n",
            "screenshot02.jpg  screenshot05.jpg  screenshot08.jpg\n",
            "screenshot03.jpg  screenshot06.jpg  screenshot09.jpg\n"
          ]
        }
      ]
    },
    {
      "cell_type": "markdown",
      "metadata": {
        "id": "XA8emJ0rPSyY"
      },
      "source": [
        "## Deleting Unneeded Files"
      ]
    },
    {
      "cell_type": "code",
      "metadata": {
        "id": "2unnjsGLPUs2"
      },
      "source": [
        "def find_big_files(min_size_in_mb):\n",
        "  \"\"\"Prints all files in system that are larger than the given size.\"\"\"\n",
        "  min_size_in_b = min_size_in_mb * 1024 * 1024\n",
        "  for folder, _, files in os.walk('/'):\n",
        "    for file in files:\n",
        "      file = Path(folder) / file\n",
        "      try:\n",
        "        size = os.path.getsize(file)\n",
        "        if  size > min_size_in_b:\n",
        "          print(f'{size/1024/1024:.1f} MB: {str(file):<15}')\n",
        "      except FileNotFoundError:\n",
        "        pass"
      ],
      "execution_count": null,
      "outputs": []
    },
    {
      "cell_type": "code",
      "metadata": {
        "colab": {
          "base_uri": "https://localhost:8080/"
        },
        "id": "wfoTydO8Rtuk",
        "outputId": "001c9d4d-db0c-4944-b89e-e070d4376b0c"
      },
      "source": [
        "find_big_files(750)"
      ],
      "execution_count": null,
      "outputs": [
        {
          "output_type": "stream",
          "name": "stdout",
          "text": [
            "1371.9 MB: /usr/lib/x86_64-linux-gnu/libcudnn_cnn_infer.so.8.0.5\n",
            "2316.0 MB: /usr/lib/x86_64-linux-gnu/libcudnn_static_v8.a\n",
            "1371.9 MB: /usr/lib/x86_64-linux-gnu/libcudnn_cnn_infer.so.8\n",
            "2501.4 MB: /usr/local/lib/python3.7/dist-packages/torch/lib/libtorch_cuda_cpp.so\n",
            "1238.0 MB: /usr/local/lib/python3.7/dist-packages/torch/lib/libtorch_cuda_cu.so\n",
            "954.3 MB: /usr/local/lib/python3.7/dist-packages/tensorflow/python/_pywrap_tensorflow_internal.so\n",
            "1246.9 MB: /usr/local/lib/python2.7/dist-packages/torch/lib/libtorch.so\n",
            "1013.1 MB: /usr/local/lib/python2.7/dist-packages/tensorflow_core/python/_pywrap_tensorflow_internal.so\n",
            "955.0 MB: /tensorflow-1.15.2/python3.7/tensorflow_core/python/_pywrap_tensorflow_internal.so\n",
            "955.0 MB: /tensorflow-1.15.2/python2.7/tensorflow_core/python/_pywrap_tensorflow_internal.so\n"
          ]
        }
      ]
    },
    {
      "cell_type": "markdown",
      "metadata": {
        "id": "voOyLx6RWBCa"
      },
      "source": [
        "## Filling in the Gaps"
      ]
    },
    {
      "cell_type": "code",
      "metadata": {
        "id": "RrkqK_rLUzY5"
      },
      "source": [
        "!mkdir saves\n",
        "!touch saves/save{001..054}.txt\n",
        "!touch saves/save{065..099}.txt\n",
        "!touch saves/save{256..344}.txt"
      ],
      "execution_count": null,
      "outputs": []
    },
    {
      "cell_type": "code",
      "metadata": {
        "id": "gcIOqlf4WdJL"
      },
      "source": [
        "def fill_gaps(directory, prefix):\n",
        "  \"\"\"Fill in the gaps on numbered files with the given prefix.\n",
        "  \n",
        "  Example:\n",
        "    prefix01.txt prefix05.txt prefix07.txt\n",
        "    ->\n",
        "    prefix01.txt prefix02.txt prefix03.txt\n",
        "  \"\"\"\n",
        "  directory = Path(directory)\n",
        "  files = []\n",
        "  pattern = re.compile(rf'(.*{prefix})(\\d+)(\\..*)')\n",
        "  for file in directory.iterdir():\n",
        "    if pattern.match(str(file)):\n",
        "      files.append(file)\n",
        "  files.sort(key=lambda x: int(pattern.findall(str(x))[0][1]))\n",
        "  for i, file in enumerate(files, start=1):\n",
        "    new_name = pattern.sub(fr'\\g<1>{str(i).rjust(3, \"0\")}\\g<3>', str(file))\n",
        "    shutil.move(file, new_name)"
      ],
      "execution_count": null,
      "outputs": []
    },
    {
      "cell_type": "code",
      "metadata": {
        "colab": {
          "base_uri": "https://localhost:8080/"
        },
        "id": "UxdW23vRhzo7",
        "outputId": "3b6ad7d8-e0df-495d-ec05-9237213eaa87"
      },
      "source": [
        "!ls saves"
      ],
      "execution_count": null,
      "outputs": [
        {
          "output_type": "stream",
          "name": "stdout",
          "text": [
            "save001.txt  save031.txt  save071.txt  save257.txt  save287.txt  save317.txt\n",
            "save002.txt  save032.txt  save072.txt  save258.txt  save288.txt  save318.txt\n",
            "save003.txt  save033.txt  save073.txt  save259.txt  save289.txt  save319.txt\n",
            "save004.txt  save034.txt  save074.txt  save260.txt  save290.txt  save320.txt\n",
            "save005.txt  save035.txt  save075.txt  save261.txt  save291.txt  save321.txt\n",
            "save006.txt  save036.txt  save076.txt  save262.txt  save292.txt  save322.txt\n",
            "save007.txt  save037.txt  save077.txt  save263.txt  save293.txt  save323.txt\n",
            "save008.txt  save038.txt  save078.txt  save264.txt  save294.txt  save324.txt\n",
            "save009.txt  save039.txt  save079.txt  save265.txt  save295.txt  save325.txt\n",
            "save010.txt  save040.txt  save080.txt  save266.txt  save296.txt  save326.txt\n",
            "save011.txt  save041.txt  save081.txt  save267.txt  save297.txt  save327.txt\n",
            "save012.txt  save042.txt  save082.txt  save268.txt  save298.txt  save328.txt\n",
            "save013.txt  save043.txt  save083.txt  save269.txt  save299.txt  save329.txt\n",
            "save014.txt  save044.txt  save084.txt  save270.txt  save300.txt  save330.txt\n",
            "save015.txt  save045.txt  save085.txt  save271.txt  save301.txt  save331.txt\n",
            "save016.txt  save046.txt  save086.txt  save272.txt  save302.txt  save332.txt\n",
            "save017.txt  save047.txt  save087.txt  save273.txt  save303.txt  save333.txt\n",
            "save018.txt  save048.txt  save088.txt  save274.txt  save304.txt  save334.txt\n",
            "save019.txt  save049.txt  save089.txt  save275.txt  save305.txt  save335.txt\n",
            "save020.txt  save050.txt  save090.txt  save276.txt  save306.txt  save336.txt\n",
            "save021.txt  save051.txt  save091.txt  save277.txt  save307.txt  save337.txt\n",
            "save022.txt  save052.txt  save092.txt  save278.txt  save308.txt  save338.txt\n",
            "save023.txt  save053.txt  save093.txt  save279.txt  save309.txt  save339.txt\n",
            "save024.txt  save054.txt  save094.txt  save280.txt  save310.txt  save340.txt\n",
            "save025.txt  save065.txt  save095.txt  save281.txt  save311.txt  save341.txt\n",
            "save026.txt  save066.txt  save096.txt  save282.txt  save312.txt  save342.txt\n",
            "save027.txt  save067.txt  save097.txt  save283.txt  save313.txt  save343.txt\n",
            "save028.txt  save068.txt  save098.txt  save284.txt  save314.txt  save344.txt\n",
            "save029.txt  save069.txt  save099.txt  save285.txt  save315.txt\n",
            "save030.txt  save070.txt  save256.txt  save286.txt  save316.txt\n"
          ]
        }
      ]
    },
    {
      "cell_type": "code",
      "metadata": {
        "id": "LaBv0yU2XI8S"
      },
      "source": [
        "fill_gaps('saves', 'save')"
      ],
      "execution_count": null,
      "outputs": []
    },
    {
      "cell_type": "code",
      "metadata": {
        "colab": {
          "base_uri": "https://localhost:8080/"
        },
        "id": "kN1fxlwpXKlS",
        "outputId": "5f1e5aac-715c-4b6d-987a-6c438177c1bc"
      },
      "source": [
        "!ls saves"
      ],
      "execution_count": null,
      "outputs": [
        {
          "output_type": "stream",
          "name": "stdout",
          "text": [
            "save001.txt  save031.txt  save061.txt  save091.txt  save121.txt  save151.txt\n",
            "save002.txt  save032.txt  save062.txt  save092.txt  save122.txt  save152.txt\n",
            "save003.txt  save033.txt  save063.txt  save093.txt  save123.txt  save153.txt\n",
            "save004.txt  save034.txt  save064.txt  save094.txt  save124.txt  save154.txt\n",
            "save005.txt  save035.txt  save065.txt  save095.txt  save125.txt  save155.txt\n",
            "save006.txt  save036.txt  save066.txt  save096.txt  save126.txt  save156.txt\n",
            "save007.txt  save037.txt  save067.txt  save097.txt  save127.txt  save157.txt\n",
            "save008.txt  save038.txt  save068.txt  save098.txt  save128.txt  save158.txt\n",
            "save009.txt  save039.txt  save069.txt  save099.txt  save129.txt  save159.txt\n",
            "save010.txt  save040.txt  save070.txt  save100.txt  save130.txt  save160.txt\n",
            "save011.txt  save041.txt  save071.txt  save101.txt  save131.txt  save161.txt\n",
            "save012.txt  save042.txt  save072.txt  save102.txt  save132.txt  save162.txt\n",
            "save013.txt  save043.txt  save073.txt  save103.txt  save133.txt  save163.txt\n",
            "save014.txt  save044.txt  save074.txt  save104.txt  save134.txt  save164.txt\n",
            "save015.txt  save045.txt  save075.txt  save105.txt  save135.txt  save165.txt\n",
            "save016.txt  save046.txt  save076.txt  save106.txt  save136.txt  save166.txt\n",
            "save017.txt  save047.txt  save077.txt  save107.txt  save137.txt  save167.txt\n",
            "save018.txt  save048.txt  save078.txt  save108.txt  save138.txt  save168.txt\n",
            "save019.txt  save049.txt  save079.txt  save109.txt  save139.txt  save169.txt\n",
            "save020.txt  save050.txt  save080.txt  save110.txt  save140.txt  save170.txt\n",
            "save021.txt  save051.txt  save081.txt  save111.txt  save141.txt  save171.txt\n",
            "save022.txt  save052.txt  save082.txt  save112.txt  save142.txt  save172.txt\n",
            "save023.txt  save053.txt  save083.txt  save113.txt  save143.txt  save173.txt\n",
            "save024.txt  save054.txt  save084.txt  save114.txt  save144.txt  save174.txt\n",
            "save025.txt  save055.txt  save085.txt  save115.txt  save145.txt  save175.txt\n",
            "save026.txt  save056.txt  save086.txt  save116.txt  save146.txt  save176.txt\n",
            "save027.txt  save057.txt  save087.txt  save117.txt  save147.txt  save177.txt\n",
            "save028.txt  save058.txt  save088.txt  save118.txt  save148.txt  save178.txt\n",
            "save029.txt  save059.txt  save089.txt  save119.txt  save149.txt\n",
            "save030.txt  save060.txt  save090.txt  save120.txt  save150.txt\n"
          ]
        }
      ]
    }
  ]
}