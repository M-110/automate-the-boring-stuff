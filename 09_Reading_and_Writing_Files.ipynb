{
  "nbformat": 4,
  "nbformat_minor": 0,
  "metadata": {
    "colab": {
      "name": "09_Reading_and_Writing_Files.ipynb",
      "provenance": [],
      "collapsed_sections": [],
      "authorship_tag": "ABX9TyM1coa9ziMQwha0VB5Q3VBD",
      "include_colab_link": true
    },
    "kernelspec": {
      "name": "python3",
      "display_name": "Python 3"
    },
    "language_info": {
      "name": "python"
    }
  },
  "cells": [
    {
      "cell_type": "markdown",
      "metadata": {
        "id": "view-in-github",
        "colab_type": "text"
      },
      "source": [
        "<a href=\"https://colab.research.google.com/github/M-110/automate-the-boring-stuff/blob/main/09_Reading_and_Writing_Files.ipynb\" target=\"_parent\"><img src=\"https://colab.research.google.com/assets/colab-badge.svg\" alt=\"Open In Colab\"/></a>"
      ]
    },
    {
      "cell_type": "markdown",
      "metadata": {
        "id": "a_CyI4StYKP2"
      },
      "source": [
        "# Project Generate random quizzes"
      ]
    },
    {
      "cell_type": "code",
      "metadata": {
        "id": "mjtt8LjHOfKU"
      },
      "source": [
        "!wget https://raw.githubusercontent.com/jasperdebie/VisInfo/master/us-state-capitals.csv &> /dev/null\n",
        "!sed -i 's/<br>//' us-state-capitals.csv # Clean extra <br> tags left in csv file\n",
        "import csv\n",
        "import random\n",
        "\n",
        "with open('us-state-capitals.csv') as file:\n",
        "  reader = csv.reader(file)\n",
        "  next(reader)\n",
        "  answer_key = {state: capital for state, capital, *_ in reader}\n"
      ],
      "execution_count": null,
      "outputs": []
    },
    {
      "cell_type": "code",
      "metadata": {
        "id": "NXemC_TcOp_O"
      },
      "source": [
        "def generate_quizzes(answer_key, n):\n",
        "  for i in range(1, n+1):\n",
        "    states = list(answer_key.keys())\n",
        "    random.shuffle(states)\n",
        "    with open(f'capital_quiz_{i:02}', 'w') as quiz_file, \\\n",
        "         open(f'capital_answer_key_{i:02}', 'w') as answer_file:\n",
        "      quiz_file.write(f'State Capital Quiz  -- Key: {i}\\n\\n')\n",
        "      quiz_file.write(f'Name: _____________ Date: ________\\n\\n')\n",
        "      answer_file.write(f'State Capital Quiz (Answer Key) -- Key: {i}\\n\\n')\n",
        "      for question_number, state in enumerate(states, start=1):\n",
        "        question, answer = generate_question_and_answer(state, answer_key, question_number)\n",
        "        quiz_file.write(question)\n",
        "        answer_file.write(f'{question_number:02}) {answer}\\n')\n",
        "\n",
        "\n",
        "\n",
        "def generate_question_and_answer(state, answer_key, question_number):\n",
        "  capital = answer_key[state]\n",
        "  options = list(random.sample(set(answer_key.values()) - {capital}, 3))\n",
        "  answer_index = random.randint(0,3)\n",
        "  options.insert(answer_index, capital)\n",
        "  options = list(zip('ABCD', options))\n",
        "  question = f'{question_number:02}) What is the capital of {state}?\\n'\n",
        "  answers = '\\n'.join(f'({letter}) {city}' for letter, city in options)\n",
        "\n",
        "  return question + answers + '\\n\\n', 'ABCD'[answer_index]\n"
      ],
      "execution_count": null,
      "outputs": []
    },
    {
      "cell_type": "code",
      "metadata": {
        "id": "PevfPFjNSsvo"
      },
      "source": [
        "generate_quizzes(answer_key, 35)"
      ],
      "execution_count": null,
      "outputs": []
    },
    {
      "cell_type": "code",
      "metadata": {
        "id": "rVB1HOqTYVPm",
        "colab": {
          "base_uri": "https://localhost:8080/"
        },
        "outputId": "94725271-4254-4aeb-a1a0-559351e7a6d3"
      },
      "source": [
        "!cat capital_answer_key_01 | head"
      ],
      "execution_count": null,
      "outputs": [
        {
          "output_type": "stream",
          "name": "stdout",
          "text": [
            "State Capital Quiz (Answer Key) -- Key: 1\n",
            "\n",
            "01) D\n",
            "02) B\n",
            "03) C\n",
            "04) A\n",
            "05) B\n",
            "06) C\n",
            "07) B\n",
            "08) B\n"
          ]
        }
      ]
    },
    {
      "cell_type": "code",
      "metadata": {
        "colab": {
          "base_uri": "https://localhost:8080/"
        },
        "id": "cBKZ4ak4a4HJ",
        "outputId": "52ea8e4b-0432-423c-d031-cb9bb73ba12c"
      },
      "source": [
        "!cat capital_quiz_01 | head"
      ],
      "execution_count": null,
      "outputs": [
        {
          "output_type": "stream",
          "name": "stdout",
          "text": [
            "State Capital Quiz  -- Key: 1\n",
            "\n",
            "Name: _____________ Date: ________\n",
            "\n",
            "01) What is the capital of South Dakota?\n",
            "(A) Madison\n",
            "(B) Boise\n",
            "(C) Bismarck\n",
            "(D) Pierre\n",
            "\n"
          ]
        }
      ]
    },
    {
      "cell_type": "markdown",
      "metadata": {
        "id": "exBtcU1FavDC"
      },
      "source": [
        "# Project: Updatable Multi-Clipboard"
      ]
    },
    {
      "cell_type": "code",
      "metadata": {
        "colab": {
          "base_uri": "https://localhost:8080/"
        },
        "id": "HBaByJA9bE5f",
        "outputId": "b4571ada-2479-47d9-c592-3026579bfb92"
      },
      "source": [
        "%%writefile mcp.py\n",
        "#!/usr/bin/env python\n",
        "\"\"\"Save/load text values in a local database using the command line.\"\"\"\n",
        "import argparse\n",
        "import shelve\n",
        "\n",
        "SHELF = 'local_db'\n",
        "\n",
        "\n",
        "def main():\n",
        "  \"\"\"Save or load text from the db.\"\"\"\n",
        "  args = get_args()\n",
        "  command = args.command\n",
        "  with shelve.open(SHELF) as db:\n",
        "    if command == 'save':\n",
        "      db[args.key] = args.value\n",
        "    elif command == 'load':\n",
        "      print(db.get(args.key, f'Could not find key: {args.key!r}'))\n",
        "    else:\n",
        "      print('Keys:', ', '.join(db.keys()))\n",
        "\n",
        "\n",
        "def get_args():\n",
        "  \"\"\"Get arguments from command line.\"\"\"\n",
        "  parser = argparse.ArgumentParser(\n",
        "      description=\"Load or save strings from a local db file\")\n",
        "  parser.add_argument('command',\n",
        "                      choices=('save', 'load', 'list'),\n",
        "                      help='Save/load a value or list all keys')\n",
        "  command = parser.parse_known_args()[0].command\n",
        "  if command != 'list':\n",
        "    parser.add_argument('key', help='Key to save to or load from', default='')\n",
        "    if command == 'save':\n",
        "      parser.add_argument('value', help='Value to save to key', default='')\n",
        "  return parser.parse_args()\n",
        "\n",
        "\n",
        "if __name__ == '__main__':\n",
        "  main()\n"
      ],
      "execution_count": null,
      "outputs": [
        {
          "output_type": "stream",
          "name": "stdout",
          "text": [
            "Writing mcp.py\n"
          ]
        }
      ]
    },
    {
      "cell_type": "code",
      "metadata": {
        "id": "mP-DH_ScdEMh"
      },
      "source": [
        "!python mcp.py save test 'hello world'"
      ],
      "execution_count": null,
      "outputs": []
    },
    {
      "cell_type": "code",
      "metadata": {
        "id": "Z7HRx1BK01yV"
      },
      "source": [
        "!python mcp.py save world 'save the world!'"
      ],
      "execution_count": null,
      "outputs": []
    },
    {
      "cell_type": "code",
      "metadata": {
        "colab": {
          "base_uri": "https://localhost:8080/"
        },
        "id": "ul5CLldTdGdD",
        "outputId": "cde11e3d-c699-4fe8-e0b8-e9c9a75f6c41"
      },
      "source": [
        "!python mcp.py list"
      ],
      "execution_count": null,
      "outputs": [
        {
          "output_type": "stream",
          "name": "stdout",
          "text": [
            "Keys: test, world\n"
          ]
        }
      ]
    },
    {
      "cell_type": "code",
      "metadata": {
        "colab": {
          "base_uri": "https://localhost:8080/"
        },
        "id": "BAruwfk-06Re",
        "outputId": "d4273931-b373-4ead-c00e-4b336d2f149d"
      },
      "source": [
        "!python mcp.py load world"
      ],
      "execution_count": null,
      "outputs": [
        {
          "output_type": "stream",
          "name": "stdout",
          "text": [
            "save the world!\n"
          ]
        }
      ]
    },
    {
      "cell_type": "code",
      "metadata": {
        "colab": {
          "base_uri": "https://localhost:8080/"
        },
        "id": "ZFoGSfcm0_iG",
        "outputId": "1aa2ca9a-b22a-4ccf-f83c-f1d19e003800"
      },
      "source": [
        "!python mcp.py load test"
      ],
      "execution_count": null,
      "outputs": [
        {
          "output_type": "stream",
          "name": "stdout",
          "text": [
            "hello world\n"
          ]
        }
      ]
    },
    {
      "cell_type": "code",
      "metadata": {
        "colab": {
          "base_uri": "https://localhost:8080/"
        },
        "id": "QYrbWM_K1DnH",
        "outputId": "a2fb6ffb-fbef-4cf5-e5c0-82b956218cd3"
      },
      "source": [
        "!python mcp.py load fake_key"
      ],
      "execution_count": null,
      "outputs": [
        {
          "output_type": "stream",
          "name": "stdout",
          "text": [
            "Could not find key: 'fake_key'\n"
          ]
        }
      ]
    },
    {
      "cell_type": "code",
      "metadata": {
        "id": "kjJDAYVvxhx2"
      },
      "source": [
        "!python mcp.py save test 'new test'"
      ],
      "execution_count": null,
      "outputs": []
    },
    {
      "cell_type": "code",
      "metadata": {
        "colab": {
          "base_uri": "https://localhost:8080/"
        },
        "id": "0gf5hHIwx-sU",
        "outputId": "6a979855-7d0d-496f-b46f-08383599bcd5"
      },
      "source": [
        "!python mcp.py load test"
      ],
      "execution_count": null,
      "outputs": [
        {
          "output_type": "stream",
          "name": "stdout",
          "text": [
            "new test\n"
          ]
        }
      ]
    },
    {
      "cell_type": "markdown",
      "metadata": {
        "id": "86SmAukL1h-2"
      },
      "source": [
        "# Practice Projects"
      ]
    },
    {
      "cell_type": "markdown",
      "metadata": {
        "id": "CwOjSy7d1ksu"
      },
      "source": [
        "## Extend the multiclipboard\n",
        "\n",
        "Add delete command"
      ]
    },
    {
      "cell_type": "code",
      "metadata": {
        "colab": {
          "base_uri": "https://localhost:8080/"
        },
        "id": "jRKtzaU81q-Q",
        "outputId": "ecabf658-7187-4c46-e3f0-ee4b9349329d"
      },
      "source": [
        "%%writefile mcp.py\n",
        "#!/usr/bin/env python\n",
        "\"\"\"Save/load text values in a local database using the command line.\"\"\"\n",
        "import argparse\n",
        "import shelve\n",
        "\n",
        "SHELF = 'local_db'\n",
        "\n",
        "\n",
        "def main():\n",
        "  \"\"\"Save or load text from the db.\"\"\"\n",
        "  args = get_args()\n",
        "  command = args.command\n",
        "  with shelve.open(SHELF) as db:\n",
        "    if command == 'save':\n",
        "      db[args.key] = args.value\n",
        "    elif command == 'load':\n",
        "      print(db.get(args.key, f'Could not find key: {args.key!r}'))\n",
        "    elif command =='delete':\n",
        "      try:\n",
        "        del db[args.key]\n",
        "      except KeyError:\n",
        "        print(f'Could not find key: {args.key!r}')\n",
        "    else:\n",
        "      print('Keys:', ', '.join(db.keys()))\n",
        "\n",
        "\n",
        "def get_args():\n",
        "  \"\"\"Get arguments from command line.\"\"\"\n",
        "  parser = argparse.ArgumentParser(\n",
        "      description=\"Load or save strings from a local db file\")\n",
        "  parser.add_argument('command',\n",
        "                      choices=('save', 'load', 'list', 'delete'),\n",
        "                      help='Save/load a value or list all keys')\n",
        "  command = parser.parse_known_args()[0].command\n",
        "  if command != 'list':\n",
        "    parser.add_argument('key', help='Key to save to or load from', default='')\n",
        "    if command == 'save':\n",
        "      parser.add_argument('value', help='Value to save to key', default='')\n",
        "  return parser.parse_args()\n",
        "\n",
        "\n",
        "if __name__ == '__main__':\n",
        "  main()\n"
      ],
      "execution_count": null,
      "outputs": [
        {
          "output_type": "stream",
          "name": "stdout",
          "text": [
            "Overwriting mcp.py\n"
          ]
        }
      ]
    },
    {
      "cell_type": "code",
      "metadata": {
        "id": "Bax0uQJ41-DH"
      },
      "source": [
        "!python mcp.py delete test"
      ],
      "execution_count": null,
      "outputs": []
    },
    {
      "cell_type": "code",
      "metadata": {
        "colab": {
          "base_uri": "https://localhost:8080/"
        },
        "id": "RkmFB6gy1_4y",
        "outputId": "42d5c9a1-1bfb-4e2c-e55d-23b89fd1ce86"
      },
      "source": [
        "!python mcp.py load test"
      ],
      "execution_count": null,
      "outputs": [
        {
          "output_type": "stream",
          "name": "stdout",
          "text": [
            "Could not find key: 'test'\n"
          ]
        }
      ]
    },
    {
      "cell_type": "code",
      "metadata": {
        "colab": {
          "base_uri": "https://localhost:8080/"
        },
        "id": "NzPN75oL2C1d",
        "outputId": "b4bf70ca-e0e8-4106-8a1f-e519375f04c7"
      },
      "source": [
        "!python mcp.py delete fake_name"
      ],
      "execution_count": null,
      "outputs": [
        {
          "output_type": "stream",
          "name": "stdout",
          "text": [
            "Could not find key: 'fake_name'\n"
          ]
        }
      ]
    },
    {
      "cell_type": "markdown",
      "metadata": {
        "id": "LqaT27nk2xWm"
      },
      "source": [
        "## Mad Libs"
      ]
    },
    {
      "cell_type": "code",
      "metadata": {
        "colab": {
          "base_uri": "https://localhost:8080/"
        },
        "id": "3CZl7UBc2zqM",
        "outputId": "40c629a0-68b0-40ad-b8b0-cea281e474a9"
      },
      "source": [
        "%%writefile madlibs.py\n",
        "#!/usr/bin/env python\n",
        "\"\"\"Ask user for words and print a madlib of them.\"\"\"\n",
        "\n",
        "TEMPLATE = 'The {} panda walked to the {} and then {}. A nearby {} was ' \\\n",
        "           'unaffected by these events.'\n",
        "WORDS = ['an adjective', 'a noun', 'a verb', 'a noun']\n",
        "\n",
        "def main():\n",
        "  \"\"\"Print the template using the user input.\"\"\"\n",
        "  print(TEMPLATE.format(*(input(f'Enter {word}:\\n') for word in WORDS)))\n",
        "\n",
        "\n",
        "if __name__ == '__main__':\n",
        "  main()\n"
      ],
      "execution_count": null,
      "outputs": [
        {
          "output_type": "stream",
          "name": "stdout",
          "text": [
            "Overwriting madlibs.py\n"
          ]
        }
      ]
    },
    {
      "cell_type": "code",
      "metadata": {
        "colab": {
          "base_uri": "https://localhost:8080/"
        },
        "id": "eA8aU7Jj4b4Q",
        "outputId": "8e11b418-b12f-4ddd-ef16-5c44decec225"
      },
      "source": [
        "!python madlibs.py"
      ],
      "execution_count": null,
      "outputs": [
        {
          "output_type": "stream",
          "name": "stdout",
          "text": [
            "Enter an adjective:\n",
            "exhausted\n",
            "Enter a noun:\n",
            "statue of a mermaid\n",
            "Enter a verb:\n",
            "ate lunch\n",
            "Enter a noun:\n",
            "thief\n",
            "The exhausted panda walked to the statue of a mermaid and then ate lunch. A nearby thief was unaffected by these events.\n"
          ]
        }
      ]
    },
    {
      "cell_type": "markdown",
      "metadata": {
        "id": "K2cTYvs35ouW"
      },
      "source": [
        "## Regex search\n"
      ]
    },
    {
      "cell_type": "code",
      "metadata": {
        "colab": {
          "base_uri": "https://localhost:8080/"
        },
        "id": "F2VqMo4i7IPL",
        "outputId": "43a6d062-1c73-4236-8bfd-e578b0903063"
      },
      "source": [
        "%%writefile file_a.txt\n",
        "\"Hello World\" -some computer\n",
        "\n",
        "234-324-1524\n",
        "554-243-6635\n",
        "\n",
        "cat@gmail.com"
      ],
      "execution_count": null,
      "outputs": [
        {
          "output_type": "stream",
          "name": "stdout",
          "text": [
            "Writing file_a.txt\n"
          ]
        }
      ]
    },
    {
      "cell_type": "code",
      "metadata": {
        "colab": {
          "base_uri": "https://localhost:8080/"
        },
        "id": "1VmsTgH37bgQ",
        "outputId": "112d7386-43a0-4996-c359-304f38dc31a3"
      },
      "source": [
        "%%writefile file_b.txt\n",
        "And then the officer (her phone number was 532-452-5634) declared \"It is raining\"\n",
        "\n",
        "The officer even had an email address for her dog dog@gmail.paw"
      ],
      "execution_count": null,
      "outputs": [
        {
          "output_type": "stream",
          "name": "stdout",
          "text": [
            "Writing file_b.txt\n"
          ]
        }
      ]
    },
    {
      "cell_type": "code",
      "metadata": {
        "colab": {
          "base_uri": "https://localhost:8080/"
        },
        "id": "ufSQYi6e4dfa",
        "outputId": "df084085-4cab-43e4-eb8c-b42e709da484"
      },
      "source": [
        "%%writefile text_search.py\n",
        "#!/usr/bin/env python\n",
        "\"\"\"Search the local directory for all .txt files using the given regular\n",
        "expression\"\"\"\n",
        "import argparse\n",
        "import os\n",
        "import re\n",
        "\n",
        "\n",
        "def main():\n",
        "  \"\"\"Get args, search the local directory, and print results that match the\n",
        "  regular expression.\"\"\"\n",
        "  expression = get_args().expression\n",
        "  text_file_names = [file for file in os.listdir() if file.endswith('.txt')]\n",
        "  results = []\n",
        "  for file_name in text_file_names:\n",
        "    with open(file_name) as file:\n",
        "      matches = re.findall(expression, file.read())\n",
        "      if matches:\n",
        "        results += matches\n",
        "  print('Results:')\n",
        "  print('\\n'.join(results))\n",
        "\n",
        "\n",
        "def get_args():\n",
        "  \"\"\"Get args from command line.\"\"\"\n",
        "  parser = argparse.ArgumentParser(\n",
        "      description='Search a directory\\'s txt files for a regular expression')\n",
        "  parser.add_argument('expression', help='regular expression to search for')\n",
        "  return parser.parse_args()\n",
        "\n",
        "\n",
        "if __name__ == '__main__':\n",
        "  main()\n"
      ],
      "execution_count": null,
      "outputs": [
        {
          "output_type": "stream",
          "name": "stdout",
          "text": [
            "Overwriting text_search.py\n"
          ]
        }
      ]
    },
    {
      "cell_type": "code",
      "metadata": {
        "id": "9EGU5V5b805t"
      },
      "source": [
        "!chmod +x text_search.py"
      ],
      "execution_count": null,
      "outputs": []
    },
    {
      "cell_type": "code",
      "metadata": {
        "colab": {
          "base_uri": "https://localhost:8080/"
        },
        "id": "ZCBIfg5f7BXN",
        "outputId": "f7a8c3ae-f25f-4ade-d4a4-1446d8b66831"
      },
      "source": [
        "!./text_search.py '\".*\"'"
      ],
      "execution_count": null,
      "outputs": [
        {
          "output_type": "stream",
          "name": "stdout",
          "text": [
            "Results:\n",
            "\"It is raining\"\n",
            "\"Hello World\"\n"
          ]
        }
      ]
    },
    {
      "cell_type": "code",
      "metadata": {
        "colab": {
          "base_uri": "https://localhost:8080/"
        },
        "id": "PIDC0eZw7Byo",
        "outputId": "e482c560-3dc6-47e4-d28d-ea7517529026"
      },
      "source": [
        "!./text_search.py '\\d\\d\\d-\\d\\d\\d-\\d\\d\\d\\d'"
      ],
      "execution_count": null,
      "outputs": [
        {
          "output_type": "stream",
          "name": "stdout",
          "text": [
            "Results:\n",
            "532-452-5634\n",
            "234-324-1524\n",
            "554-243-6635\n"
          ]
        }
      ]
    },
    {
      "cell_type": "code",
      "metadata": {
        "colab": {
          "base_uri": "https://localhost:8080/"
        },
        "id": "GLArF68n7Dgd",
        "outputId": "4b79d4f6-213f-4ad5-b514-e7a948b21b47"
      },
      "source": [
        "!./text_search.py '\\S*@\\S*.\\S*'"
      ],
      "execution_count": null,
      "outputs": [
        {
          "output_type": "stream",
          "name": "stdout",
          "text": [
            "Results:\n",
            "dog@gmail.paw\n",
            "cat@gmail.com\n"
          ]
        }
      ]
    }
  ]
}