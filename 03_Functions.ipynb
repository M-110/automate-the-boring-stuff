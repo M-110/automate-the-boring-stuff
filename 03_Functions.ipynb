{
  "nbformat": 4,
  "nbformat_minor": 0,
  "metadata": {
    "colab": {
      "name": "03_Functions.ipynb",
      "provenance": [],
      "collapsed_sections": [],
      "authorship_tag": "ABX9TyNmz2/ujzuT4V2PN4uj/Y1L",
      "include_colab_link": true
    },
    "kernelspec": {
      "name": "python3",
      "display_name": "Python 3"
    },
    "language_info": {
      "name": "python"
    }
  },
  "cells": [
    {
      "cell_type": "markdown",
      "metadata": {
        "id": "view-in-github",
        "colab_type": "text"
      },
      "source": [
        "<a href=\"https://colab.research.google.com/github/M-110/automate-the-boring-stuff/blob/main/03_Functions.ipynb\" target=\"_parent\"><img src=\"https://colab.research.google.com/assets/colab-badge.svg\" alt=\"Open In Colab\"/></a>"
      ]
    },
    {
      "cell_type": "markdown",
      "metadata": {
        "id": "bpFAgqNDMHRG"
      },
      "source": [
        "# ZigZag app"
      ]
    },
    {
      "cell_type": "code",
      "metadata": {
        "colab": {
          "base_uri": "https://localhost:8080/"
        },
        "id": "Pvsg9SJ4MDJP",
        "outputId": "daad2d00-ecb6-474f-ff17-b41c5d25016f"
      },
      "source": [
        "%%writefile zigzag.py\n",
        "\"\"\"Create zigzag pattern through prints.\"\"\"\n",
        "from time import sleep\n",
        "\n",
        "STARS = '*'*10\n",
        "\n",
        "\n",
        "def main():\n",
        "  \"\"\"Create a zigzag pattern.\"\"\"\n",
        "  i = 0\n",
        "  d = -1\n",
        "  try:\n",
        "    while True:\n",
        "      print(STARS.rjust(i + 10, ' '))\n",
        "      sleep(0.1)\n",
        "      if not i%20:\n",
        "        d *= -1\n",
        "      i += d\n",
        "  except KeyboardInterrupt:\n",
        "    pass\n",
        "\n",
        "\n",
        "if __name__ == '__main__':\n",
        "  main()\n"
      ],
      "execution_count": null,
      "outputs": [
        {
          "output_type": "stream",
          "name": "stdout",
          "text": [
            "Overwriting zigzag.py\n"
          ]
        }
      ]
    },
    {
      "cell_type": "code",
      "metadata": {
        "colab": {
          "base_uri": "https://localhost:8080/"
        },
        "id": "nl0dmqu4NkEy",
        "outputId": "68513307-dad9-4f2a-9bee-035217f0397c"
      },
      "source": [
        "!python zigzag.py"
      ],
      "execution_count": null,
      "outputs": [
        {
          "output_type": "stream",
          "name": "stdout",
          "text": [
            "**********\n",
            " **********\n",
            "  **********\n",
            "   **********\n",
            "    **********\n",
            "     **********\n",
            "      **********\n",
            "       **********\n",
            "        **********\n",
            "         **********\n",
            "          **********\n",
            "           **********\n",
            "            **********\n",
            "             **********\n",
            "              **********\n",
            "               **********\n",
            "                **********\n",
            "                 **********\n",
            "                  **********\n",
            "                   **********\n",
            "                    **********\n",
            "                   **********\n",
            "                  **********\n",
            "                 **********\n",
            "                **********\n",
            "               **********\n",
            "              **********\n",
            "             **********\n",
            "            **********\n",
            "           **********\n",
            "          **********\n",
            "         **********\n",
            "        **********\n",
            "       **********\n",
            "      **********\n",
            "     **********\n",
            "    **********\n",
            "   **********\n",
            "  **********\n",
            " **********\n",
            "**********\n",
            " **********\n",
            "  **********\n",
            "   **********\n",
            "    **********\n",
            "     **********\n",
            "      **********\n",
            "       **********\n",
            "        **********\n",
            "         **********\n",
            "          **********\n",
            "           **********\n",
            "            **********\n",
            "             **********\n"
          ]
        }
      ]
    },
    {
      "cell_type": "markdown",
      "metadata": {
        "id": "xdHR98Z7PA_9"
      },
      "source": [
        "# Practice Projects"
      ]
    },
    {
      "cell_type": "markdown",
      "metadata": {
        "id": "qHzPlLIfPGy6"
      },
      "source": [
        "## Collatz Sequence"
      ]
    },
    {
      "cell_type": "code",
      "metadata": {
        "id": "b4ySPZ2UNmx9"
      },
      "source": [
        "def collatz(number):\n",
        "  \"\"\"Returns the next value in the collatz sequence.\"\"\"\n",
        "  if number%2:\n",
        "    return 3 * number + 1\n",
        "  return number // 2"
      ],
      "execution_count": null,
      "outputs": []
    },
    {
      "cell_type": "markdown",
      "metadata": {
        "id": "UQ105Hn7Plg1"
      },
      "source": [
        "## Collatz Sequence Generator App"
      ]
    },
    {
      "cell_type": "code",
      "metadata": {
        "colab": {
          "base_uri": "https://localhost:8080/"
        },
        "id": "WZeB107_PbfR",
        "outputId": "f9ad0ff3-6534-416b-8fdf-076e28fc0edd"
      },
      "source": [
        "%%writefile collatz.py\n",
        "\"\"\"Generates Collatz Sequence for a given integer.\"\"\"\n",
        "\n",
        "def main():\n",
        "  \"\"\"Get input and print a Collatz Sequence.\"\"\"\n",
        "  while True:\n",
        "    try:\n",
        "      num = int(input(\"Enter a number:\\n\"))\n",
        "      break\n",
        "    except ValueError:\n",
        "      continue\n",
        "  \n",
        "  while num != 1:\n",
        "    num = collatz(num)\n",
        "    print(num)\n",
        "    \n",
        "      \n",
        "def collatz(number):\n",
        "  \"\"\"Returns the next value in the collatz sequence.\"\"\"\n",
        "  if number%2:\n",
        "    return 3 * number + 1\n",
        "  return number // 2\n",
        "\n",
        "\n",
        "if __name__ == '__main__':\n",
        "  main()\n"
      ],
      "execution_count": null,
      "outputs": [
        {
          "output_type": "stream",
          "name": "stdout",
          "text": [
            "Writing collatz.py\n"
          ]
        }
      ]
    },
    {
      "cell_type": "code",
      "metadata": {
        "colab": {
          "base_uri": "https://localhost:8080/"
        },
        "id": "YrqfJi4eQWjk",
        "outputId": "735c4de5-0265-4d2d-c9d1-cb4553cc868c"
      },
      "source": [
        "!python collatz.py"
      ],
      "execution_count": null,
      "outputs": [
        {
          "output_type": "stream",
          "name": "stdout",
          "text": [
            "Enter a number:\n",
            "3\n",
            "10\n",
            "5\n",
            "16\n",
            "8\n",
            "4\n",
            "2\n",
            "1\n"
          ]
        }
      ]
    },
    {
      "cell_type": "code",
      "metadata": {
        "colab": {
          "base_uri": "https://localhost:8080/"
        },
        "id": "3eIS2rV6QXTn",
        "outputId": "79b0b137-6e15-4017-be27-8eae89e59464"
      },
      "source": [
        "!python collatz.py"
      ],
      "execution_count": null,
      "outputs": [
        {
          "output_type": "stream",
          "name": "stdout",
          "text": [
            "Enter a number:\n",
            "puppy\n",
            "Enter a number:\n",
            "5\n",
            "16\n",
            "8\n",
            "4\n",
            "2\n",
            "1\n"
          ]
        }
      ]
    },
    {
      "cell_type": "code",
      "metadata": {
        "colab": {
          "base_uri": "https://localhost:8080/"
        },
        "id": "qoWgd7IdQeKi",
        "outputId": "6d6db7d7-869b-465c-f412-5a8aa6871e6b"
      },
      "source": [
        "!python collatz.py"
      ],
      "execution_count": null,
      "outputs": [
        {
          "output_type": "stream",
          "name": "stdout",
          "text": [
            "Enter a number:\n",
            "117'\n",
            "Enter a number:\n",
            "117\n",
            "352\n",
            "176\n",
            "88\n",
            "44\n",
            "22\n",
            "11\n",
            "34\n",
            "17\n",
            "52\n",
            "26\n",
            "13\n",
            "40\n",
            "20\n",
            "10\n",
            "5\n",
            "16\n",
            "8\n",
            "4\n",
            "2\n",
            "1\n"
          ]
        }
      ]
    }
  ]
}