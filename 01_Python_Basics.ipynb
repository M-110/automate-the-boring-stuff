{
  "nbformat": 4,
  "nbformat_minor": 0,
  "metadata": {
    "colab": {
      "name": "01_Python_Basics.ipynb",
      "provenance": [],
      "collapsed_sections": [],
      "authorship_tag": "ABX9TyMsHySApfXxc11bWny9SHhp",
      "include_colab_link": true
    },
    "kernelspec": {
      "name": "python3",
      "display_name": "Python 3"
    },
    "language_info": {
      "name": "python"
    }
  },
  "cells": [
    {
      "cell_type": "markdown",
      "metadata": {
        "id": "view-in-github",
        "colab_type": "text"
      },
      "source": [
        "<a href=\"https://colab.research.google.com/github/M-110/automate-the-boring-stuff/blob/main/01_Python_Basics.ipynb\" target=\"_parent\"><img src=\"https://colab.research.google.com/assets/colab-badge.svg\" alt=\"Open In Colab\"/></a>"
      ]
    },
    {
      "cell_type": "markdown",
      "metadata": {
        "id": "YOPO-k8YE343"
      },
      "source": [
        "Just lots of basic Python stuff in this chapter..."
      ]
    },
    {
      "cell_type": "code",
      "metadata": {
        "colab": {
          "base_uri": "https://localhost:8080/"
        },
        "id": "h9UPmEdgDgab",
        "outputId": "63e1b7da-3ae8-46a3-bdd4-08ca25b81161"
      },
      "source": [
        "%%writefile first_app.py\n",
        "\"\"\"An interactive and emotional experience with a complex AI.\"\"\"\n",
        "\n",
        "def main():\n",
        "  print('Hello, World!')\n",
        "  my_name = input('What is your name?\\n')\n",
        "  print(f'It is wonderful to meet you, {my_name}')\n",
        "  print(f'Did you know your name is {len(my_name)} characters long?')\n",
        "  my_age = input('How old are you?\\n')\n",
        "  try:\n",
        "    my_age = int(my_age)\n",
        "  except ValueError:\n",
        "    print(\"Fine, be difficult\")\n",
        "    return\n",
        "  print(f'You will be {my_age + 1} in one year!')\n",
        "\n",
        "\n",
        "if __name__ == '__main__':\n",
        "  main()\n"
      ],
      "execution_count": null,
      "outputs": [
        {
          "output_type": "stream",
          "name": "stdout",
          "text": [
            "Overwriting first_app.py\n"
          ]
        }
      ]
    },
    {
      "cell_type": "code",
      "metadata": {
        "colab": {
          "base_uri": "https://localhost:8080/"
        },
        "id": "bI7zLpkVEhls",
        "outputId": "207dc1dc-7280-49cc-bc48-e2784470dbe9"
      },
      "source": [
        "!python first_app.py"
      ],
      "execution_count": null,
      "outputs": [
        {
          "output_type": "stream",
          "name": "stdout",
          "text": [
            "Hello, World!\n",
            "What is your name?\n",
            "Moonchild\n",
            "It is wonderful to meet you, Moonchild\n",
            "Did you know your name is 9 characters long?\n",
            "How old are you?\n",
            "59\n",
            "You will be 60 in one year!\n"
          ]
        }
      ]
    }
  ]
}