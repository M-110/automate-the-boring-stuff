{
  "nbformat": 4,
  "nbformat_minor": 0,
  "metadata": {
    "colab": {
      "name": "16_Working_with_CSV_files_and_JSON_data.ipynb",
      "provenance": [],
      "collapsed_sections": [],
      "authorship_tag": "ABX9TyMmqSiPXVRC2VI+cUBBOhU5",
      "include_colab_link": true
    },
    "kernelspec": {
      "name": "python3",
      "display_name": "Python 3"
    },
    "language_info": {
      "name": "python"
    }
  },
  "cells": [
    {
      "cell_type": "markdown",
      "metadata": {
        "id": "view-in-github",
        "colab_type": "text"
      },
      "source": [
        "<a href=\"https://colab.research.google.com/github/M-110/automate-the-boring-stuff/blob/main/16_Working_with_CSV_files_and_JSON_data.ipynb\" target=\"_parent\"><img src=\"https://colab.research.google.com/assets/colab-badge.svg\" alt=\"Open In Colab\"/></a>"
      ]
    },
    {
      "cell_type": "code",
      "metadata": {
        "id": "r4kK4SgP6f8M"
      },
      "source": [
        "!wget https://nostarch.com/download/Automate_the_Boring_Stuff_onlinematerials_v.2.zip -q\n",
        "!unzip -q Automate_the_Boring_Stuff_onlinematerials_v.2.zip\n",
        "!rm Automate_the_Boring_Stuff_onlinematerials_v.2.zip\n",
        "!mv automate_online-materials materials"
      ],
      "execution_count": null,
      "outputs": []
    },
    {
      "cell_type": "markdown",
      "metadata": {
        "id": "RzE0qBD76bRT"
      },
      "source": [
        "# CSV"
      ]
    },
    {
      "cell_type": "code",
      "metadata": {
        "id": "gKILRrfT6LcD"
      },
      "source": [
        "import csv"
      ],
      "execution_count": null,
      "outputs": []
    },
    {
      "cell_type": "code",
      "metadata": {
        "colab": {
          "base_uri": "https://localhost:8080/"
        },
        "id": "t8R1PjVA6m_R",
        "outputId": "f9d62aef-785a-46d6-e789-c11995f921cd"
      },
      "source": [
        "with open('materials/example.csv') as file:\n",
        "  reader = csv.reader(file)\n",
        "  print(list(reader))"
      ],
      "execution_count": null,
      "outputs": [
        {
          "output_type": "stream",
          "name": "stdout",
          "text": [
            "[['4/5/2014 13:34', 'Apples', '73'], ['4/5/2014 3:41', 'Cherries', '85'], ['4/6/2014 12:46', 'Pears', '14'], ['4/8/2014 8:59', 'Oranges', '52'], ['4/10/2014 2:07', 'Apples', '152'], ['4/10/2014 18:10', 'Bananas', '23'], ['4/10/2014 2:40', 'Strawberries', '98']]\n"
          ]
        }
      ]
    },
    {
      "cell_type": "code",
      "metadata": {
        "colab": {
          "base_uri": "https://localhost:8080/"
        },
        "id": "iTh8dKMj6vL5",
        "outputId": "4d9e961f-03ae-4a75-ab60-8eac79ef27f1"
      },
      "source": [
        "with open('materials/example.csv') as file:\n",
        "  reader = csv.reader(file)\n",
        "  for row in reader:\n",
        "    print(row)"
      ],
      "execution_count": null,
      "outputs": [
        {
          "output_type": "stream",
          "name": "stdout",
          "text": [
            "['4/5/2014 13:34', 'Apples', '73']\n",
            "['4/5/2014 3:41', 'Cherries', '85']\n",
            "['4/6/2014 12:46', 'Pears', '14']\n",
            "['4/8/2014 8:59', 'Oranges', '52']\n",
            "['4/10/2014 2:07', 'Apples', '152']\n",
            "['4/10/2014 18:10', 'Bananas', '23']\n",
            "['4/10/2014 2:40', 'Strawberries', '98']\n"
          ]
        }
      ]
    },
    {
      "cell_type": "markdown",
      "metadata": {
        "id": "Hnz90aFudXhR"
      },
      "source": [
        "## Create CSV"
      ]
    },
    {
      "cell_type": "code",
      "metadata": {
        "id": "KuMFBR9P60t5"
      },
      "source": [
        "with open('output.csv', 'w') as file:\n",
        "  writer = csv.writer(file)\n",
        "  writer.writerow(['Name', 'Fake Name', 'Hidden Name', 'Ultimate Name'])\n",
        "  writer.writerow(['Clark', 'Superman', 'Kal-El', 'Superbaby'])"
      ],
      "execution_count": null,
      "outputs": []
    },
    {
      "cell_type": "code",
      "metadata": {
        "colab": {
          "base_uri": "https://localhost:8080/"
        },
        "id": "swjUYzFueBQ6",
        "outputId": "2ce4cba4-6b6d-4061-c33a-48a535d86feb"
      },
      "source": [
        "!cat output.csv"
      ],
      "execution_count": null,
      "outputs": [
        {
          "output_type": "stream",
          "name": "stdout",
          "text": [
            "Name,Fake Name,Hidden Name,Ultimate Name\r\n",
            "Clark,Superman,Kal-El,Superbaby\r\n"
          ]
        }
      ]
    },
    {
      "cell_type": "code",
      "metadata": {
        "id": "lDcz--mKeCLd"
      },
      "source": [
        "with open('output.csv', 'w') as file:\n",
        "  writer = csv.writer(file, delimiter='|', lineterminator='\\n\\n')\n",
        "  writer.writerow(list('ABCD'))\n",
        "  writer.writerow([1,2,3,4])\n",
        "  writer.writerow([5,6,7,8])"
      ],
      "execution_count": null,
      "outputs": []
    },
    {
      "cell_type": "code",
      "metadata": {
        "colab": {
          "base_uri": "https://localhost:8080/"
        },
        "id": "vgRQea-Tef39",
        "outputId": "835ed6ee-109a-458d-b97d-f32e15c494a7"
      },
      "source": [
        "!cat output.csv"
      ],
      "execution_count": null,
      "outputs": [
        {
          "output_type": "stream",
          "name": "stdout",
          "text": [
            "A|B|C|D\n",
            "\n",
            "1|2|3|4\n",
            "\n",
            "5|6|7|8\n",
            "\n"
          ]
        }
      ]
    },
    {
      "cell_type": "markdown",
      "metadata": {
        "id": "7YWy_t0CepQ6"
      },
      "source": [
        "## CSV dicts"
      ]
    },
    {
      "cell_type": "code",
      "metadata": {
        "colab": {
          "base_uri": "https://localhost:8080/"
        },
        "id": "BN5ehsu_eil3",
        "outputId": "b77e63d1-5a8a-4af0-cda7-6c4b265a699d"
      },
      "source": [
        "with open('materials/example.csv') as file:\n",
        "  d = csv.DictReader(file, ['time', 'name', 'amount'])\n",
        "  for row in d:\n",
        "    print(row['name'], row['amount'])"
      ],
      "execution_count": null,
      "outputs": [
        {
          "output_type": "stream",
          "name": "stdout",
          "text": [
            "Apples 73\n",
            "Cherries 85\n",
            "Pears 14\n",
            "Oranges 52\n",
            "Apples 152\n",
            "Bananas 23\n",
            "Strawberries 98\n"
          ]
        }
      ]
    },
    {
      "cell_type": "code",
      "metadata": {
        "id": "OO7xTzMvexhb"
      },
      "source": [
        "with open('output.csv', 'w') as file:\n",
        "  writer = csv.DictWriter(file, ['Name', 'Pet', 'Phone'])\n",
        "  writer.writeheader()\n",
        "  writer.writerow({'Name': 'alice', 'Pet': 'rabbit', 'Phone': 'pixel'})\n",
        "  writer.writerow({'Name': 'bob', 'Pet': 'walrus', 'Phone': 'nokia'})"
      ],
      "execution_count": null,
      "outputs": []
    },
    {
      "cell_type": "code",
      "metadata": {
        "colab": {
          "base_uri": "https://localhost:8080/"
        },
        "id": "VFB0Lbv6fw31",
        "outputId": "02b19476-47c8-4feb-a8fd-707068b17d90"
      },
      "source": [
        "!cat output.csv"
      ],
      "execution_count": null,
      "outputs": [
        {
          "output_type": "stream",
          "name": "stdout",
          "text": [
            "Name,Pet,Phone\r\n",
            "alice,rabbit,pixel\r\n",
            "bob,walrus,nokia\r\n"
          ]
        }
      ]
    },
    {
      "cell_type": "markdown",
      "metadata": {
        "id": "HeReQ-0wgCCJ"
      },
      "source": [
        "# Project: Removing the Header from CSV Files"
      ]
    },
    {
      "cell_type": "code",
      "metadata": {
        "id": "XLpLw4erf_4e",
        "colab": {
          "base_uri": "https://localhost:8080/"
        },
        "outputId": "09ecc2f5-a091-4d7b-e0b8-888ae59fd9bd"
      },
      "source": [
        "%%writefile remove_headers.py\n",
        "#!/usr/bin/env python\n",
        "\"\"\"Remove headers from all csv files in a directory and resave them.\"\"\"\n",
        "import argparse\n",
        "import csv\n",
        "from pathlib import Path\n",
        "\n",
        "\n",
        "def main():\n",
        "  args = get_args()\n",
        "  dir = Path(args.directory)\n",
        "  filenames = dir.glob('*.csv')\n",
        "  output_dir = Path('headers_removed')\n",
        "  output_dir.mkdir(exist_ok=True)\n",
        "  for filename in filenames:\n",
        "    with \\\n",
        "        open(filename) as file, \\\n",
        "        open(output_dir / filename.name, 'w') as output:\n",
        "      csv_reader = csv.reader(file)\n",
        "      csv_writer = csv.writer(output)\n",
        "      next(csv_reader)\n",
        "      for row in csv_reader:\n",
        "        csv_writer.writerow(row)\n",
        "  print('Saved files to \"headers_removed/\"')\n",
        "\n",
        "\n",
        "def get_args():\n",
        "  \"\"\"Get arguments from command line.\"\"\"\n",
        "  parser = argparse.ArgumentParser(\n",
        "      description='Remove headers from all csv files in a directory'\n",
        "  )\n",
        "  parser.add_argument('directory',\n",
        "                      help='directory to find csv files')\n",
        "  return parser.parse_args()\n",
        "\n",
        "\n",
        "if __name__ == '__main__':\n",
        "  main()\n"
      ],
      "execution_count": null,
      "outputs": [
        {
          "output_type": "stream",
          "name": "stdout",
          "text": [
            "Overwriting remove_headers.py\n"
          ]
        }
      ]
    },
    {
      "cell_type": "code",
      "metadata": {
        "colab": {
          "base_uri": "https://localhost:8080/"
        },
        "id": "Tx1W16_DuLkz",
        "outputId": "98ddc786-73db-4a62-a515-875cef0ab4fe"
      },
      "source": [
        "!python remove_headers.py materials"
      ],
      "execution_count": null,
      "outputs": [
        {
          "output_type": "stream",
          "name": "stdout",
          "text": [
            "Saved files to \"headers_removed/\"\n"
          ]
        }
      ]
    },
    {
      "cell_type": "markdown",
      "metadata": {
        "id": "5VpgG6evvTLa"
      },
      "source": [
        "# JSON and APIs"
      ]
    },
    {
      "cell_type": "code",
      "metadata": {
        "id": "xUPDCPjzuPYo"
      },
      "source": [
        "import json"
      ],
      "execution_count": null,
      "outputs": []
    },
    {
      "cell_type": "code",
      "metadata": {
        "id": "eh4aw7RbvwDd"
      },
      "source": [
        "json_string = '{\"name\": \"Zophie\", \"isCat\": true, \"miceCaught\": 0, \"felineIQ\": null}'"
      ],
      "execution_count": null,
      "outputs": []
    },
    {
      "cell_type": "code",
      "metadata": {
        "id": "6eRDznt-wHjU"
      },
      "source": [
        "!echo '{\"name\": \"Zophie\", \"isCat\": true, \"miceCaught\": 0,\"felineIQ\": null}' > test.json"
      ],
      "execution_count": null,
      "outputs": []
    },
    {
      "cell_type": "code",
      "metadata": {
        "colab": {
          "base_uri": "https://localhost:8080/"
        },
        "id": "o7CJAOrSv-VC",
        "outputId": "c558c043-8891-4499-b91d-5134878b96a9"
      },
      "source": [
        "json.loads(json_string)"
      ],
      "execution_count": null,
      "outputs": [
        {
          "output_type": "execute_result",
          "data": {
            "text/plain": [
              "{'felineIQ': None, 'isCat': True, 'miceCaught': 0, 'name': 'Zophie'}"
            ]
          },
          "metadata": {},
          "execution_count": 16
        }
      ]
    },
    {
      "cell_type": "code",
      "metadata": {
        "colab": {
          "base_uri": "https://localhost:8080/"
        },
        "id": "GrH3lN-vv_3Q",
        "outputId": "5a838c47-4885-4015-fb94-38fb20a9b89a"
      },
      "source": [
        "with open('test.json') as json_file:\n",
        "  print(json.load(json_file))"
      ],
      "execution_count": null,
      "outputs": [
        {
          "output_type": "stream",
          "name": "stdout",
          "text": [
            "{'name': 'Zophie', 'isCat': True, 'miceCaught': 0, 'felineIQ': None}\n"
          ]
        }
      ]
    },
    {
      "cell_type": "code",
      "metadata": {
        "id": "9BHry7cYwTns"
      },
      "source": [
        "d = dict(name='Python', version='3.7', os='linux')"
      ],
      "execution_count": null,
      "outputs": []
    },
    {
      "cell_type": "code",
      "metadata": {
        "colab": {
          "base_uri": "https://localhost:8080/",
          "height": 35
        },
        "id": "aT06Y6pMwiWv",
        "outputId": "9176fc9d-880e-44d9-b764-c992c8190dc5"
      },
      "source": [
        "json.dumps(d)"
      ],
      "execution_count": null,
      "outputs": [
        {
          "output_type": "execute_result",
          "data": {
            "application/vnd.google.colaboratory.intrinsic+json": {
              "type": "string"
            },
            "text/plain": [
              "'{\"name\": \"Python\", \"version\": \"3.7\", \"os\": \"linux\"}'"
            ]
          },
          "metadata": {},
          "execution_count": 21
        }
      ]
    },
    {
      "cell_type": "code",
      "metadata": {
        "id": "APF0Pud_wjb4"
      },
      "source": [
        "with open('test2.json', 'w') as json_output:\n",
        "  json.dump(d, json_output)"
      ],
      "execution_count": null,
      "outputs": []
    },
    {
      "cell_type": "code",
      "metadata": {
        "colab": {
          "base_uri": "https://localhost:8080/"
        },
        "id": "Avaapdj2wlpF",
        "outputId": "5ffc5902-5ca5-415e-e069-bef88b1cf36e"
      },
      "source": [
        "!cat test2.json"
      ],
      "execution_count": null,
      "outputs": [
        {
          "output_type": "stream",
          "name": "stdout",
          "text": [
            "{\"name\": \"Python\", \"version\": \"3.7\", \"os\": \"linux\"}"
          ]
        }
      ]
    },
    {
      "cell_type": "markdown",
      "metadata": {
        "id": "iOaCVmN9w1i8"
      },
      "source": [
        "# Project: Fetching Current Weather Data"
      ]
    },
    {
      "cell_type": "code",
      "metadata": {
        "id": "Kux59rGCwzuL"
      },
      "source": [
        "from getpass import getpass"
      ],
      "execution_count": null,
      "outputs": []
    },
    {
      "cell_type": "code",
      "metadata": {
        "colab": {
          "base_uri": "https://localhost:8080/"
        },
        "id": "XpGwCcvbyTmI",
        "outputId": "85170329-49a8-40df-a77e-f5e871a2f47a"
      },
      "source": [
        "with open('API_KEY', 'w') as key_file:\n",
        "  key_file.write(getpass('api_key'))"
      ],
      "execution_count": null,
      "outputs": [
        {
          "name": "stdout",
          "output_type": "stream",
          "text": [
            "api_key··········\n"
          ]
        }
      ]
    },
    {
      "cell_type": "code",
      "metadata": {
        "colab": {
          "base_uri": "https://localhost:8080/"
        },
        "id": "3xe7TGLYzxFm",
        "outputId": "e234f2a3-f378-4dad-d1d8-97a37b1e94f3"
      },
      "source": [
        "%%writefile weather.py\n",
        "#!/usr/bin/env python\n",
        "\"\"\"Get the daily forecast for a city.\"\"\"\n",
        "import argparse\n",
        "import datetime\n",
        "import json\n",
        "\n",
        "import requests\n",
        "\n",
        "API_URL = 'https://api.openweathermap.org/data/2.5/forecast'\n",
        "\n",
        "WEATHER_TEMPLATE = \"\"\"-----------+\n",
        "{}|\n",
        "===========|\n",
        " High: {}|\n",
        " Low: {}|\n",
        " Wind: {}|\n",
        " {}|\n",
        "-----------+\"\"\"\n",
        "\n",
        "LEFT_BAR = \"\"\"+\n",
        "|\n",
        "|\n",
        "|\n",
        "|\n",
        "|\n",
        "|\n",
        "+\"\"\"\n",
        "\n",
        "WEEKDAYS = ['Monday', 'Tuesday', 'Wednesday','Thursday',\n",
        "            'Friday', 'Saturday', 'Sunday']\n",
        "    \n",
        "\n",
        "def main():\n",
        "  args = get_args()\n",
        "  api_key = get_api_key()\n",
        "  params = {'q': args.query, 'appid': api_key, 'units': 'imperial'}\n",
        "  weather_data = json.loads(requests.get(API_URL, params=params).text)\n",
        "  weather_boxes = [create_forecast_string(day_data)\n",
        "                   for day_data in weather_data['list'][::7]] \n",
        "  weather_boxes = [LEFT_BAR] + weather_boxes\n",
        "  text_result = combine_columns(weather_boxes)\n",
        "  print(f\"{weather_data['city']['name']}:\")\n",
        "  print(text_result)\n",
        "\n",
        "\n",
        "def get_args():\n",
        "  \"\"\"Get arguments from command line.\"\"\"\n",
        "  parser = argparse.ArgumentParser(\n",
        "      description='Get the daily weather forecast for a city'\n",
        "  )\n",
        "  parser.add_argument('query',\n",
        "                      help='Location to search for (City)')\n",
        "  return parser.parse_args()\n",
        "\n",
        "\n",
        "def get_api_key():\n",
        "  \"\"\"Return the API key from the API key file.\"\"\"\n",
        "  with open('API_KEY') as key_file:\n",
        "    return key_file.read()\n",
        "\n",
        "\n",
        "def create_forecast_string(day_data):\n",
        "  \"\"\"Create a string in the shape of a box with the weather data.\"\"\"\n",
        "  date = datetime.datetime.fromtimestamp(day_data['dt'])\n",
        "  high = round(day_data['main']['temp_max'])\n",
        "  low = round(day_data['main']['temp_min'])\n",
        "  wind = round(day_data['wind']['speed'])\n",
        "  weather = day_data['weather'][0]['main']\n",
        "  day_of_week = WEEKDAYS[date.weekday()]\n",
        "  return WEATHER_TEMPLATE.format(\n",
        "      day_of_week.center(11),\n",
        "      str(high).ljust(4),\n",
        "      str(low).ljust(5),\n",
        "      str(wind).ljust(4),\n",
        "      weather.ljust(10)\n",
        "      )\n",
        "\n",
        "\n",
        "def combine_columns(columns):\n",
        "  \"\"\"Combine the boxes together horizontally.\"\"\"\n",
        "  rows = zip(*[box.split('\\n') for box in columns])\n",
        "  return '\\n'.join(''.join(row) for row in rows)\n",
        "\n",
        "if __name__ == '__main__':\n",
        "  main()\n"
      ],
      "execution_count": null,
      "outputs": [
        {
          "output_type": "stream",
          "name": "stdout",
          "text": [
            "Overwriting weather.py\n"
          ]
        }
      ]
    },
    {
      "cell_type": "code",
      "metadata": {
        "id": "gMSjN0usX4uj"
      },
      "source": [
        "!chmod +x weather.py"
      ],
      "execution_count": null,
      "outputs": []
    },
    {
      "cell_type": "code",
      "metadata": {
        "colab": {
          "base_uri": "https://localhost:8080/"
        },
        "id": "N-j-83-KX7RL",
        "outputId": "aca8ad06-dcbe-45e5-8ea8-969b2b116a68"
      },
      "source": [
        "!./weather.py fargo"
      ],
      "execution_count": null,
      "outputs": [
        {
          "output_type": "stream",
          "name": "stdout",
          "text": [
            "Fargo:\n",
            "+-----------+-----------+-----------+-----------+-----------+-----------+\n",
            "|   Friday  |  Saturday |   Sunday  |   Monday  |  Tuesday  | Wednesday |\n",
            "|===========|===========|===========|===========|===========|===========|\n",
            "| High: 45  | High: 46  | High: 42  | High: 33  | High: 43  | High: 44  |\n",
            "| Low: 45   | Low: 46   | Low: 42   | Low: 33   | Low: 43   | Low: 44   |\n",
            "| Wind: 6   | Wind: 9   | Wind: 13  | Wind: 6   | Wind: 20  | Wind: 15  |\n",
            "| Clouds    | Clouds    | Clouds    | Clouds    | Clouds    | Rain      |\n",
            "+-----------+-----------+-----------+-----------+-----------+-----------+\n"
          ]
        }
      ]
    },
    {
      "cell_type": "markdown",
      "metadata": {
        "id": "VyGvA6IgbSFk"
      },
      "source": [
        "# Practice Project: Excel-to-CS converter"
      ]
    },
    {
      "cell_type": "code",
      "metadata": {
        "id": "n67dgqpnglqg"
      },
      "source": [
        "!mkdir excel_spreadsheets\n",
        "!unzip -q materials/excelSpreadsheets.zip -d excel_spreadsheets"
      ],
      "execution_count": null,
      "outputs": []
    },
    {
      "cell_type": "code",
      "metadata": {
        "colab": {
          "base_uri": "https://localhost:8080/"
        },
        "id": "1RYHH9S2cA6d",
        "outputId": "1d2d79e0-8d65-47b7-afc9-e03b7ed43247"
      },
      "source": [
        "%%writefile excel_to_csv.py\n",
        "#!/usr/bin/env python\n",
        "\"\"\"Convert all excel files in a directory to csv.\"\"\"\n",
        "import argparse\n",
        "import csv\n",
        "from pathlib import Path\n",
        "\n",
        "import openpyxl\n",
        "\n",
        "\n",
        "def main():\n",
        "  args = get_args()\n",
        "  dir = Path(args.directory)\n",
        "  output_dir = Path(dir.name + '_xlsx_to_csv_conversions/')\n",
        "  output_dir.mkdir(exist_ok=True)\n",
        "  filenames = dir.glob('*.xlsx')\n",
        "  count = 0\n",
        "  for filename in filenames:\n",
        "    count += 1\n",
        "    convert_to_csv(filename, output_dir)\n",
        "  print(f'Converted {count} files to csv. Saved in {output_dir}')\n",
        "\n",
        "\n",
        "def get_args():\n",
        "  \"\"\"Get arguments from command line.\"\"\"\n",
        "  parser = argparse.ArgumentParser(\n",
        "      description='Convert all excel files in a directory to csv'\n",
        "  )\n",
        "  parser.add_argument('directory',\n",
        "                      help='Directory containing the excel files')\n",
        "  return parser.parse_args()\n",
        "\n",
        "\n",
        "def convert_to_csv(filename, output_dir):\n",
        "  \"\"\"Convert the given .xlsx file to a csv file.\"\"\"\n",
        "  output_name = output_dir / (filename.name.split('.')[0] + '.csv')\n",
        "  sheet = openpyxl.load_workbook(filename, read_only=True).active\n",
        "  with open(output_name, 'w') as output_file:\n",
        "    csv_writer = csv.writer(output_file)\n",
        "    for row in sheet:\n",
        "      if not any(cell.value for cell in row):\n",
        "        continue\n",
        "      csv_writer.writerow(cell.value for cell in row)\n",
        "\n",
        "\n",
        "if __name__ == '__main__':\n",
        "  main()\n"
      ],
      "execution_count": null,
      "outputs": [
        {
          "output_type": "stream",
          "name": "stdout",
          "text": [
            "Overwriting excel_to_csv.py\n"
          ]
        }
      ]
    },
    {
      "cell_type": "code",
      "metadata": {
        "id": "hexs3gaYcabm"
      },
      "source": [
        "!chmod +x excel_to_csv.py"
      ],
      "execution_count": null,
      "outputs": []
    },
    {
      "cell_type": "code",
      "metadata": {
        "colab": {
          "base_uri": "https://localhost:8080/"
        },
        "id": "MfKRdfr1cath",
        "outputId": "771dfb3e-3791-49a8-a733-2edc1507c499"
      },
      "source": [
        "!./excel_to_csv.py excel_spreadsheets"
      ],
      "execution_count": null,
      "outputs": [
        {
          "output_type": "stream",
          "name": "stdout",
          "text": [
            "Converted 26 files to csv. Saved in excel_spreadsheets_xlsx_to_csv_conversions\n"
          ]
        }
      ]
    },
    {
      "cell_type": "code",
      "metadata": {
        "colab": {
          "base_uri": "https://localhost:8080/"
        },
        "id": "f0I7ZviygKnz",
        "outputId": "48e29265-95ff-4e70-a548-48ccbce76ba7"
      },
      "source": [
        "!ls excel_spreadsheets_xlsx_to_csv_conversions"
      ],
      "execution_count": null,
      "outputs": [
        {
          "output_type": "stream",
          "name": "stdout",
          "text": [
            "spreadsheet-A.csv  spreadsheet-H.csv  spreadsheet-O.csv  spreadsheet-V.csv\n",
            "spreadsheet-B.csv  spreadsheet-I.csv  spreadsheet-P.csv  spreadsheet-W.csv\n",
            "spreadsheet-C.csv  spreadsheet-J.csv  spreadsheet-Q.csv  spreadsheet-X.csv\n",
            "spreadsheet-D.csv  spreadsheet-K.csv  spreadsheet-R.csv  spreadsheet-Y.csv\n",
            "spreadsheet-E.csv  spreadsheet-L.csv  spreadsheet-S.csv  spreadsheet-Z.csv\n",
            "spreadsheet-F.csv  spreadsheet-M.csv  spreadsheet-T.csv\n",
            "spreadsheet-G.csv  spreadsheet-N.csv  spreadsheet-U.csv\n"
          ]
        }
      ]
    },
    {
      "cell_type": "code",
      "metadata": {
        "colab": {
          "base_uri": "https://localhost:8080/"
        },
        "id": "fze9NtjbhTR6",
        "outputId": "d9dd94c0-762a-410d-eba9-da50bd49af0f"
      },
      "source": [
        "!cat excel_spreadsheets_xlsx_to_csv_conversions/spreadsheet-A.csv | head -n 5"
      ],
      "execution_count": null,
      "outputs": [
        {
          "output_type": "stream",
          "name": "stdout",
          "text": [
            "ANAGRAMS,ASSIGNEE,ANGLICANS,ASTROPHYSICAL,ALIASED,ADOPTING,ALLEVIATES,AFFLICTING,ADDED,ASPERSION\r\n",
            "ASSISTANT,ASSAILING,ALSO,ALDRICH,ACHING,ADDUCT,ANGELA,ADMIXES,ALLAYED,ALBA\r\n",
            "ALGOL,ALLEYWAYS,ADVISORS,ACTIVIST,AMENDMENT,AFFECTINGLY,AUTOGRAPHED,AWARE,ACCESSES,ASCENDANCY\r\n",
            "ALUMNI,AUDIOLOGY,AMOROUS,ANNUNCIATORS,ANTISERUM,ACCUMULATE,AUDUBON,AFRICANIZES,ASSENTS,AGEE\r\n",
            "ANGULAR,APPROPRIATELY,APPRAISE,ADMINISTERED,AWFULLY,ANGEL,ABOLISHERS,ACTA,ADVERSARY,ABSENCES\r\n"
          ]
        }
      ]
    }
  ]
}