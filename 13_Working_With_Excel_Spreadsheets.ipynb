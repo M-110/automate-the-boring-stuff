{
  "nbformat": 4,
  "nbformat_minor": 0,
  "metadata": {
    "colab": {
      "name": "13_Working_With_Excel_Spreadsheets.ipynb",
      "provenance": [],
      "collapsed_sections": [],
      "authorship_tag": "ABX9TyN9KxE6bU0xbNKR/20U4g/E",
      "include_colab_link": true
    },
    "kernelspec": {
      "name": "python3",
      "display_name": "Python 3"
    },
    "language_info": {
      "name": "python"
    }
  },
  "cells": [
    {
      "cell_type": "markdown",
      "metadata": {
        "id": "view-in-github",
        "colab_type": "text"
      },
      "source": [
        "<a href=\"https://colab.research.google.com/github/M-110/automate-the-boring-stuff/blob/main/13_Working_With_Excel_Spreadsheets.ipynb\" target=\"_parent\"><img src=\"https://colab.research.google.com/assets/colab-badge.svg\" alt=\"Open In Colab\"/></a>"
      ]
    },
    {
      "cell_type": "code",
      "metadata": {
        "id": "AgmN5fIN8cSF"
      },
      "source": [
        "!wget https://nostarch.com/download/Automate_the_Boring_Stuff_onlinematerials_v.2.zip &> /dev/null\n",
        "!unzip Automate_the_Boring_Stuff_onlinematerials_v.2.zip &> /dev/null\n",
        "!rm Automate_the_Boring_Stuff_onlinematerials_v.2.zip\n",
        "!mv automate_online-materials materials"
      ],
      "execution_count": null,
      "outputs": []
    },
    {
      "cell_type": "markdown",
      "metadata": {
        "id": "VpxKBwMf9bg_"
      },
      "source": [
        "# Opening Excel Documents with OpenPyXL"
      ]
    },
    {
      "cell_type": "code",
      "metadata": {
        "id": "Iw72w4UOcAbl"
      },
      "source": [
        "import openpyxl"
      ],
      "execution_count": null,
      "outputs": []
    },
    {
      "cell_type": "code",
      "metadata": {
        "id": "o-Az7oSI9Hjf"
      },
      "source": [
        "wb = openpyxl.load_workbook('materials/example.xlsx')"
      ],
      "execution_count": null,
      "outputs": []
    },
    {
      "cell_type": "code",
      "metadata": {
        "colab": {
          "base_uri": "https://localhost:8080/"
        },
        "id": "yrtXXElC8gbI",
        "outputId": "f0e2c186-9276-4f38-8f1d-bb9494c3df8e"
      },
      "source": [
        "type(wb)"
      ],
      "execution_count": null,
      "outputs": [
        {
          "output_type": "execute_result",
          "data": {
            "text/plain": [
              "openpyxl.workbook.workbook.Workbook"
            ]
          },
          "metadata": {},
          "execution_count": 237
        }
      ]
    },
    {
      "cell_type": "code",
      "metadata": {
        "colab": {
          "base_uri": "https://localhost:8080/"
        },
        "id": "8-jTYbP89aQO",
        "outputId": "54e99629-7cd0-4456-b04d-f081ad49cab3"
      },
      "source": [
        "wb.sheetnames"
      ],
      "execution_count": null,
      "outputs": [
        {
          "output_type": "execute_result",
          "data": {
            "text/plain": [
              "['Sheet1', 'Sheet2', 'Sheet3']"
            ]
          },
          "metadata": {},
          "execution_count": 238
        }
      ]
    },
    {
      "cell_type": "code",
      "metadata": {
        "id": "s-MXKTTd9lhj"
      },
      "source": [
        "sheet = wb['Sheet3']"
      ],
      "execution_count": null,
      "outputs": []
    },
    {
      "cell_type": "code",
      "metadata": {
        "colab": {
          "base_uri": "https://localhost:8080/"
        },
        "id": "MZ1Nx41g9qFx",
        "outputId": "a746e4b7-35f1-4c91-9b58-0a4866fab401"
      },
      "source": [
        "type(sheet)"
      ],
      "execution_count": null,
      "outputs": [
        {
          "output_type": "execute_result",
          "data": {
            "text/plain": [
              "openpyxl.worksheet.worksheet.Worksheet"
            ]
          },
          "metadata": {},
          "execution_count": 240
        }
      ]
    },
    {
      "cell_type": "code",
      "metadata": {
        "id": "pWcmXxRs9q9z"
      },
      "source": [
        "sheet = wb.active"
      ],
      "execution_count": null,
      "outputs": []
    },
    {
      "cell_type": "code",
      "metadata": {
        "colab": {
          "base_uri": "https://localhost:8080/",
          "height": 35
        },
        "id": "OJEL5k4O9wAh",
        "outputId": "028d9551-d113-4a02-89c8-30e21cb26cb0"
      },
      "source": [
        "sheet.title"
      ],
      "execution_count": null,
      "outputs": [
        {
          "output_type": "execute_result",
          "data": {
            "application/vnd.google.colaboratory.intrinsic+json": {
              "type": "string"
            },
            "text/plain": [
              "'Sheet1'"
            ]
          },
          "metadata": {},
          "execution_count": 242
        }
      ]
    },
    {
      "cell_type": "code",
      "metadata": {
        "colab": {
          "base_uri": "https://localhost:8080/"
        },
        "id": "sWEJYD_n9wtZ",
        "outputId": "5a2ed14b-8261-4b20-f929-619bced0fca0"
      },
      "source": [
        "sheet['A1']"
      ],
      "execution_count": null,
      "outputs": [
        {
          "output_type": "execute_result",
          "data": {
            "text/plain": [
              "<Cell 'Sheet1'.A1>"
            ]
          },
          "metadata": {},
          "execution_count": 23
        }
      ]
    },
    {
      "cell_type": "code",
      "metadata": {
        "colab": {
          "base_uri": "https://localhost:8080/"
        },
        "id": "xOIH7RBo93Ba",
        "outputId": "c9be3b6f-13d2-40e5-f287-d94ac8107609"
      },
      "source": [
        "sheet['A1'].value"
      ],
      "execution_count": null,
      "outputs": [
        {
          "output_type": "execute_result",
          "data": {
            "text/plain": [
              "datetime.datetime(2015, 4, 5, 13, 34, 2)"
            ]
          },
          "metadata": {},
          "execution_count": 24
        }
      ]
    },
    {
      "cell_type": "code",
      "metadata": {
        "colab": {
          "base_uri": "https://localhost:8080/",
          "height": 35
        },
        "id": "-Wu7isH795HG",
        "outputId": "849190f0-89b0-4a67-ed44-cf12c12b9492"
      },
      "source": [
        "c = sheet['B1']\n",
        "c.value"
      ],
      "execution_count": null,
      "outputs": [
        {
          "output_type": "execute_result",
          "data": {
            "application/vnd.google.colaboratory.intrinsic+json": {
              "type": "string"
            },
            "text/plain": [
              "'Apples'"
            ]
          },
          "metadata": {},
          "execution_count": 26
        }
      ]
    },
    {
      "cell_type": "code",
      "metadata": {
        "colab": {
          "base_uri": "https://localhost:8080/"
        },
        "id": "OwQa2Bbw-BHr",
        "outputId": "12e86a74-f3fb-44b2-a2e9-412805dc6e57"
      },
      "source": [
        "print(f'Row {c.row}, Column {c.column} is {c.value}')"
      ],
      "execution_count": null,
      "outputs": [
        {
          "output_type": "stream",
          "name": "stdout",
          "text": [
            "Row 1, Column B is Apples\n"
          ]
        }
      ]
    },
    {
      "cell_type": "code",
      "metadata": {
        "colab": {
          "base_uri": "https://localhost:8080/"
        },
        "id": "9obmA_hi-YCp",
        "outputId": "d2837d6d-1160-4ab1-cce0-ca67743d2b10"
      },
      "source": [
        "sheet.cell(row=1, column=2)"
      ],
      "execution_count": null,
      "outputs": [
        {
          "output_type": "execute_result",
          "data": {
            "text/plain": [
              "<Cell 'Sheet1'.B1>"
            ]
          },
          "metadata": {},
          "execution_count": 28
        }
      ]
    },
    {
      "cell_type": "code",
      "metadata": {
        "colab": {
          "base_uri": "https://localhost:8080/"
        },
        "id": "rGjgwvM0-oBI",
        "outputId": "5ee630e0-cf88-422d-daec-77a0477d91e4"
      },
      "source": [
        "for i in range(1, 8, 2):\n",
        "  print(i, sheet.cell(row=i, column=2).value)"
      ],
      "execution_count": null,
      "outputs": [
        {
          "output_type": "stream",
          "name": "stdout",
          "text": [
            "1 Apples\n",
            "3 Pears\n",
            "5 Apples\n",
            "7 Strawberries\n"
          ]
        }
      ]
    },
    {
      "cell_type": "markdown",
      "metadata": {
        "id": "SKisrwCy-3e7"
      },
      "source": [
        "Determine size of sheet"
      ]
    },
    {
      "cell_type": "code",
      "metadata": {
        "colab": {
          "base_uri": "https://localhost:8080/"
        },
        "id": "HUoYgC_i-xYK",
        "outputId": "19248c56-9299-45bd-b7e5-4dae0242bc94"
      },
      "source": [
        "sheet.max_row, sheet.max_column"
      ],
      "execution_count": null,
      "outputs": [
        {
          "output_type": "execute_result",
          "data": {
            "text/plain": [
              "(7, 3)"
            ]
          },
          "metadata": {},
          "execution_count": 30
        }
      ]
    },
    {
      "cell_type": "markdown",
      "metadata": {
        "id": "0uRsGMg9-9f_"
      },
      "source": [
        "# Converting between letters and numbers"
      ]
    },
    {
      "cell_type": "code",
      "metadata": {
        "colab": {
          "base_uri": "https://localhost:8080/"
        },
        "id": "83nuao3m-58C",
        "outputId": "ffebf610-1c96-4b63-8708-230056254c05"
      },
      "source": [
        "openpyxl.utils.column_index_from_string('ZZ')"
      ],
      "execution_count": null,
      "outputs": [
        {
          "output_type": "execute_result",
          "data": {
            "text/plain": [
              "702"
            ]
          },
          "metadata": {},
          "execution_count": 31
        }
      ]
    },
    {
      "cell_type": "code",
      "metadata": {
        "colab": {
          "base_uri": "https://localhost:8080/",
          "height": 35
        },
        "id": "7TWBGiWA_CL1",
        "outputId": "49d7fb12-a7cb-43e7-b4bd-a6770e225204"
      },
      "source": [
        "openpyxl.utils.get_column_letter(1254)"
      ],
      "execution_count": null,
      "outputs": [
        {
          "output_type": "execute_result",
          "data": {
            "application/vnd.google.colaboratory.intrinsic+json": {
              "type": "string"
            },
            "text/plain": [
              "'AVF'"
            ]
          },
          "metadata": {},
          "execution_count": 33
        }
      ]
    },
    {
      "cell_type": "markdown",
      "metadata": {
        "id": "e-eSny_e_PiG"
      },
      "source": [
        "# Slicing columns and sheets"
      ]
    },
    {
      "cell_type": "code",
      "metadata": {
        "colab": {
          "base_uri": "https://localhost:8080/"
        },
        "id": "LoH6me9L_IRg",
        "outputId": "57e1b41e-368c-4a94-9be1-d4ba6f8a70c7"
      },
      "source": [
        "sheet['A1':'C3']"
      ],
      "execution_count": null,
      "outputs": [
        {
          "output_type": "execute_result",
          "data": {
            "text/plain": [
              "((<Cell 'Sheet1'.A1>, <Cell 'Sheet1'.B1>, <Cell 'Sheet1'.C1>),\n",
              " (<Cell 'Sheet1'.A2>, <Cell 'Sheet1'.B2>, <Cell 'Sheet1'.C2>),\n",
              " (<Cell 'Sheet1'.A3>, <Cell 'Sheet1'.B3>, <Cell 'Sheet1'.C3>))"
            ]
          },
          "metadata": {},
          "execution_count": 37
        }
      ]
    },
    {
      "cell_type": "code",
      "metadata": {
        "colab": {
          "base_uri": "https://localhost:8080/"
        },
        "id": "CoJlopaC_U61",
        "outputId": "816a2e87-6198-46e0-a405-e5a95902b5fa"
      },
      "source": [
        "for row in sheet['A1':'C3']:\n",
        "  for cell in row:\n",
        "    print(cell.coordinate, cell.value)"
      ],
      "execution_count": null,
      "outputs": [
        {
          "output_type": "stream",
          "name": "stdout",
          "text": [
            "A1 2015-04-05 13:34:02\n",
            "B1 Apples\n",
            "C1 73\n",
            "A2 2015-04-05 03:41:23\n",
            "B2 Cherries\n",
            "C2 85\n",
            "A3 2015-04-06 12:46:51\n",
            "B3 Pears\n",
            "C3 14\n"
          ]
        }
      ]
    },
    {
      "cell_type": "code",
      "metadata": {
        "colab": {
          "base_uri": "https://localhost:8080/"
        },
        "id": "41M4feIN_itQ",
        "outputId": "e9af84e9-3019-4dd8-8ce6-16c24d72bdd8"
      },
      "source": [
        "list(map(lambda x: x.value, list(sheet.columns)[1]))"
      ],
      "execution_count": null,
      "outputs": [
        {
          "output_type": "execute_result",
          "data": {
            "text/plain": [
              "['Apples', 'Cherries', 'Pears', 'Oranges', 'Apples', 'Bananas', 'Strawberries']"
            ]
          },
          "metadata": {},
          "execution_count": 42
        }
      ]
    },
    {
      "cell_type": "markdown",
      "metadata": {
        "id": "TdRSFtIKAoyp"
      },
      "source": [
        "# Project: Reading Data from a Spreadsheet"
      ]
    },
    {
      "cell_type": "code",
      "metadata": {
        "id": "S7DHIFZ3AY7o"
      },
      "source": [
        "wb = openpyxl.load_workbook('materials/censuspopdata.xlsx')"
      ],
      "execution_count": null,
      "outputs": []
    },
    {
      "cell_type": "code",
      "metadata": {
        "colab": {
          "base_uri": "https://localhost:8080/"
        },
        "id": "JcXsgk6xA1fJ",
        "outputId": "2a94ae4f-0694-4609-98d9-1d2ed03400bd"
      },
      "source": [
        "wb.sheetnames"
      ],
      "execution_count": null,
      "outputs": [
        {
          "output_type": "execute_result",
          "data": {
            "text/plain": [
              "['Population by Census Tract']"
            ]
          },
          "metadata": {},
          "execution_count": 48
        }
      ]
    },
    {
      "cell_type": "code",
      "metadata": {
        "id": "BV0rZ8W7BLae"
      },
      "source": [
        "sheet = wb.active"
      ],
      "execution_count": null,
      "outputs": []
    },
    {
      "cell_type": "code",
      "metadata": {
        "colab": {
          "base_uri": "https://localhost:8080/"
        },
        "id": "_pDP3HXaBTao",
        "outputId": "234a3ff3-f199-4a41-b238-df7ca20e7d58"
      },
      "source": [
        "sheet"
      ],
      "execution_count": null,
      "outputs": [
        {
          "output_type": "execute_result",
          "data": {
            "text/plain": [
              "<Worksheet \"Population by Census Tract\">"
            ]
          },
          "metadata": {},
          "execution_count": 51
        }
      ]
    },
    {
      "cell_type": "code",
      "metadata": {
        "colab": {
          "base_uri": "https://localhost:8080/"
        },
        "id": "mL4piM2SBV2U",
        "outputId": "e3bfd932-bd25-4452-fa74-712441f68c92"
      },
      "source": [
        "for i in sheet:\n",
        "  print(list(map(lambda x: x.value, i)))\n",
        "  break"
      ],
      "execution_count": null,
      "outputs": [
        {
          "output_type": "stream",
          "name": "stdout",
          "text": [
            "['CensusTract', 'State', 'County', 'POP2010']\n"
          ]
        }
      ]
    },
    {
      "cell_type": "code",
      "metadata": {
        "id": "5p9QaqgOBcex"
      },
      "source": [
        "from collections import defaultdict\n",
        "import json\n",
        "\n",
        "import openpyxl\n",
        "\n",
        "sheet = openpyxl.load_workbook('materials/censuspopdata.xlsx').active"
      ],
      "execution_count": null,
      "outputs": []
    },
    {
      "cell_type": "code",
      "metadata": {
        "id": "6RCSz0c7CRBe"
      },
      "source": [
        "county_data = defaultdict(lambda: defaultdict(lambda: defaultdict(int)))\n",
        "rows = iter(sheet)\n",
        "next(rows)\n",
        "for tract, state, county, population in rows:\n",
        "  county_data[state.value][county.value]['population'] += population.value\n",
        "  county_data[state.value][county.value]['tracts'] += 1\n",
        "with open('country_data.json', 'w') as f:\n",
        "  f.write(json.dumps(county_data, indent=4))"
      ],
      "execution_count": null,
      "outputs": []
    },
    {
      "cell_type": "code",
      "metadata": {
        "colab": {
          "base_uri": "https://localhost:8080/"
        },
        "id": "GwHsVoHcD945",
        "outputId": "60879e5b-6310-4228-d8a6-c946fd6c73ad"
      },
      "source": [
        "!cat country_data.json | head -n 20"
      ],
      "execution_count": null,
      "outputs": [
        {
          "output_type": "stream",
          "name": "stdout",
          "text": [
            "{\n",
            "    \"AL\": {\n",
            "        \"Autauga\": {\n",
            "            \"population\": 54571,\n",
            "            \"tracts\": 12\n",
            "        },\n",
            "        \"Baldwin\": {\n",
            "            \"population\": 182265,\n",
            "            \"tracts\": 31\n",
            "        },\n",
            "        \"Barbour\": {\n",
            "            \"population\": 27457,\n",
            "            \"tracts\": 9\n",
            "        },\n",
            "        \"Bibb\": {\n",
            "            \"population\": 22915,\n",
            "            \"tracts\": 4\n",
            "        },\n",
            "        \"Blount\": {\n",
            "            \"population\": 57322,\n"
          ]
        }
      ]
    },
    {
      "cell_type": "code",
      "metadata": {
        "colab": {
          "base_uri": "https://localhost:8080/"
        },
        "id": "UkctKlxHF8vz",
        "outputId": "e0f9ecae-7960-4fa6-e279-1a0a0f12d265"
      },
      "source": [
        "county_data['AK']['Anchorage']['population']"
      ],
      "execution_count": null,
      "outputs": [
        {
          "output_type": "execute_result",
          "data": {
            "text/plain": [
              "291826"
            ]
          },
          "metadata": {},
          "execution_count": 79
        }
      ]
    },
    {
      "cell_type": "markdown",
      "metadata": {
        "id": "hJ27SzH7G66D"
      },
      "source": [
        "# Writing Excel Documents"
      ]
    },
    {
      "cell_type": "code",
      "metadata": {
        "id": "_Q9oIzyDGx6X"
      },
      "source": [
        "wb = openpyxl.Workbook()"
      ],
      "execution_count": null,
      "outputs": []
    },
    {
      "cell_type": "code",
      "metadata": {
        "colab": {
          "base_uri": "https://localhost:8080/"
        },
        "id": "1fvQWc5pHD-a",
        "outputId": "0ed60380-315e-4d70-ee48-f47603a97f68"
      },
      "source": [
        "wb.sheetnames"
      ],
      "execution_count": null,
      "outputs": [
        {
          "output_type": "execute_result",
          "data": {
            "text/plain": [
              "['Sheet']"
            ]
          },
          "metadata": {},
          "execution_count": 81
        }
      ]
    },
    {
      "cell_type": "code",
      "metadata": {
        "id": "R9r35mC0HErO"
      },
      "source": [
        "sheet = wb.active"
      ],
      "execution_count": null,
      "outputs": []
    },
    {
      "cell_type": "code",
      "metadata": {
        "id": "M9_FQ9bVHFuu"
      },
      "source": [
        "sheet.title = 'A Great Sheet'"
      ],
      "execution_count": null,
      "outputs": []
    },
    {
      "cell_type": "code",
      "metadata": {
        "colab": {
          "base_uri": "https://localhost:8080/"
        },
        "id": "5KFuegd1HH1e",
        "outputId": "5382c1d8-20ce-4e39-876a-6403c659fbfe"
      },
      "source": [
        "sheet"
      ],
      "execution_count": null,
      "outputs": [
        {
          "output_type": "execute_result",
          "data": {
            "text/plain": [
              "<Worksheet \"A Great Sheet\">"
            ]
          },
          "metadata": {},
          "execution_count": 85
        }
      ]
    },
    {
      "cell_type": "code",
      "metadata": {
        "id": "wwALrc-eHKcz"
      },
      "source": [
        "wb.save('my_workbook.xlsx')"
      ],
      "execution_count": null,
      "outputs": []
    },
    {
      "cell_type": "code",
      "metadata": {
        "colab": {
          "base_uri": "https://localhost:8080/"
        },
        "id": "0Yw_qqa4JBdH",
        "outputId": "2f5428e3-fa85-4bbc-d0e0-d50db450eb4d"
      },
      "source": [
        "wb.create_sheet(index=0, title='First sheet')"
      ],
      "execution_count": null,
      "outputs": [
        {
          "output_type": "execute_result",
          "data": {
            "text/plain": [
              "<Worksheet \"First sheet\">"
            ]
          },
          "metadata": {},
          "execution_count": 88
        }
      ]
    },
    {
      "cell_type": "code",
      "metadata": {
        "colab": {
          "base_uri": "https://localhost:8080/"
        },
        "id": "Nyp8PiL0JUpx",
        "outputId": "c5f32b50-f933-4b92-a8fc-6b096710bc02"
      },
      "source": [
        "wb.sheetnames"
      ],
      "execution_count": null,
      "outputs": [
        {
          "output_type": "execute_result",
          "data": {
            "text/plain": [
              "['First sheet', 'A Great Sheet']"
            ]
          },
          "metadata": {},
          "execution_count": 89
        }
      ]
    },
    {
      "cell_type": "code",
      "metadata": {
        "colab": {
          "base_uri": "https://localhost:8080/"
        },
        "id": "wQqATdi7JW4T",
        "outputId": "5c02432d-2bb1-41bb-c638-08194749b678"
      },
      "source": [
        "wb.create_sheet()"
      ],
      "execution_count": null,
      "outputs": [
        {
          "output_type": "execute_result",
          "data": {
            "text/plain": [
              "<Worksheet \"Sheet\">"
            ]
          },
          "metadata": {},
          "execution_count": 90
        }
      ]
    },
    {
      "cell_type": "code",
      "metadata": {
        "id": "o5s9icqvJcYH"
      },
      "source": [
        "bad = wb.create_sheet()"
      ],
      "execution_count": null,
      "outputs": []
    },
    {
      "cell_type": "code",
      "metadata": {
        "colab": {
          "base_uri": "https://localhost:8080/"
        },
        "id": "ABLR1lvYJeRk",
        "outputId": "88f0eb23-55ed-452e-d8fa-12eae2cb4201"
      },
      "source": [
        "wb.sheetnames"
      ],
      "execution_count": null,
      "outputs": [
        {
          "output_type": "execute_result",
          "data": {
            "text/plain": [
              "['First sheet', 'A Great Sheet', 'Sheet', 'Sheet1']"
            ]
          },
          "metadata": {},
          "execution_count": 92
        }
      ]
    },
    {
      "cell_type": "code",
      "metadata": {
        "id": "FjTM2AQkJfW0"
      },
      "source": [
        "del wb['Sheet']\n",
        "del wb['Sheet1']"
      ],
      "execution_count": null,
      "outputs": []
    },
    {
      "cell_type": "code",
      "metadata": {
        "colab": {
          "base_uri": "https://localhost:8080/"
        },
        "id": "H1AzPF0iJgon",
        "outputId": "933a55b6-88b9-477e-9276-4839dce630f4"
      },
      "source": [
        "wb.sheetnames"
      ],
      "execution_count": null,
      "outputs": [
        {
          "output_type": "execute_result",
          "data": {
            "text/plain": [
              "['First sheet', 'A Great Sheet']"
            ]
          },
          "metadata": {},
          "execution_count": 97
        }
      ]
    },
    {
      "cell_type": "code",
      "metadata": {
        "id": "CqlLePEiJhPv"
      },
      "source": [
        "sheet['A1'] = 'Hello, World!'"
      ],
      "execution_count": null,
      "outputs": []
    },
    {
      "cell_type": "code",
      "metadata": {
        "colab": {
          "base_uri": "https://localhost:8080/",
          "height": 35
        },
        "id": "j-xAXsVpJt-C",
        "outputId": "47f680aa-cc30-4b0c-edaa-1f4fcedb3463"
      },
      "source": [
        "sheet['A1'].value"
      ],
      "execution_count": null,
      "outputs": [
        {
          "output_type": "execute_result",
          "data": {
            "application/vnd.google.colaboratory.intrinsic+json": {
              "type": "string"
            },
            "text/plain": [
              "'Hello, World!'"
            ]
          },
          "metadata": {},
          "execution_count": 99
        }
      ]
    },
    {
      "cell_type": "code",
      "metadata": {
        "id": "Ch0WdL0lJwD0"
      },
      "source": [
        "wb.save('my_workbook.xlsx')"
      ],
      "execution_count": null,
      "outputs": []
    },
    {
      "cell_type": "markdown",
      "metadata": {
        "id": "gDv9vj-wJ-SM"
      },
      "source": [
        "# Project: Updating a Spreadsheet"
      ]
    },
    {
      "cell_type": "code",
      "metadata": {
        "id": "IiTsQgqtJ51S"
      },
      "source": [
        "import openpyxl\n",
        "\n",
        "wb = openpyxl.load_workbook('materials/produceSales.xlsx')"
      ],
      "execution_count": null,
      "outputs": []
    },
    {
      "cell_type": "code",
      "metadata": {
        "colab": {
          "base_uri": "https://localhost:8080/"
        },
        "id": "sv7wXK09KSG2",
        "outputId": "17af1cfe-9e10-4203-8b4a-9cf1df50de81"
      },
      "source": [
        "wb.sheetnames"
      ],
      "execution_count": null,
      "outputs": [
        {
          "output_type": "execute_result",
          "data": {
            "text/plain": [
              "['Sheet']"
            ]
          },
          "metadata": {},
          "execution_count": 114
        }
      ]
    },
    {
      "cell_type": "code",
      "metadata": {
        "id": "sXz8c_f2Kd12"
      },
      "source": [
        "sheet = wb.active"
      ],
      "execution_count": null,
      "outputs": []
    },
    {
      "cell_type": "code",
      "metadata": {
        "colab": {
          "base_uri": "https://localhost:8080/"
        },
        "id": "AmDNQljrKfxC",
        "outputId": "69c8d272-13f5-4388-ae0d-53aff026201d"
      },
      "source": [
        "print([cell.value for cell in next(sheet.rows)])"
      ],
      "execution_count": null,
      "outputs": [
        {
          "output_type": "stream",
          "name": "stdout",
          "text": [
            "['PRODUCE', 'COST PER POUND', 'POUNDS SOLD', 'TOTAL']\n"
          ]
        }
      ]
    },
    {
      "cell_type": "markdown",
      "metadata": {
        "id": "RqaWomGkK9oh"
      },
      "source": [
        "Update with new prices:\n",
        "\n",
        "Celery = 1.19\n",
        "\n",
        "Garlic = 3.07\n",
        "\n",
        "Lemon = 1.27"
      ]
    },
    {
      "cell_type": "code",
      "metadata": {
        "id": "33u_1l20Ks0_"
      },
      "source": [
        "for i, (name, *_) in enumerate(sheet, start=1):\n",
        "  if name.value == 'Celery':\n",
        "    sheet[f'B{i}'] = 1.19\n",
        "  elif name.value == 'Garlic':\n",
        "    sheet[f'B{i}'] = 3.07\n",
        "  elif name.value == 'Lemon':\n",
        "    sheet[f'B{i}'] = 1.27"
      ],
      "execution_count": null,
      "outputs": []
    },
    {
      "cell_type": "code",
      "metadata": {
        "id": "ronrUOvjLlUt"
      },
      "source": [
        "wb.save('updated_produce.xlsx')"
      ],
      "execution_count": null,
      "outputs": []
    },
    {
      "cell_type": "markdown",
      "metadata": {
        "id": "sDf7pvE1NIHe"
      },
      "source": [
        "# Setting Font"
      ]
    },
    {
      "cell_type": "code",
      "metadata": {
        "id": "rycSX6bVM2xI"
      },
      "source": [
        "from openpyxl.styles import Font\n",
        "\n",
        "wb = openpyxl.Workbook()\n",
        "\n",
        "sheet = wb['Sheet']\n",
        "\n",
        "italic24 = Font(size=24, italic=True)\n",
        "\n",
        "sheet['A1'].font = italic24\n",
        "sheet['A1'] = 'Hello, world!'\n",
        "wb.save('styles.xlsx')"
      ],
      "execution_count": null,
      "outputs": []
    },
    {
      "cell_type": "markdown",
      "metadata": {
        "id": "e87PKfXFNoYA"
      },
      "source": [
        "# Formulas"
      ]
    },
    {
      "cell_type": "code",
      "metadata": {
        "id": "ji2EjW-BNiSR"
      },
      "source": [
        "sheet['B9'] = '=SUM(B1:B8)'"
      ],
      "execution_count": null,
      "outputs": []
    },
    {
      "cell_type": "markdown",
      "metadata": {
        "id": "6LSBpT4bN3FY"
      },
      "source": [
        "# Adjusting Row/Columns"
      ]
    },
    {
      "cell_type": "code",
      "metadata": {
        "id": "tpnkIZUeNtbq"
      },
      "source": [
        "sheet.row_dimensions[1].height = 70\n",
        "sheet.column_dimensions['B'].width = 30"
      ],
      "execution_count": null,
      "outputs": []
    },
    {
      "cell_type": "markdown",
      "metadata": {
        "id": "IaFyfVJbOBvi"
      },
      "source": [
        "# Merging"
      ]
    },
    {
      "cell_type": "code",
      "metadata": {
        "id": "FHK1mRs5N-ZJ"
      },
      "source": [
        "sheet.merge_cells('A1:D3')"
      ],
      "execution_count": null,
      "outputs": []
    },
    {
      "cell_type": "markdown",
      "metadata": {
        "id": "ls7vyX1DOLPC"
      },
      "source": [
        "# Freezing Panes"
      ]
    },
    {
      "cell_type": "code",
      "metadata": {
        "id": "6tT7SLnOOHy8"
      },
      "source": [
        "sheet.freeze_panes = 'A1'"
      ],
      "execution_count": null,
      "outputs": []
    },
    {
      "cell_type": "markdown",
      "metadata": {
        "id": "sr6LSE5qOao4"
      },
      "source": [
        "# Charts"
      ]
    },
    {
      "cell_type": "code",
      "metadata": {
        "id": "4-57uMQqOO2R"
      },
      "source": [
        "for i in range(1, 11):\n",
        "  sheet[f'A{i}'] = i"
      ],
      "execution_count": null,
      "outputs": []
    },
    {
      "cell_type": "code",
      "metadata": {
        "id": "ZCcV6PXYPaJt"
      },
      "source": [
        "ref = openpyxl.chart.Reference(sheet, min_col=1, min_row=1, max_col=1, max_row=10)"
      ],
      "execution_count": null,
      "outputs": []
    },
    {
      "cell_type": "code",
      "metadata": {
        "id": "W7wQGUuQPgFb"
      },
      "source": [
        "series = openpyxl.chart.Series(ref, title='FirstSeries')\n",
        "chart = openpyxl.chart.BarChart()\n",
        "chart.title = 'MyChart'\n",
        "chart.append(series)\n",
        "sheet.add_chart(chart, 'C5')"
      ],
      "execution_count": null,
      "outputs": []
    },
    {
      "cell_type": "code",
      "metadata": {
        "id": "zxjV3Tx3Pr2b"
      },
      "source": [
        "wb.save('sample_chart.xlsx')"
      ],
      "execution_count": null,
      "outputs": []
    },
    {
      "cell_type": "markdown",
      "metadata": {
        "id": "fVoJXZarPzj1"
      },
      "source": [
        "# Practice Projects"
      ]
    },
    {
      "cell_type": "markdown",
      "metadata": {
        "id": "AYcY3wriP683"
      },
      "source": [
        "## Multiplication Table"
      ]
    },
    {
      "cell_type": "code",
      "metadata": {
        "colab": {
          "base_uri": "https://localhost:8080/"
        },
        "id": "u7C3c1gvPw4h",
        "outputId": "12e8e85d-c109-4004-f123-caf4911b12ba"
      },
      "source": [
        "%%writefile multiplication_table.py\n",
        "#!/usr/bin/env python\n",
        "\"\"\"Create an NxN multiplication table in an excel spreadsheet.\"\"\"\n",
        "import argparse\n",
        "\n",
        "import openpyxl\n",
        "\n",
        "\n",
        "def main():\n",
        "  n = get_args().n\n",
        "  workbook = openpyxl.Workbook()\n",
        "  sheet = workbook.active\n",
        "  for row in range(1, n + 1):\n",
        "    for col in range(1, n + 1):\n",
        "      col_letter = openpyxl.utils.get_column_letter(n)\n",
        "      sheet[f'{col_letter}{row}'] = col * row\n",
        "  workbook.save(f'multiplication_table_{n}x{n}.xlsx')  \n",
        "  print(f'Saved as multiplication_table_{n}x{n}.xlsx')\n",
        "\n",
        "\n",
        "def get_args():\n",
        "  \"\"\"Get arguments from command line.\"\"\"\n",
        "  parser = argparse.ArgumentParser(\n",
        "      description = 'Create an NxN multiplication table as an excel spreadsheet'\n",
        "  )\n",
        "  parser.add_argument('n',\n",
        "                      type=int,\n",
        "                      help='Dimensions of the table')\n",
        "  return parser.parse_args()\n",
        "\n",
        "\n",
        "if __name__ == '__main__':\n",
        "  main()\n"
      ],
      "execution_count": null,
      "outputs": [
        {
          "output_type": "stream",
          "name": "stdout",
          "text": [
            "Overwriting multiplication_table.py\n"
          ]
        }
      ]
    },
    {
      "cell_type": "code",
      "metadata": {
        "id": "Nfki1eY1UEHU"
      },
      "source": [
        "!chmod +x multiplication_table.py"
      ],
      "execution_count": null,
      "outputs": []
    },
    {
      "cell_type": "code",
      "metadata": {
        "colab": {
          "base_uri": "https://localhost:8080/"
        },
        "id": "BAljhK0oUAhs",
        "outputId": "0b4438c6-20ba-41cd-e7d4-6f3e304e6118"
      },
      "source": [
        "!./multiplication_table.py 5"
      ],
      "execution_count": null,
      "outputs": [
        {
          "output_type": "stream",
          "name": "stdout",
          "text": [
            "Saved as multiplication_table_5x5.xlsx\n"
          ]
        }
      ]
    },
    {
      "cell_type": "markdown",
      "metadata": {
        "id": "UqW1FAsmUQxU"
      },
      "source": [
        "## Blank Row Inserter"
      ]
    },
    {
      "cell_type": "code",
      "metadata": {
        "colab": {
          "base_uri": "https://localhost:8080/"
        },
        "id": "qCZTu-hTUCXS",
        "outputId": "91216f4c-e42c-4d9e-ada9-de0d4e8b7a44"
      },
      "source": [
        "%%writefile blank_row_inserter.py\n",
        "#!/usr/bin/env python\n",
        "\"\"\"Inserts M blank rows after row N in a spreadsheet.\"\"\"\n",
        "import argparse\n",
        "\n",
        "import openpyxl\n",
        "\n",
        "\n",
        "def main():\n",
        "  args = get_args()\n",
        "  workbook = openpyxl.load_workbook(args.file)\n",
        "  new_workbook = openpyxl.Workbook()\n",
        "  del new_workbook['Sheet']\n",
        "  for sheet in workbook.sheetnames:\n",
        "    old_sheet = workbook[sheet]\n",
        "    new_sheet = new_workbook.create_sheet(title=sheet)\n",
        "    shift_sheet(old_sheet, new_sheet, args.n, args.m)\n",
        "  output_name = args.file.split('.xlsx')[0] + '_shifted.xlsx'\n",
        "  new_workbook.save(output_name)  \n",
        "  print(f'Saved as {output_name}')\n",
        "\n",
        "\n",
        "def get_args():\n",
        "  \"\"\"Get arguments from command line.\"\"\"\n",
        "  parser = argparse.ArgumentParser(\n",
        "      description = 'Inserts M blank rows after row N in a spreadsheet.'\n",
        "  )\n",
        "  parser.add_argument('n',\n",
        "                      type=int,\n",
        "                      help='Insertion row')\n",
        "  parser.add_argument('m',\n",
        "                      type=int,\n",
        "                      help='Number of rows to insert')\n",
        "  parser.add_argument('file',\n",
        "                      help='File to modify')\n",
        "  return parser.parse_args()\n",
        "\n",
        "\n",
        "def shift_sheet(old_sheet, new_sheet, n, m):\n",
        "  \"\"\"Copy the old sheet data to the new sheet and shift the rows\n",
        "  after row n by m blank rows.\"\"\"\n",
        "  for row in old_sheet:\n",
        "    shift = 0\n",
        "    if row[0].row > n:\n",
        "      shift = m\n",
        "    for cell in row:\n",
        "      new_sheet.cell(row=cell.row + shift,\n",
        "                     column=cell.col_idx,\n",
        "                     value=cell.value)\n",
        "\n",
        "\n",
        "if __name__ == '__main__':\n",
        "  main()\n"
      ],
      "execution_count": null,
      "outputs": [
        {
          "output_type": "stream",
          "name": "stdout",
          "text": [
            "Overwriting blank_row_inserter.py\n"
          ]
        }
      ]
    },
    {
      "cell_type": "code",
      "metadata": {
        "id": "KkDNNbQQVBMr"
      },
      "source": [
        "!chmod +x blank_row_inserter.py"
      ],
      "execution_count": null,
      "outputs": []
    },
    {
      "cell_type": "code",
      "metadata": {
        "colab": {
          "base_uri": "https://localhost:8080/"
        },
        "id": "KB0mmEOCVKOC",
        "outputId": "7ac822e7-8303-4ba7-f0d8-f5cd42bdd259"
      },
      "source": [
        "!./blank_row_inserter.py 4 10 materials/produceSales.xlsx"
      ],
      "execution_count": null,
      "outputs": [
        {
          "output_type": "stream",
          "name": "stdout",
          "text": [
            "Saved as materials/produceSales_shifted.xlsx\n"
          ]
        }
      ]
    },
    {
      "cell_type": "markdown",
      "metadata": {
        "id": "tmo9C4siahua"
      },
      "source": [
        "## Spreadsheet Cell Inverter"
      ]
    },
    {
      "cell_type": "code",
      "metadata": {
        "colab": {
          "base_uri": "https://localhost:8080/"
        },
        "id": "bCGFoTU9Wdr8",
        "outputId": "8dc76058-d64b-4084-d89c-a979a26f478c"
      },
      "source": [
        "%%writefile cell_inverter.py\n",
        "#!/usr/bin/env python\n",
        "\"\"\"Transpose a spreadsheet.\"\"\"\n",
        "import argparse\n",
        "\n",
        "import openpyxl\n",
        "\n",
        "\n",
        "def main():\n",
        "  file = get_args().file\n",
        "  workbook = openpyxl.load_workbook(file)\n",
        "  new_workbook = openpyxl.Workbook()\n",
        "  del new_workbook['Sheet']\n",
        "  for sheet in workbook.sheetnames:\n",
        "    old_sheet = workbook[sheet]\n",
        "    new_sheet = new_workbook.create_sheet(title=sheet)\n",
        "    transpose_sheet(old_sheet, new_sheet)\n",
        "  output_name = file.split('.xlsx')[0] + '_transposed.xlsx'\n",
        "  new_workbook.save(output_name)  \n",
        "  print(f'Saved as {output_name}')\n",
        "\n",
        "\n",
        "def get_args():\n",
        "  \"\"\"Get arguments from command line.\"\"\"\n",
        "  parser = argparse.ArgumentParser(\n",
        "      description = 'Transpose a spreadsheet'\n",
        "  )\n",
        "  parser.add_argument('file',\n",
        "                      help='File to modify')\n",
        "  return parser.parse_args()\n",
        "\n",
        "\n",
        "def transpose_sheet(old_sheet, new_sheet):\n",
        "  \"\"\"Transpose the sheet.\"\"\"\n",
        "  for row in old_sheet:\n",
        "    for cell in row:\n",
        "      new_sheet.cell(row=cell.col_idx,\n",
        "                     column=cell.row,\n",
        "                     value=cell.value)\n",
        "\n",
        "\n",
        "if __name__ == '__main__':\n",
        "  main()\n"
      ],
      "execution_count": null,
      "outputs": [
        {
          "output_type": "stream",
          "name": "stdout",
          "text": [
            "Overwriting cell_inverter.py\n"
          ]
        }
      ]
    },
    {
      "cell_type": "code",
      "metadata": {
        "id": "GXD8DDarWigP"
      },
      "source": [
        "!chmod +x cell_inverter.py"
      ],
      "execution_count": null,
      "outputs": []
    },
    {
      "cell_type": "code",
      "metadata": {
        "colab": {
          "base_uri": "https://localhost:8080/"
        },
        "id": "TCMRE7SYX-66",
        "outputId": "2a6d6fe3-9bf3-47ac-9dce-800ea2713506"
      },
      "source": [
        "!./cell_inverter.py materials/example.xlsx"
      ],
      "execution_count": null,
      "outputs": [
        {
          "output_type": "stream",
          "name": "stdout",
          "text": [
            "Saved as materials/example_transposed.xlsx\n"
          ]
        }
      ]
    },
    {
      "cell_type": "markdown",
      "metadata": {
        "id": "2LZtDKaocULP"
      },
      "source": [
        "## Text Files to Spreadsheet"
      ]
    },
    {
      "cell_type": "code",
      "metadata": {
        "colab": {
          "base_uri": "https://localhost:8080/"
        },
        "id": "Vlnbo2PdYD7m",
        "outputId": "62bab562-7813-418b-8fe2-c7c146b0492c"
      },
      "source": [
        "%%writefile names.txt\n",
        "agatha\n",
        "clarence\n",
        "simon\n",
        "priscilla"
      ],
      "execution_count": null,
      "outputs": [
        {
          "output_type": "stream",
          "name": "stdout",
          "text": [
            "Writing names.txt\n"
          ]
        }
      ]
    },
    {
      "cell_type": "code",
      "metadata": {
        "colab": {
          "base_uri": "https://localhost:8080/"
        },
        "id": "v9v97Vzfci9v",
        "outputId": "9077fb2e-7920-4dc4-d21d-cd021c7bcf80"
      },
      "source": [
        "%%writefile states.txt\n",
        "wy\n",
        "ak\n",
        "nd\n",
        "fl"
      ],
      "execution_count": null,
      "outputs": [
        {
          "output_type": "stream",
          "name": "stdout",
          "text": [
            "Writing states.txt\n"
          ]
        }
      ]
    },
    {
      "cell_type": "code",
      "metadata": {
        "colab": {
          "base_uri": "https://localhost:8080/"
        },
        "id": "I6ici61Gcpk9",
        "outputId": "cf85ed62-e804-4b3f-cf19-93967ffbcd9a"
      },
      "source": [
        "%%writefile costumes.txt\n",
        "dentist\n",
        "ninja\n",
        "cowboy\n",
        "astronaut"
      ],
      "execution_count": null,
      "outputs": [
        {
          "output_type": "stream",
          "name": "stdout",
          "text": [
            "Writing costumes.txt\n"
          ]
        }
      ]
    },
    {
      "cell_type": "code",
      "metadata": {
        "colab": {
          "base_uri": "https://localhost:8080/"
        },
        "id": "AOdJyVQ7c4fo",
        "outputId": "d6042529-8c71-499f-b57e-7fabb28e85f7"
      },
      "source": [
        "%%writefile txts_to_xlsx.py\n",
        "#!/usr/bin/env python\n",
        "\"\"\"Converts a set of txt files into a spreadsheet.\"\"\"\n",
        "import argparse\n",
        "\n",
        "import openpyxl\n",
        "\n",
        "\n",
        "def main():\n",
        "  args = get_args()\n",
        "  workbook = openpyxl.Workbook()\n",
        "  sheet = workbook.active\n",
        "  col_names = tuple(file.name.split('.txt')[0] for file in args.text_files)\n",
        "  data = [col_names] + list(zip(*args.text_files))\n",
        "  for i, row in enumerate(data, start=1):\n",
        "    for j, cell in enumerate(row, start=1):\n",
        "      sheet.cell(row=i,\n",
        "                 column=j,\n",
        "                 value=cell)\n",
        "  workbook.save(args.output)  \n",
        "  print(f'Saved as {args.output}')\n",
        "\n",
        "\n",
        "def get_args():\n",
        "  \"\"\"Get arguments from command line.\"\"\"\n",
        "  parser = argparse.ArgumentParser(\n",
        "      description = 'Transpose a spreadsheet'\n",
        "  )\n",
        "  parser.add_argument('text_files',\n",
        "                      type=argparse.FileType('r'),\n",
        "                      nargs='+',\n",
        "                      help='txt files to compile into a spreadsheet'),\n",
        "  parser.add_argument('-o',\n",
        "                      '--output',\n",
        "                      help='Output xlsx file')\n",
        "  return parser.parse_args()\n",
        "\n",
        "\n",
        "if __name__ == '__main__':\n",
        "  main()\n"
      ],
      "execution_count": null,
      "outputs": [
        {
          "output_type": "stream",
          "name": "stdout",
          "text": [
            "Overwriting txts_to_xlsx.py\n"
          ]
        }
      ]
    },
    {
      "cell_type": "code",
      "metadata": {
        "id": "NSXPi4x1dsRf"
      },
      "source": [
        "!chmod +x txts_to_xlsx.py"
      ],
      "execution_count": null,
      "outputs": []
    },
    {
      "cell_type": "code",
      "metadata": {
        "colab": {
          "base_uri": "https://localhost:8080/"
        },
        "id": "qaI5scWydw-l",
        "outputId": "84225af8-f25e-4b70-cdc0-2eeff153f447"
      },
      "source": [
        "!./txts_to_xlsx.py names.txt states.txt costumes.txt -o output.xlsx"
      ],
      "execution_count": null,
      "outputs": [
        {
          "output_type": "stream",
          "name": "stdout",
          "text": [
            "Saved as output.xlsx\n"
          ]
        }
      ]
    },
    {
      "cell_type": "markdown",
      "metadata": {
        "id": "QlCvqwbNg691"
      },
      "source": [
        "## Spreadsheet to text files"
      ]
    },
    {
      "cell_type": "code",
      "metadata": {
        "colab": {
          "base_uri": "https://localhost:8080/"
        },
        "id": "lT91NyEFeTlw",
        "outputId": "63175e0d-0ae6-4e12-868d-f6d0ff25e57c"
      },
      "source": [
        "%%writefile xlsx_to_txts.py\n",
        "#!/usr/bin/env python\n",
        "\"\"\"Converts a spreadsheet into a set of text files.\"\"\"\n",
        "import argparse\n",
        "from pathlib import Path\n",
        "\n",
        "import openpyxl\n",
        "\n",
        "\n",
        "def main():\n",
        "  file = get_args().file\n",
        "  workbook = openpyxl.load_workbook(file)\n",
        "  sheet = workbook.active\n",
        "  dirname = Path(file.split('.xlsx')[0] + '_txt_files')\n",
        "  dirname.mkdir(exist_ok=True)\n",
        "\n",
        "  rows = sheet.values\n",
        "  names = next(rows)\n",
        "\n",
        "  for name, col in zip(names, zip(*rows)):\n",
        "    with open(dirname / (name + '.txt'), 'w') as file:\n",
        "      file.write(''.join(col))\n",
        "\n",
        "  print(f'Saved txt files in {dirname}')\n",
        "\n",
        "\n",
        "def get_args():\n",
        "  \"\"\"Get arguments from command line.\"\"\"\n",
        "  parser = argparse.ArgumentParser(\n",
        "      description = 'Transpose a spreadsheet'\n",
        "  )\n",
        "  parser.add_argument('file',\n",
        "                      help='.xlsx file to convert')\n",
        "  return parser.parse_args()\n",
        "\n",
        "\n",
        "if __name__ == '__main__':\n",
        "  main()\n"
      ],
      "execution_count": null,
      "outputs": [
        {
          "output_type": "stream",
          "name": "stdout",
          "text": [
            "Overwriting xlsx_to_txts.py\n"
          ]
        }
      ]
    },
    {
      "cell_type": "code",
      "metadata": {
        "id": "cD-YwXpBhkQg"
      },
      "source": [
        "!chmod +x xlsx_to_txts.py"
      ],
      "execution_count": null,
      "outputs": []
    },
    {
      "cell_type": "code",
      "metadata": {
        "colab": {
          "base_uri": "https://localhost:8080/"
        },
        "id": "yPnWoPBjhm7u",
        "outputId": "cb2cffd9-9f17-4968-8c89-fd9fe171244b"
      },
      "source": [
        "!./xlsx_to_txts.py output.xlsx"
      ],
      "execution_count": null,
      "outputs": [
        {
          "output_type": "stream",
          "name": "stdout",
          "text": [
            "Saved txt files in output_txt_files\n"
          ]
        }
      ]
    },
    {
      "cell_type": "code",
      "metadata": {
        "colab": {
          "base_uri": "https://localhost:8080/"
        },
        "id": "P3bfGee6hpaX",
        "outputId": "3454ddc2-e1ee-4e19-956a-cd10aec89cc5"
      },
      "source": [
        "!cat output_txt_files/names.txt"
      ],
      "execution_count": null,
      "outputs": [
        {
          "output_type": "stream",
          "name": "stdout",
          "text": [
            "agatha\n",
            "clarence\n",
            "simon\n",
            "priscilla"
          ]
        }
      ]
    }
  ]
}