{
  "nbformat": 4,
  "nbformat_minor": 0,
  "metadata": {
    "colab": {
      "name": "11_Debugging.ipynb",
      "provenance": [],
      "collapsed_sections": [],
      "authorship_tag": "ABX9TyMTTlsZcEvB9jPBRNlFShNV",
      "include_colab_link": true
    },
    "kernelspec": {
      "name": "python3",
      "display_name": "Python 3"
    },
    "language_info": {
      "name": "python"
    }
  },
  "cells": [
    {
      "cell_type": "markdown",
      "metadata": {
        "id": "view-in-github",
        "colab_type": "text"
      },
      "source": [
        "<a href=\"https://colab.research.google.com/github/M-110/automate-the-boring-stuff/blob/main/11_Debugging.ipynb\" target=\"_parent\"><img src=\"https://colab.research.google.com/assets/colab-badge.svg\" alt=\"Open In Colab\"/></a>"
      ]
    },
    {
      "cell_type": "markdown",
      "metadata": {
        "id": "UB7J5qdwjR9d"
      },
      "source": [
        "# Logging"
      ]
    },
    {
      "cell_type": "code",
      "metadata": {
        "id": "JIhgUINzjH5o"
      },
      "source": [
        "import logging"
      ],
      "execution_count": null,
      "outputs": []
    },
    {
      "cell_type": "code",
      "metadata": {
        "id": "Pt4VzRm_jURv"
      },
      "source": [
        "logging.basicConfig(level=logging.DEBUG, format=' %(asctime)s -  %(levelname)s -  %(message)s')"
      ],
      "execution_count": null,
      "outputs": []
    },
    {
      "cell_type": "code",
      "metadata": {
        "colab": {
          "base_uri": "https://localhost:8080/"
        },
        "id": "9-klXk4YjeVr",
        "outputId": "e400090e-491b-4c04-cb10-5855507bda62"
      },
      "source": [
        "logging.debug('Starting app')\n",
        "\n",
        "def factorial(n):\n",
        "  logging.debug(f'Starting factorial {n}')\n",
        "  total = 1\n",
        "  for i in range(1, n + 1):\n",
        "    total *= i\n",
        "    logging.debug(f'i={i} total={total}')\n",
        "  logging.debug(f'End of factorial {n}')\n",
        "  return total\n",
        "\n",
        "logging.debug('Calling function')\n",
        "print(factorial(5))\n",
        "logging.debug('Ending app')"
      ],
      "execution_count": null,
      "outputs": [
        {
          "output_type": "stream",
          "name": "stderr",
          "text": [
            " 2021-10-13 21:30:48,030 -  DEBUG -  Starting app\n",
            " 2021-10-13 21:30:48,034 -  DEBUG -  Calling function\n",
            " 2021-10-13 21:30:48,036 -  DEBUG -  Starting factorial 5\n",
            " 2021-10-13 21:30:48,038 -  DEBUG -  i=1 total=1\n",
            " 2021-10-13 21:30:48,040 -  DEBUG -  i=2 total=2\n",
            " 2021-10-13 21:30:48,041 -  DEBUG -  i=3 total=6\n",
            " 2021-10-13 21:30:48,043 -  DEBUG -  i=4 total=24\n",
            " 2021-10-13 21:30:48,044 -  DEBUG -  i=5 total=120\n",
            " 2021-10-13 21:30:48,045 -  DEBUG -  End of factorial 5\n",
            " 2021-10-13 21:30:48,046 -  DEBUG -  Ending app\n"
          ]
        },
        {
          "output_type": "stream",
          "name": "stdout",
          "text": [
            "120\n"
          ]
        }
      ]
    },
    {
      "cell_type": "markdown",
      "metadata": {
        "id": "hKFQc1UTkOuR"
      },
      "source": [
        "## DONT DEBUG WITH PRINT"
      ]
    },
    {
      "cell_type": "code",
      "metadata": {
        "colab": {
          "base_uri": "https://localhost:8080/"
        },
        "id": "tbd89sj6j_3k",
        "outputId": "4fa258d5-862a-4cdc-b578-0d47436d1395"
      },
      "source": [
        "logging.info('Hello')\n",
        "logging.warning('Uh oh')\n",
        "logging.error('Oh no!')\n",
        "logging.critical('💀')"
      ],
      "execution_count": null,
      "outputs": [
        {
          "output_type": "stream",
          "name": "stderr",
          "text": [
            " 2021-10-13 21:32:54,328 -  INFO -  Hello\n",
            " 2021-10-13 21:32:54,332 -  WARNING -  Uh oh\n",
            " 2021-10-13 21:32:54,336 -  ERROR -  Oh no!\n",
            " 2021-10-13 21:32:54,339 -  CRITICAL -  💀\n"
          ]
        }
      ]
    },
    {
      "cell_type": "code",
      "metadata": {
        "colab": {
          "base_uri": "https://localhost:8080/"
        },
        "id": "puIdxIvXkuh2",
        "outputId": "2ad7bae9-6730-4cb6-f33c-2237ab6356e1"
      },
      "source": [
        "logging.disable()\n",
        "factorial(5)"
      ],
      "execution_count": null,
      "outputs": [
        {
          "output_type": "execute_result",
          "data": {
            "text/plain": [
              "120"
            ]
          },
          "metadata": {},
          "execution_count": 10
        }
      ]
    },
    {
      "cell_type": "markdown",
      "metadata": {
        "id": "YSqSRHr6kzD0"
      },
      "source": [
        "## logging to a file\n",
        "\n",
        "Doesn't seem to work on colab"
      ]
    },
    {
      "cell_type": "code",
      "metadata": {
        "id": "TMDjMjnRkbO0"
      },
      "source": [
        "logging.disable(logging.NOTSET)\n",
        "logging.basicConfig(filename='my_log.txt', level=logging.DEBUG, format='%(asctime)s -  %(levelname)s -  %(message)s')"
      ],
      "execution_count": null,
      "outputs": []
    },
    {
      "cell_type": "code",
      "metadata": {
        "colab": {
          "base_uri": "https://localhost:8080/"
        },
        "id": "8ZscRhHBk4Yb",
        "outputId": "94ac3c8c-61ed-4a6e-f30d-38da27677cb2"
      },
      "source": [
        "logging.critical('OH NO')"
      ],
      "execution_count": null,
      "outputs": [
        {
          "output_type": "stream",
          "name": "stderr",
          "text": [
            " 2021-10-13 21:38:50,395 -  CRITICAL -  OH NO\n"
          ]
        }
      ]
    },
    {
      "cell_type": "code",
      "metadata": {
        "id": "OvEb7z7Dk6Vs"
      },
      "source": [
        "a = logging.getLogger('hello')"
      ],
      "execution_count": null,
      "outputs": []
    },
    {
      "cell_type": "code",
      "metadata": {
        "colab": {
          "base_uri": "https://localhost:8080/"
        },
        "id": "F6TuNRzok9_C",
        "outputId": "7f87a4b4-c618-4625-d6f9-1361bb92d8c2"
      },
      "source": [
        "a.critical('OH NO')"
      ],
      "execution_count": null,
      "outputs": [
        {
          "output_type": "stream",
          "name": "stderr",
          "text": [
            " 2021-10-13 21:38:51,370 -  CRITICAL -  OH NO\n"
          ]
        }
      ]
    },
    {
      "cell_type": "markdown",
      "metadata": {
        "id": "9WPWk82fmGVm"
      },
      "source": [
        "# Practice Project"
      ]
    },
    {
      "cell_type": "markdown",
      "metadata": {
        "id": "n8oYtUAlmIfx"
      },
      "source": [
        "## Debugging Coin Toss"
      ]
    },
    {
      "cell_type": "markdown",
      "metadata": {
        "id": "LOFPrEC5mR_r"
      },
      "source": [
        "Initial program"
      ]
    },
    {
      "cell_type": "code",
      "metadata": {
        "colab": {
          "base_uri": "https://localhost:8080/"
        },
        "id": "WaHj9O80l-0P",
        "outputId": "532bd030-9545-4856-8ab5-e30afb12674c"
      },
      "source": [
        "import random\n",
        "guess = ''\n",
        "while guess not in ('heads', 'tails'):\n",
        "    print('Guess the coin toss! Enter heads or tails:')\n",
        "    guess = input()\n",
        "toss = random.randint(0, 1) # 0 is tails, 1 is heads\n",
        "if toss == guess:\n",
        "    print('You got it!')\n",
        "else:\n",
        "    print('Nope! Guess again!')\n",
        "    guesss = input()\n",
        "    if toss == guess:\n",
        "        print('You got it!')\n",
        "    else:\n",
        "        print('Nope. You are really bad at this game.')"
      ],
      "execution_count": null,
      "outputs": [
        {
          "output_type": "stream",
          "name": "stdout",
          "text": [
            "Guess the coin toss! Enter heads or tails:\n",
            "heads\n",
            "Nope! Guess again!\n",
            "tails\n",
            "Nope. You are really bad at this game.\n"
          ]
        }
      ]
    },
    {
      "cell_type": "markdown",
      "metadata": {
        "id": "J0yXT7Qbm1a7"
      },
      "source": [
        "### Add debugging"
      ]
    },
    {
      "cell_type": "code",
      "metadata": {
        "colab": {
          "base_uri": "https://localhost:8080/"
        },
        "id": "_wTcGqEzmTVM",
        "outputId": "b5d33347-c6ea-4b9c-e98e-aae70fb7a1f2"
      },
      "source": [
        "import logging\n",
        "import random\n",
        "\n",
        "guess = ''\n",
        "while guess not in ('heads', 'tails'):\n",
        "    print('Guess the coin toss! Enter heads or tails:')\n",
        "    guess = input()\n",
        "    logging.debug(f'input = {guess}')\n",
        "toss = random.randint(0, 1) # 0 is tails, 1 is heads\n",
        "logging.debug(f'toss = {toss}')\n",
        "if toss == guess:\n",
        "    print('You got it!')\n",
        "else:\n",
        "    print('Nope! Guess again!')\n",
        "    guesss = input()\n",
        "    logging.debug(f'input = {guess}')\n",
        "    if toss == guess:\n",
        "        print('You got it!')\n",
        "    else:\n",
        "        print('Nope. You are really bad at this game.')"
      ],
      "execution_count": null,
      "outputs": [
        {
          "name": "stdout",
          "output_type": "stream",
          "text": [
            "Guess the coin toss! Enter heads or tails:\n",
            "heads\n"
          ]
        },
        {
          "output_type": "stream",
          "name": "stderr",
          "text": [
            " 2021-10-13 21:41:46,580 -  DEBUG -  input = heads\n",
            " 2021-10-13 21:41:46,583 -  DEBUG -  toss = 1\n"
          ]
        },
        {
          "name": "stdout",
          "output_type": "stream",
          "text": [
            "Nope! Guess again!\n",
            "tails\n"
          ]
        },
        {
          "output_type": "stream",
          "name": "stderr",
          "text": [
            " 2021-10-13 21:41:55,635 -  DEBUG -  input = heads\n"
          ]
        },
        {
          "output_type": "stream",
          "name": "stdout",
          "text": [
            "Nope. You are really bad at this game.\n"
          ]
        }
      ]
    },
    {
      "cell_type": "markdown",
      "metadata": {
        "id": "zaVSJ5dmm04J"
      },
      "source": [
        "### fix it"
      ]
    },
    {
      "cell_type": "code",
      "metadata": {
        "colab": {
          "base_uri": "https://localhost:8080/"
        },
        "id": "cpJgOz5Pmp_v",
        "outputId": "872d4b5a-019a-44f5-fc94-e6f8c4e209e0"
      },
      "source": [
        "import logging\n",
        "import random\n",
        "\n",
        "guess = ''\n",
        "while guess not in ('heads', 'tails'):\n",
        "    print('Guess the coin toss! Enter heads or tails:')\n",
        "    guess = input()\n",
        "    logging.debug(f'input = {guess}')\n",
        "toss = random.randint(0, 1) # 0 is tails, 1 is heads\n",
        "toss = 'heads' if toss == 1 else 'tails'\n",
        "logging.debug(f'toss = {toss}')\n",
        "if toss == guess:\n",
        "    print('You got it!')\n",
        "else:\n",
        "    print('Nope! Guess again!')\n",
        "    guess = input()\n",
        "    logging.debug(f'input = {guess}')\n",
        "    if toss == guess:\n",
        "        print('You got it!')\n",
        "    else:\n",
        "        print('Nope. You are really bad at this game.')"
      ],
      "execution_count": null,
      "outputs": [
        {
          "name": "stdout",
          "output_type": "stream",
          "text": [
            "Guess the coin toss! Enter heads or tails:\n",
            "heads\n"
          ]
        },
        {
          "output_type": "stream",
          "name": "stderr",
          "text": [
            " 2021-10-13 21:44:15,334 -  DEBUG -  input = heads\n",
            " 2021-10-13 21:44:15,335 -  DEBUG -  toss = tails\n"
          ]
        },
        {
          "name": "stdout",
          "output_type": "stream",
          "text": [
            "Nope! Guess again!\n",
            "tails\n"
          ]
        },
        {
          "output_type": "stream",
          "name": "stderr",
          "text": [
            " 2021-10-13 21:44:19,156 -  DEBUG -  input = tails\n"
          ]
        },
        {
          "output_type": "stream",
          "name": "stdout",
          "text": [
            "You got it!\n"
          ]
        }
      ]
    }
  ]
}