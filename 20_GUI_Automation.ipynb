{
  "nbformat": 4,
  "nbformat_minor": 0,
  "metadata": {
    "colab": {
      "name": "20_GUI_Automation.ipynb",
      "provenance": [],
      "collapsed_sections": [],
      "authorship_tag": "ABX9TyO7F8Mn/BmBsI8jVYpoCa8G",
      "include_colab_link": true
    },
    "kernelspec": {
      "name": "python3",
      "display_name": "Python 3"
    },
    "language_info": {
      "name": "python"
    }
  },
  "cells": [
    {
      "cell_type": "markdown",
      "metadata": {
        "id": "view-in-github",
        "colab_type": "text"
      },
      "source": [
        "<a href=\"https://colab.research.google.com/github/M-110/automate-the-boring-stuff/blob/main/20_GUI_Automation.ipynb\" target=\"_parent\"><img src=\"https://colab.research.google.com/assets/colab-badge.svg\" alt=\"Open In Colab\"/></a>"
      ]
    },
    {
      "cell_type": "markdown",
      "metadata": {
        "id": "b9a5RK33SsDy"
      },
      "source": [
        "# Colab doesn't have a GUI so these scripts obviously won't work on here."
      ]
    },
    {
      "cell_type": "markdown",
      "metadata": {
        "id": "MERpedcKSp01"
      },
      "source": [
        "# Spiral drawing"
      ]
    },
    {
      "cell_type": "code",
      "metadata": {
        "colab": {
          "base_uri": "https://localhost:8080/"
        },
        "id": "076Rw4d78LXI",
        "outputId": "932df577-fa8d-4f7e-a533-70d25618b572"
      },
      "source": [
        "%%writefile spiral_draw.py\n",
        "#!/usr/bin/env python\n",
        "\"\"\"Use in combination with a paint program to draw a spiral shape.\"\"\"\n",
        "import time\n",
        "\n",
        "import pyautogui\n",
        "\n",
        "\n",
        "def main():\n",
        "    \"\"\"Program begins here.\"\"\"\n",
        "    time.sleep(5)\n",
        "    pyautogui.click()\n",
        "    distance = 300\n",
        "    change = 20\n",
        "    while distance > 0:\n",
        "        pyautogui.drag(distance, 0, duration=0.2)\n",
        "        distance -= change\n",
        "        pyautogui.drag(0, distance, duration=0.2)\n",
        "        pyautogui.drag(-distance, 0, duration=0.2)\n",
        "        distance -= change\n",
        "        pyautogui.drag(0, -distance, duration=0.2)\n",
        "\n",
        "\n",
        "if __name__ == '__main__':\n",
        "    main()\n"
      ],
      "execution_count": null,
      "outputs": [
        {
          "output_type": "stream",
          "name": "stdout",
          "text": [
            "Writing spiral_draw.py\n"
          ]
        }
      ]
    },
    {
      "cell_type": "markdown",
      "metadata": {
        "id": "aXkR4rT9S0Ff"
      },
      "source": [
        "Example result:"
      ]
    },
    {
      "cell_type": "markdown",
      "metadata": {
        "id": "cQWseI2VSjpO"
      },
      "source": [
        "![image.png](data:image/png;base64,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)"
      ]
    },
    {
      "cell_type": "markdown",
      "metadata": {
        "id": "ruDTJ3sHTgAw"
      },
      "source": [
        "# Locate on screen\n",
        "\n"
      ]
    },
    {
      "cell_type": "markdown",
      "metadata": {
        "id": "OAJv_wjrT02q"
      },
      "source": [
        "Using image:\n",
        "\n",
        "![colab.png](data:image/png;base64,iVBORw0KGgoAAAANSUhEUgAAADoAAAAvCAYAAACyoNkAAAAC+UlEQVRoBe2YPWtVQRCGbydI/EggNtpICiHYJNXt7FIGC60sYyF26YJYxMZYKVjZ2NoI4g8QwU47Ef+AXf6C1ZHnwIRh3Z0zc87KId4tlt2zXzPPvrNzl7tYLpfdKpTFKkDC2ED/N6Wbok3Rc5qlW+i20F310H12sNVR3hze6Muj+9vd3b2dvniig7l6veznWeuZM+mOAvPxeLP7/X5RLF9fXu7BAUkdoo+Dsdb/enuht4GtdH3kezQoAJaDuTFUEudo5+ZYfRyqrI/WYVBUGAMJAOrh4FAUWLAonIuOIfAw6KeDze7biythNXBwKiQH8P3kUvfj8dWwsiFQIE8PL/YlCoua3DNLraExIMU+vgypqMfdoA/3bp8ZEWMalnDk3hFWAFEkxEVN6hIMc+UOyx46UWlIsY9PGsZqu0EJFzGg6w9H13qokhFR0ko+cndzewD9+elG1nYkhF2g+3d2s4YAZiznYNon6qaKiorpfP1t2feq6gJ9de9mFpR+7ZDVTgH5Bt5ao8ee7N+a5MMkUO2I1S4lIStk0/1KqnoP2wX67sH1v04zcj9K99MTtho4lye82Xc0KPdTO2G1S4rSb61Lx3KgiJDOy31PAvUmohJoJHRxXmd7aVcFnZoI+In4V8kI33IKpn0uRUuJoMbPi0fVGvZdoJxO7n4A+uX5uvnIJuGgaCkh8RiwMieQ+ukpIUvtTUT47wbNPQF/vl47C0mU4S4CJWDySKCmL30C6mcdThOG2AGOuvT7LbDex0IIlMn6ZDVk7v6lfSiqVdWQ4nikjqgZBmUBIRyFBBo1URXlp0LiA75Eijt0ZdNcCKbqlb6BZP1QSFrKAkloiz/eOgwqG4/5l0A/EMbAen8zxUddjwZlExwn0aRJJlWUu6mNShtlAC5ldFGW+zhGRbFDPQlUbwQ0oSkFOMJUz7HagJB1AZcSyarW3oxVAx0yNPd4A51bgdr2m6K1T3Tu/ZqicytQ235TtPaJzr1fU3RuBWrbb4rWPtG59/sDNyFk/Ux30qIAAAAASUVORK5CYII=)"
      ]
    },
    {
      "cell_type": "markdown",
      "metadata": {
        "id": "lnkwKiLwYN29"
      },
      "source": [
        "locateOnScreen requires Pillow be installed and the confidence keyword requires OpenCV4 be installed."
      ]
    },
    {
      "cell_type": "code",
      "metadata": {
        "id": "xeAHkuEM8xOb"
      },
      "source": [
        "#!/usr/bin/env python\n",
        "\"\"\"Clicks the center of the colab logo if it is on the screen.\"\"\"\n",
        "import pyautogui\n",
        "\n",
        "\n",
        "def main():\n",
        "    \"\"\"Program begins here.\"\"\"\n",
        "    location = pyautogui.locateOnScreen('colab.png', confidence=.9)\n",
        "    if location is not None:\n",
        "        print(\"Clicking image\")\n",
        "        center = pyautogui.center(location)\n",
        "        pyautogui.click(center.x, center.y, interval=0.1)\n",
        "    else:\n",
        "        print(\"Could not find image\")\n",
        "    \n",
        "\n",
        "if __name__ == '__main__':\n",
        "    main()\n"
      ],
      "execution_count": null,
      "outputs": []
    },
    {
      "cell_type": "markdown",
      "metadata": {
        "id": "Wl3Ek-q70wPv"
      },
      "source": [
        "# Project: Automatic Form Filler"
      ]
    },
    {
      "cell_type": "code",
      "metadata": {
        "id": "Qr2HUhPL00PB"
      },
      "source": [
        "%%writefile data.csv\n",
        "Braelyn,Spiders,Wand,5,I think this is a great form\n",
        "Mircea,Snakes,Amulet,3,I'm not a fan of this form\n",
        "Athenodoros,,Wand,4,Woohooo forms!!\n",
        "Aldith,,Money (e.g. Batman),,\n",
        "Madara,Cats,Discount crystal ball,1,"
      ],
      "execution_count": null,
      "outputs": []
    },
    {
      "cell_type": "code",
      "metadata": {
        "id": "slZfmYoA0x0q"
      },
      "source": [
        "%%writefile form_filler.py\n",
        "#!/usr/bin/env python\n",
        "\"\"\"\n",
        "Automate the process of submitting forms on autbor.com/form by retrieving\n",
        "the data from a csv file and using GUI automation to enter in the information\n",
        "\"\"\"\n",
        "import csv\n",
        "import webbrowser\n",
        "\n",
        "import pyautogui\n",
        "\n",
        "\n",
        "FILENAME = 'data.csv'\n",
        "URL = 'https://autbor.com/form'\n",
        "INTERVAL = 0.5\n",
        "LOAD_WAIT = 3\n",
        "POWERS = ['Wand', 'Amulet', 'Discount crystal ball', 'Money (e.g. Batman)']\n",
        "\n",
        "\n",
        "def main():\n",
        "    \"\"\"Programs begins here.\"\"\"\n",
        "    data = get_csv_data()\n",
        "    webbrowser.open(URL)\n",
        "    for name, fear, power, robocop_rating, comments in data:\n",
        "        submit_form(name, fear, power, robocop_rating, comments)\n",
        "        new_form()\n",
        "    print(f'Finished submitting {len(data)} forms')\n",
        "\n",
        "\n",
        "def get_csv_data(filename):\n",
        "    \"\"\"Open and process the data in the given csv file and return a list of\n",
        "    lists representing the data for each individual.\"\"\"\n",
        "    data = []\n",
        "    with open(filename) as file:\n",
        "        csv_reader = csv.reader(file)\n",
        "        for line in csv_reader:\n",
        "            if not line:\n",
        "                continue\n",
        "            name, fear, power, robocop_rating, comments = line\n",
        "            \n",
        "            if fear == '':\n",
        "                fear = None\n",
        "                \n",
        "            if robocop_rating == '':\n",
        "                robocop_rating = None\n",
        "            else:\n",
        "                robocop_rating = int(robocop_rating) - 1\n",
        "                \n",
        "            if comments == '':\n",
        "                comments = None\n",
        "                \n",
        "            power = POWERS.index(power) + 1\n",
        "            data.append([name, fear, power, robocop_rating, comments])\n",
        "    return data\n",
        "                \n",
        "\n",
        "def submit_form(name, fear, power, robocop_rating, comments):\n",
        "    \"\"\"Enter in the given information into the form and submit.\"\"\"\n",
        "    pyautogui.sleep(LOAD_WAIT)\n",
        "    pyautogui.write(['tab'] * 4, INTERVAL)\n",
        "    pyautogui.write(name)\n",
        "    pyautogui.write(['tab'], INTERVAL)\n",
        "    if fear:\n",
        "        pyautogui.write(fear)\n",
        "    pyautogui.write(['tab'] + ['down'] * power + ['enter', 'tab'], INTERVAL)\n",
        "    if robocop_rating:\n",
        "        pyautogui.write(['space'] + ['right'] * robocop_rating + ['tab'], INTERVAL)\n",
        "    pyautogui.write(['tab'], INTERVAL)\n",
        "    if comments:\n",
        "        pyautogui.write(comments)\n",
        "    pyautogui.write(['tab'], INTERVAL)\n",
        "    pyautogui.write(['enter'], INTERVAL)\n",
        "    print(f'Submitted form for {name}')\n",
        "    \n",
        "\n",
        "def new_form():\n",
        "    \"\"\"Click the link to start a new form.\"\"\"\n",
        "    pyautogui.sleep(LOAD_WAIT)\n",
        "    pyautogui.write(['tab', 'enter'], INTERVAL)\n",
        "    \n",
        "    \n",
        "    \n",
        "if __name__ == '__main__':\n",
        "    main()\n"
      ],
      "execution_count": null,
      "outputs": []
    },
    {
      "cell_type": "markdown",
      "metadata": {
        "id": "vdajKmYO4Gg4"
      },
      "source": [
        "# Practice Projects"
      ]
    },
    {
      "cell_type": "markdown",
      "metadata": {
        "id": "ZJ7PXUQW4IZf"
      },
      "source": [
        "## Looking busy"
      ]
    },
    {
      "cell_type": "code",
      "metadata": {
        "id": "hvkvi4B24HSD"
      },
      "source": [
        "#!/usr/bin/env python\n",
        "\"\"\"Slightly move the mouse every 10 minutes to prevent being idle.\"\"\"\n",
        "import pyautogui\n",
        "\n",
        "TEN_MINUTES = 600\n",
        "\n",
        "def main():\n",
        "    \"\"\"\n",
        "    Repeatedly sleep for 10 minutes then move the mouse up and down 1 pixel\n",
        "    \"\"\"\n",
        "    while True:\n",
        "        pyautogui.sleep(TEN_MINUTES)\n",
        "        pyautogui.move(1,0)\n",
        "        pyautogui.move(-1,0)\n",
        "    \n",
        "\n",
        "if __name__ == '__main__':\n",
        "    main()\n",
        "    "
      ],
      "execution_count": null,
      "outputs": []
    },
    {
      "cell_type": "markdown",
      "metadata": {
        "id": "qLKt0PSa4XGN"
      },
      "source": [
        "## Use clipboard to read text"
      ]
    },
    {
      "cell_type": "code",
      "metadata": {
        "id": "bVn_uGcY4abJ"
      },
      "source": [
        "#!/usr/bin/env python\n",
        "\"\"\"Copy text from a notepad and print it out in Python.\"\"\"\n",
        "import pyautogui\n",
        "import pyperclip\n",
        "\n",
        "\n",
        "def main():\n",
        "    \"\"\"Switch to the open notepads window and print the text in it.\"\"\"\n",
        "    previous_window = pyautogui.getActiveWindow()\n",
        "    window = pyautogui.getWindowsWithTitle('notepads')[0]\n",
        "    window.activate()\n",
        "    pyautogui.sleep(.05)\n",
        "    pyautogui.keyDown('ctrl')\n",
        "    pyautogui.write(['a', 'c'])\n",
        "    pyautogui.keyUp('ctrl')\n",
        "    text = pyperclip.paste()\n",
        "    print(text)\n",
        "    previous_window.activate()\n",
        "\n",
        "\n",
        "if __name__ == '__main__':\n",
        "    main()\n"
      ],
      "execution_count": null,
      "outputs": []
    }
  ]
}